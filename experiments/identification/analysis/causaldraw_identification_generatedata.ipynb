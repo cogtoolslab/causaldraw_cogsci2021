{
 "cells": [
  {
   "cell_type": "code",
   "execution_count": 3,
   "metadata": {},
   "outputs": [],
   "source": [
    "import os, sys\n",
    "\n",
    "import pymongo as pm\n",
    "import numpy as np\n",
    "import scipy.stats as stats\n",
    "import pandas as pd\n",
    "import json\n",
    "import re\n",
    "from io import BytesIO\n",
    "from PIL import Image\n",
    "from skimage import io, img_as_float\n",
    "import base64\n",
    "\n",
    "import matplotlib\n",
    "from matplotlib import pylab, mlab, pyplot\n",
    "%matplotlib inline\n",
    "from IPython.core.pylabtools import figsize, getfigs\n",
    "plt = pyplot\n",
    "import seaborn as sns\n",
    "sns.set_context('talk')\n",
    "sns.set_style('white')\n",
    "\n",
    "from IPython.display import clear_output\n",
    "import importlib\n",
    "\n",
    "import utils\n",
    "\n",
    "import warnings\n",
    "warnings.filterwarnings(\"ignore\", category=DeprecationWarning)\n",
    "warnings.filterwarnings(\"ignore\", message=\"numpy.dtype size changed\")\n",
    "warnings.filterwarnings(\"ignore\", message=\"numpy.ufunc size changed\")"
   ]
  },
  {
   "cell_type": "code",
   "execution_count": 4,
   "metadata": {},
   "outputs": [],
   "source": [
    "# directory & file hierarchy\n",
    "proj_dir = os.path.abspath('..')\n",
    "analysis_dir = os.getcwd()\n",
    "results_dir = os.path.join(proj_dir,'results')\n",
    "plot_dir = os.path.join(results_dir,'plots')\n",
    "csv_dir = os.path.join(results_dir,'csv')\n",
    "exp_dir = os.path.abspath(os.path.join(proj_dir,'experiments'))\n",
    "\n",
    "## add helpers to python path\n",
    "if os.path.join(proj_dir,'utils') not in sys.path:\n",
    "    sys.path.append(os.path.join(proj_dir,'utils'))\n",
    "\n",
    "def make_dir_if_not_exists(dir_name):   \n",
    "    if not os.path.exists(dir_name):\n",
    "        os.makedirs(dir_name)\n",
    "    return dir_name\n",
    "\n",
    "## create directories that don't already exist        \n",
    "result = [make_dir_if_not_exists(x) for x in [results_dir,plot_dir,csv_dir]]"
   ]
  },
  {
   "cell_type": "markdown",
   "metadata": {},
   "source": [
    "## establish connection to mongo\n",
    "Establish ssh tunnel to the server, so that requests to the mongodb can be made \"as if\" the mongodb server is running on your local computer. \n",
    "\n",
    "ssh -fNL 27017:127.0.0.1:27017 hhuey@cogtoolslab.org"
   ]
  },
  {
   "cell_type": "code",
   "execution_count": 27,
   "metadata": {},
   "outputs": [],
   "source": [
    "# set vars \n",
    "auth = pd.read_csv(os.path.join(analysis_dir,'auth.txt'), header = None) # this auth.txt file contains the password for the sketchloop user\n",
    "pswd = auth.values[0][0]\n",
    "user = 'sketchloop'\n",
    "host = 'cogtoolslab.org'\n",
    "\n",
    "# have to fix this to be able to analyze from local\n",
    "import pymongo as pm\n",
    "import socket\n",
    "if socket.gethostname().split('_')[0]=='Holly':\n",
    "    conn = pm.MongoClient('mongodb://sketchloop:' + pswd + '@127.0.0.1:27017')\n",
    "else: \n",
    "    conn = pm.MongoClient('mongodb://sketchloop:' + pswd + '@127.0.0.1:27017') \n",
    "db = conn['causaldraw']\n",
    "coll = db['identification']\n",
    "\n",
    "# which iteration name should we use?\n",
    "iterationName = 'pilot2'"
   ]
  },
  {
   "cell_type": "code",
   "execution_count": 28,
   "metadata": {},
   "outputs": [
    {
     "data": {
      "text/plain": [
       "['debugging', 'debugging1', 'debugging2', 'debugging3', 'pilot1', 'pilot2']"
      ]
     },
     "execution_count": 28,
     "metadata": {},
     "output_type": "execute_result"
    }
   ],
   "source": [
    "# what are all the iterationNames in mongo? (use current iteration)\n",
    "coll.find({}).distinct('iterationName')"
   ]
  },
  {
   "cell_type": "code",
   "execution_count": 29,
   "metadata": {
    "scrolled": true
   },
   "outputs": [
    {
     "name": "stdout",
     "output_type": "stream",
     "text": [
      "We have 17712 records in mongo.\n"
     ]
    }
   ],
   "source": [
    "# how many records?\n",
    "print('We have {} records in mongo.'.format(coll.estimated_document_count()))"
   ]
  },
  {
   "cell_type": "markdown",
   "metadata": {},
   "source": [
    "### Generate dataframes"
   ]
  },
  {
   "cell_type": "code",
   "execution_count": 30,
   "metadata": {
    "scrolled": true
   },
   "outputs": [
    {
     "name": "stdout",
     "output_type": "stream",
     "text": [
      "We have 15213 unique label records in all 75 of our games.\n"
     ]
    }
   ],
   "source": [
    "## dump all label records into df (of current iteration)\n",
    "d = coll.find({'iterationName':iterationName, 'eventType':'identification'})\n",
    "D = pd.DataFrame(d)\n",
    "\n",
    "print('We have {} unique label records in all {} of our games.'.format(D.shape[0], D['gameID'].nunique()))"
   ]
  },
  {
   "cell_type": "code",
   "execution_count": 31,
   "metadata": {},
   "outputs": [],
   "source": [
    "# column cleanup\n",
    "D = D.drop(columns=['circle_radius', 'fixation_image', 'fixation_size', 'sketch_size', 'targets', 'target_delay_max', 'target_delay_min', 'targets_size'])"
   ]
  },
  {
   "cell_type": "code",
   "execution_count": 32,
   "metadata": {
    "scrolled": true
   },
   "outputs": [
    {
     "data": {
      "text/html": [
       "<div>\n",
       "<style scoped>\n",
       "    .dataframe tbody tr th:only-of-type {\n",
       "        vertical-align: middle;\n",
       "    }\n",
       "\n",
       "    .dataframe tbody tr th {\n",
       "        vertical-align: top;\n",
       "    }\n",
       "\n",
       "    .dataframe thead th {\n",
       "        text-align: right;\n",
       "    }\n",
       "</style>\n",
       "<table border=\"1\" class=\"dataframe\">\n",
       "  <thead>\n",
       "    <tr style=\"text-align: right;\">\n",
       "      <th></th>\n",
       "      <th>_id</th>\n",
       "      <th>aID</th>\n",
       "      <th>blockNum</th>\n",
       "      <th>browser_height</th>\n",
       "      <th>browser_width</th>\n",
       "      <th>condition</th>\n",
       "      <th>eventType</th>\n",
       "      <th>gameID</th>\n",
       "      <th>hitID</th>\n",
       "      <th>iterationName</th>\n",
       "      <th>...</th>\n",
       "      <th>rt</th>\n",
       "      <th>selectedTarget</th>\n",
       "      <th>sketch_id</th>\n",
       "      <th>sketch_nav</th>\n",
       "      <th>timeSketchPresented</th>\n",
       "      <th>timeTargetClicked</th>\n",
       "      <th>toy_id</th>\n",
       "      <th>trialNum</th>\n",
       "      <th>type</th>\n",
       "      <th>wID</th>\n",
       "    </tr>\n",
       "  </thead>\n",
       "  <tbody>\n",
       "    <tr>\n",
       "      <th>15208</th>\n",
       "      <td>5fab153b9b97fb4be745661c</td>\n",
       "      <td></td>\n",
       "      <td>practice</td>\n",
       "      <td>900</td>\n",
       "      <td>1440</td>\n",
       "      <td>practice</td>\n",
       "      <td>identification</td>\n",
       "      <td>6744-5f12eacf-ed18-4ed4-a3b1-90612679e567</td>\n",
       "      <td></td>\n",
       "      <td>pilot2</td>\n",
       "      <td>...</td>\n",
       "      <td>1576</td>\n",
       "      <td>levers_2</td>\n",
       "      <td>levers_2_practice.png</td>\n",
       "      <td>data/run1/levers_2_practice.png</td>\n",
       "      <td>1.605048e+12</td>\n",
       "      <td>1.60505e+12</td>\n",
       "      <td>levers_2</td>\n",
       "      <td>NaN</td>\n",
       "      <td>jspsych-custom-visual-search</td>\n",
       "      <td></td>\n",
       "    </tr>\n",
       "    <tr>\n",
       "      <th>15209</th>\n",
       "      <td>5fab15429b97fb4be745661d</td>\n",
       "      <td></td>\n",
       "      <td>practice</td>\n",
       "      <td>900</td>\n",
       "      <td>1440</td>\n",
       "      <td>practice</td>\n",
       "      <td>identification</td>\n",
       "      <td>6744-5f12eacf-ed18-4ed4-a3b1-90612679e567</td>\n",
       "      <td></td>\n",
       "      <td>pilot2</td>\n",
       "      <td>...</td>\n",
       "      <td>1948</td>\n",
       "      <td>pulleys_2</td>\n",
       "      <td>pulleys_2_practice.png</td>\n",
       "      <td>data/run1/pulleys_2_practice.png</td>\n",
       "      <td>1.605048e+12</td>\n",
       "      <td>1.60505e+12</td>\n",
       "      <td>pulleys_2</td>\n",
       "      <td>NaN</td>\n",
       "      <td>jspsych-custom-visual-search</td>\n",
       "      <td></td>\n",
       "    </tr>\n",
       "    <tr>\n",
       "      <th>15210</th>\n",
       "      <td>5fab15499b97fb4be745661e</td>\n",
       "      <td></td>\n",
       "      <td>practice</td>\n",
       "      <td>900</td>\n",
       "      <td>1440</td>\n",
       "      <td>practice</td>\n",
       "      <td>identification</td>\n",
       "      <td>6744-5f12eacf-ed18-4ed4-a3b1-90612679e567</td>\n",
       "      <td></td>\n",
       "      <td>pilot2</td>\n",
       "      <td>...</td>\n",
       "      <td>1716</td>\n",
       "      <td>gears_1</td>\n",
       "      <td>gears_1_practice.png</td>\n",
       "      <td>data/run1/gears_1_practice.png</td>\n",
       "      <td>1.605048e+12</td>\n",
       "      <td>1.60505e+12</td>\n",
       "      <td>gears_1</td>\n",
       "      <td>NaN</td>\n",
       "      <td>jspsych-custom-visual-search</td>\n",
       "      <td></td>\n",
       "    </tr>\n",
       "    <tr>\n",
       "      <th>15211</th>\n",
       "      <td>5fab15529b97fb4be745661f</td>\n",
       "      <td></td>\n",
       "      <td>practice</td>\n",
       "      <td>900</td>\n",
       "      <td>1440</td>\n",
       "      <td>practice</td>\n",
       "      <td>identification</td>\n",
       "      <td>6744-5f12eacf-ed18-4ed4-a3b1-90612679e567</td>\n",
       "      <td></td>\n",
       "      <td>pilot2</td>\n",
       "      <td>...</td>\n",
       "      <td>1338</td>\n",
       "      <td>pulleys_1</td>\n",
       "      <td>pulleys_1_practice.png</td>\n",
       "      <td>data/run1/pulleys_1_practice.png</td>\n",
       "      <td>1.605048e+12</td>\n",
       "      <td>1.60505e+12</td>\n",
       "      <td>pulleys_1</td>\n",
       "      <td>NaN</td>\n",
       "      <td>jspsych-custom-visual-search</td>\n",
       "      <td></td>\n",
       "    </tr>\n",
       "    <tr>\n",
       "      <th>15212</th>\n",
       "      <td>5fab15599b97fb4be7456620</td>\n",
       "      <td></td>\n",
       "      <td>practice</td>\n",
       "      <td>900</td>\n",
       "      <td>1440</td>\n",
       "      <td>practice</td>\n",
       "      <td>identification</td>\n",
       "      <td>6744-5f12eacf-ed18-4ed4-a3b1-90612679e567</td>\n",
       "      <td></td>\n",
       "      <td>pilot2</td>\n",
       "      <td>...</td>\n",
       "      <td>2035</td>\n",
       "      <td>gears_2</td>\n",
       "      <td>gears_2_practice.png</td>\n",
       "      <td>data/run1/gears_2_practice.png</td>\n",
       "      <td>1.605048e+12</td>\n",
       "      <td>1.60505e+12</td>\n",
       "      <td>gears_2</td>\n",
       "      <td>NaN</td>\n",
       "      <td>jspsych-custom-visual-search</td>\n",
       "      <td></td>\n",
       "    </tr>\n",
       "  </tbody>\n",
       "</table>\n",
       "<p>5 rows × 24 columns</p>\n",
       "</div>"
      ],
      "text/plain": [
       "                            _id aID  blockNum  browser_height  browser_width  \\\n",
       "15208  5fab153b9b97fb4be745661c      practice             900           1440   \n",
       "15209  5fab15429b97fb4be745661d      practice             900           1440   \n",
       "15210  5fab15499b97fb4be745661e      practice             900           1440   \n",
       "15211  5fab15529b97fb4be745661f      practice             900           1440   \n",
       "15212  5fab15599b97fb4be7456620      practice             900           1440   \n",
       "\n",
       "      condition       eventType                                     gameID  \\\n",
       "15208  practice  identification  6744-5f12eacf-ed18-4ed4-a3b1-90612679e567   \n",
       "15209  practice  identification  6744-5f12eacf-ed18-4ed4-a3b1-90612679e567   \n",
       "15210  practice  identification  6744-5f12eacf-ed18-4ed4-a3b1-90612679e567   \n",
       "15211  practice  identification  6744-5f12eacf-ed18-4ed4-a3b1-90612679e567   \n",
       "15212  practice  identification  6744-5f12eacf-ed18-4ed4-a3b1-90612679e567   \n",
       "\n",
       "      hitID iterationName  ...    rt selectedTarget               sketch_id  \\\n",
       "15208              pilot2  ...  1576       levers_2   levers_2_practice.png   \n",
       "15209              pilot2  ...  1948      pulleys_2  pulleys_2_practice.png   \n",
       "15210              pilot2  ...  1716        gears_1    gears_1_practice.png   \n",
       "15211              pilot2  ...  1338      pulleys_1  pulleys_1_practice.png   \n",
       "15212              pilot2  ...  2035        gears_2    gears_2_practice.png   \n",
       "\n",
       "                             sketch_nav timeSketchPresented timeTargetClicked  \\\n",
       "15208   data/run1/levers_2_practice.png        1.605048e+12       1.60505e+12   \n",
       "15209  data/run1/pulleys_2_practice.png        1.605048e+12       1.60505e+12   \n",
       "15210    data/run1/gears_1_practice.png        1.605048e+12       1.60505e+12   \n",
       "15211  data/run1/pulleys_1_practice.png        1.605048e+12       1.60505e+12   \n",
       "15212    data/run1/gears_2_practice.png        1.605048e+12       1.60505e+12   \n",
       "\n",
       "          toy_id trialNum                          type wID  \n",
       "15208   levers_2      NaN  jspsych-custom-visual-search      \n",
       "15209  pulleys_2      NaN  jspsych-custom-visual-search      \n",
       "15210    gears_1      NaN  jspsych-custom-visual-search      \n",
       "15211  pulleys_1      NaN  jspsych-custom-visual-search      \n",
       "15212    gears_2      NaN  jspsych-custom-visual-search      \n",
       "\n",
       "[5 rows x 24 columns]"
      ]
     },
     "execution_count": 32,
     "metadata": {},
     "output_type": "execute_result"
    }
   ],
   "source": [
    "D.tail()"
   ]
  },
  {
   "cell_type": "code",
   "execution_count": 33,
   "metadata": {
    "scrolled": true
   },
   "outputs": [
    {
     "data": {
      "text/plain": [
       "Index(['_id', 'aID', 'blockNum', 'browser_height', 'browser_width',\n",
       "       'condition', 'eventType', 'gameID', 'hitID', 'iterationName',\n",
       "       'numTrials', 'orig_gameID', 'phase', 'recruitmentPlatform', 'rt',\n",
       "       'selectedTarget', 'sketch_id', 'sketch_nav', 'timeSketchPresented',\n",
       "       'timeTargetClicked', 'toy_id', 'trialNum', 'type', 'wID'],\n",
       "      dtype='object')"
      ]
     },
     "execution_count": 33,
     "metadata": {},
     "output_type": "execute_result"
    }
   ],
   "source": [
    "D.keys()"
   ]
  },
  {
   "cell_type": "code",
   "execution_count": 34,
   "metadata": {},
   "outputs": [
    {
     "data": {
      "text/plain": [
       "75"
      ]
     },
     "execution_count": 34,
     "metadata": {},
     "output_type": "execute_result"
    }
   ],
   "source": [
    "# count participants\n",
    "D['gameID'].nunique()"
   ]
  },
  {
   "cell_type": "code",
   "execution_count": 35,
   "metadata": {},
   "outputs": [],
   "source": [
    "## create dataframe of survey data\n",
    "w = coll.find({'iterationName':iterationName, 'eventType':'survey'})\n",
    "W = pd.DataFrame(w)"
   ]
  },
  {
   "cell_type": "code",
   "execution_count": 36,
   "metadata": {},
   "outputs": [
    {
     "data": {
      "text/html": [
       "<div>\n",
       "<style scoped>\n",
       "    .dataframe tbody tr th:only-of-type {\n",
       "        vertical-align: middle;\n",
       "    }\n",
       "\n",
       "    .dataframe tbody tr th {\n",
       "        vertical-align: top;\n",
       "    }\n",
       "\n",
       "    .dataframe thead th {\n",
       "        text-align: right;\n",
       "    }\n",
       "</style>\n",
       "<table border=\"1\" class=\"dataframe\">\n",
       "  <thead>\n",
       "    <tr style=\"text-align: right;\">\n",
       "      <th></th>\n",
       "      <th>_id</th>\n",
       "      <th>aID</th>\n",
       "      <th>eventType</th>\n",
       "      <th>gameID</th>\n",
       "      <th>hitID</th>\n",
       "      <th>internal_node_id</th>\n",
       "      <th>iterationName</th>\n",
       "      <th>question_order</th>\n",
       "      <th>responses</th>\n",
       "      <th>rt</th>\n",
       "      <th>time_elapsed</th>\n",
       "      <th>trial_index</th>\n",
       "      <th>trial_type</th>\n",
       "      <th>workerId</th>\n",
       "    </tr>\n",
       "  </thead>\n",
       "  <tbody>\n",
       "    <tr>\n",
       "      <th>168</th>\n",
       "      <td>5fa64ced9b97fb4be74564cb</td>\n",
       "      <td></td>\n",
       "      <td>survey</td>\n",
       "      <td>0999-e7327b2c-5527-4703-99b0-5337a33523e7</td>\n",
       "      <td></td>\n",
       "      <td>0.0-1.0</td>\n",
       "      <td>pilot2</td>\n",
       "      <td>NaN</td>\n",
       "      <td>{\"Q0\":\"tho@ucsd.edu\"}</td>\n",
       "      <td>5831.600</td>\n",
       "      <td>15118</td>\n",
       "      <td>1</td>\n",
       "      <td>survey-text</td>\n",
       "      <td></td>\n",
       "    </tr>\n",
       "    <tr>\n",
       "      <th>169</th>\n",
       "      <td>5faae98d9b97fb4be74564e5</td>\n",
       "      <td></td>\n",
       "      <td>survey</td>\n",
       "      <td>5005-efff3894-49d8-48a2-9934-3a7b6eb8aa75</td>\n",
       "      <td></td>\n",
       "      <td>0.0-1.0</td>\n",
       "      <td>pilot2</td>\n",
       "      <td>NaN</td>\n",
       "      <td>{\"Q0\":\"jjchang@ucsd.edu\"}</td>\n",
       "      <td>20598.775</td>\n",
       "      <td>60447</td>\n",
       "      <td>1</td>\n",
       "      <td>survey-text</td>\n",
       "      <td></td>\n",
       "    </tr>\n",
       "    <tr>\n",
       "      <th>170</th>\n",
       "      <td>5faaf4109b97fb4be7456618</td>\n",
       "      <td></td>\n",
       "      <td>survey</td>\n",
       "      <td>5005-efff3894-49d8-48a2-9934-3a7b6eb8aa75</td>\n",
       "      <td></td>\n",
       "      <td>0.0-321.0</td>\n",
       "      <td>pilot2</td>\n",
       "      <td>[0,1,2,3]</td>\n",
       "      <td>{\"participantSex\":\"Female\",\"judgedDifficulty\":...</td>\n",
       "      <td>13853.320</td>\n",
       "      <td>2751646</td>\n",
       "      <td>321</td>\n",
       "      <td>survey-multi-choice</td>\n",
       "      <td></td>\n",
       "    </tr>\n",
       "    <tr>\n",
       "      <th>171</th>\n",
       "      <td>5faaf4269b97fb4be7456619</td>\n",
       "      <td></td>\n",
       "      <td>survey</td>\n",
       "      <td>5005-efff3894-49d8-48a2-9934-3a7b6eb8aa75</td>\n",
       "      <td></td>\n",
       "      <td>0.0-322.0</td>\n",
       "      <td>pilot2</td>\n",
       "      <td>NaN</td>\n",
       "      <td>{\"TechnicalDifficultiesFreeResp\":\"\",\"participa...</td>\n",
       "      <td>20543.025</td>\n",
       "      <td>2773205</td>\n",
       "      <td>322</td>\n",
       "      <td>survey-text</td>\n",
       "      <td></td>\n",
       "    </tr>\n",
       "    <tr>\n",
       "      <th>172</th>\n",
       "      <td>5fab15079b97fb4be745661a</td>\n",
       "      <td></td>\n",
       "      <td>survey</td>\n",
       "      <td>6744-5f12eacf-ed18-4ed4-a3b1-90612679e567</td>\n",
       "      <td></td>\n",
       "      <td>0.0-1.0</td>\n",
       "      <td>pilot2</td>\n",
       "      <td>NaN</td>\n",
       "      <td>{\"Q0\":\"jjchang@ucsd.edu\"}</td>\n",
       "      <td>28091.995</td>\n",
       "      <td>39758</td>\n",
       "      <td>1</td>\n",
       "      <td>survey-text</td>\n",
       "      <td></td>\n",
       "    </tr>\n",
       "  </tbody>\n",
       "</table>\n",
       "</div>"
      ],
      "text/plain": [
       "                          _id aID eventType  \\\n",
       "168  5fa64ced9b97fb4be74564cb        survey   \n",
       "169  5faae98d9b97fb4be74564e5        survey   \n",
       "170  5faaf4109b97fb4be7456618        survey   \n",
       "171  5faaf4269b97fb4be7456619        survey   \n",
       "172  5fab15079b97fb4be745661a        survey   \n",
       "\n",
       "                                        gameID hitID internal_node_id  \\\n",
       "168  0999-e7327b2c-5527-4703-99b0-5337a33523e7                0.0-1.0   \n",
       "169  5005-efff3894-49d8-48a2-9934-3a7b6eb8aa75                0.0-1.0   \n",
       "170  5005-efff3894-49d8-48a2-9934-3a7b6eb8aa75              0.0-321.0   \n",
       "171  5005-efff3894-49d8-48a2-9934-3a7b6eb8aa75              0.0-322.0   \n",
       "172  6744-5f12eacf-ed18-4ed4-a3b1-90612679e567                0.0-1.0   \n",
       "\n",
       "    iterationName question_order  \\\n",
       "168        pilot2            NaN   \n",
       "169        pilot2            NaN   \n",
       "170        pilot2      [0,1,2,3]   \n",
       "171        pilot2            NaN   \n",
       "172        pilot2            NaN   \n",
       "\n",
       "                                             responses         rt  \\\n",
       "168                              {\"Q0\":\"tho@ucsd.edu\"}   5831.600   \n",
       "169                          {\"Q0\":\"jjchang@ucsd.edu\"}  20598.775   \n",
       "170  {\"participantSex\":\"Female\",\"judgedDifficulty\":...  13853.320   \n",
       "171  {\"TechnicalDifficultiesFreeResp\":\"\",\"participa...  20543.025   \n",
       "172                          {\"Q0\":\"jjchang@ucsd.edu\"}  28091.995   \n",
       "\n",
       "     time_elapsed  trial_index           trial_type workerId  \n",
       "168         15118            1          survey-text           \n",
       "169         60447            1          survey-text           \n",
       "170       2751646          321  survey-multi-choice           \n",
       "171       2773205          322          survey-text           \n",
       "172         39758            1          survey-text           "
      ]
     },
     "execution_count": 36,
     "metadata": {},
     "output_type": "execute_result"
    }
   ],
   "source": [
    "W.tail()"
   ]
  },
  {
   "cell_type": "code",
   "execution_count": 37,
   "metadata": {
    "scrolled": true
   },
   "outputs": [
    {
     "data": {
      "text/plain": [
       "0                               {\"Q0\":\"h1kong@ucsd.edu\"}\n",
       "1      {\"participantSex\":\"Female\",\"judgedDifficulty\":...\n",
       "2      {\"TechnicalDifficultiesFreeResp\":\"\",\"participa...\n",
       "3                            {\"Q0\":\"aharyanto@ucsd.edu\"}\n",
       "4                             {\"Q0\":\"jnovilla@ucsd.edu\"}\n",
       "5                               {\"Q0\":\"pap022@ucsd.edu\"}\n",
       "6      {\"participantSex\":\"Female\",\"judgedDifficulty\":...\n",
       "7      {\"TechnicalDifficultiesFreeResp\":\"\",\"participa...\n",
       "8                            {\"Q0\":\"aharyanto@ucsd.edu\"}\n",
       "9      {\"participantSex\":\"Female\",\"judgedDifficulty\":...\n",
       "10     {\"TechnicalDifficultiesFreeResp\":\"\",\"participa...\n",
       "11                                {\"Q0\":\"eblu@ucsd.edu\"}\n",
       "12                              {\"Q0\":\"yuw091@ucsd.edu\"}\n",
       "13                              {\"Q0\":\"yuw091@ucsd.edu\"}\n",
       "14                              {\"Q0\":\"yuw091@ucsd.edu\"}\n",
       "15                              {\"Q0\":\"yuw091@ucsd.edu\"}\n",
       "16     {\"participantSex\":\"Male\",\"judgedDifficulty\":\"5...\n",
       "17     {\"TechnicalDifficultiesFreeResp\":\"I did not en...\n",
       "18                              {\"Q0\":\"yuw091@ucsd.edu\"}\n",
       "19                             {\"Q0\":\"s8mejia@ucsd.edu\"}\n",
       "20     {\"participantSex\":\"Female\",\"judgedDifficulty\":...\n",
       "21     {\"TechnicalDifficultiesFreeResp\":\"\",\"participa...\n",
       "22                               {\"Q0\":\"cklew@ucsd.edu\"}\n",
       "23                               {\"Q0\":\"cklew@ucsd.edu\"}\n",
       "24                                {\"Q0\":\"d2ma@ucsd.edu\"}\n",
       "25     {\"participantSex\":\"Female\",\"judgedDifficulty\":...\n",
       "26     {\"TechnicalDifficultiesFreeResp\":\"\",\"participa...\n",
       "27     {\"participantSex\":\"Male\",\"judgedDifficulty\":\"7...\n",
       "28     {\"TechnicalDifficultiesFreeResp\":\"\",\"participa...\n",
       "29                            {\"Q0\":\"dcronkhi@ucsd.edu\"}\n",
       "                             ...                        \n",
       "143    {\"participantSex\":\"Female\",\"judgedDifficulty\":...\n",
       "144    {\"TechnicalDifficultiesFreeResp\":\"My mouse acc...\n",
       "145    {\"participantSex\":\"Female\",\"judgedDifficulty\":...\n",
       "146    {\"TechnicalDifficultiesFreeResp\":\"\",\"participa...\n",
       "147    {\"participantSex\":\"Male\",\"judgedDifficulty\":\"5...\n",
       "148    {\"TechnicalDifficultiesFreeResp\":\"N/A\",\"partic...\n",
       "149                           {\"Q0\":\"lcarrill@ucsd.edu\"}\n",
       "150    {\"participantSex\":\"Female\",\"judgedDifficulty\":...\n",
       "151    {\"TechnicalDifficultiesFreeResp\":\"\",\"participa...\n",
       "152                           {\"Q0\":\"jvalenzu@ucsd.edu\"}\n",
       "153                              {\"Q0\":\"cnlee@ucsd.edu\"}\n",
       "154                              {\"Q0\":\"cnlee@ucsd.edu\"}\n",
       "155                              {\"Q0\":\"cnlee@ucsd.edu\"}\n",
       "156                           {\"Q0\":\"jynguyen@ucsd.edu\"}\n",
       "157                             {\"Q0\":\"jhj011@ucsd.edu\"}\n",
       "158    {\"participantSex\":\"Female\",\"judgedDifficulty\":...\n",
       "159    {\"TechnicalDifficultiesFreeResp\":\"I guess I mo...\n",
       "160                           {\"Q0\":\"agarciag@ucsd.edu\"}\n",
       "161                           {\"Q0\":\"eschwage@ucsd.edu\"}\n",
       "162    {\"participantSex\":\"Male\",\"judgedDifficulty\":\"4...\n",
       "163    {\"TechnicalDifficultiesFreeResp\":\"\",\"participa...\n",
       "164                           {\"Q0\":\"bfredelu@ucsd.edu\"}\n",
       "165                           {\"Q0\":\"bfredelu@ucsd.edu\"}\n",
       "166    {\"participantSex\":\"Female\",\"judgedDifficulty\":...\n",
       "167    {\"TechnicalDifficultiesFreeResp\":\"Sometimes I ...\n",
       "168                                {\"Q0\":\"tho@ucsd.edu\"}\n",
       "169                            {\"Q0\":\"jjchang@ucsd.edu\"}\n",
       "170    {\"participantSex\":\"Female\",\"judgedDifficulty\":...\n",
       "171    {\"TechnicalDifficultiesFreeResp\":\"\",\"participa...\n",
       "172                            {\"Q0\":\"jjchang@ucsd.edu\"}\n",
       "Name: responses, Length: 173, dtype: object"
      ]
     },
     "execution_count": 37,
     "metadata": {},
     "output_type": "execute_result"
    }
   ],
   "source": [
    "W['responses']"
   ]
  },
  {
   "cell_type": "code",
   "execution_count": 38,
   "metadata": {},
   "outputs": [],
   "source": [
    "## save out to csv\n",
    "D.to_csv(os.path.join(csv_dir,'causaldraw_identification_test_data_{}.csv'.format(iterationName)),index=False)\n",
    "W.to_csv(os.path.join(csv_dir,'causaldraw_identification_survey_data_{}.csv'.format(iterationName)),index=False)"
   ]
  },
  {
   "cell_type": "code",
   "execution_count": null,
   "metadata": {},
   "outputs": [],
   "source": []
  },
  {
   "cell_type": "code",
   "execution_count": null,
   "metadata": {},
   "outputs": [],
   "source": []
  }
 ],
 "metadata": {
  "kernelspec": {
   "display_name": "Python 3",
   "language": "python",
   "name": "python3"
  },
  "language_info": {
   "codemirror_mode": {
    "name": "ipython",
    "version": 3
   },
   "file_extension": ".py",
   "mimetype": "text/x-python",
   "name": "python",
   "nbconvert_exporter": "python",
   "pygments_lexer": "ipython3",
   "version": "3.7.3"
  }
 },
 "nbformat": 4,
 "nbformat_minor": 2
}
