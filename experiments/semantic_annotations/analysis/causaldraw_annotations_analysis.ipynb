{
 "cells": [
  {
   "cell_type": "code",
   "execution_count": 1,
   "metadata": {},
   "outputs": [],
   "source": [
    "import os, sys\n",
    "\n",
    "import pymongo as pm\n",
    "import numpy as np\n",
    "import scipy.stats as stats\n",
    "import pandas as pd\n",
    "import json\n",
    "import re\n",
    "from io import BytesIO\n",
    "from PIL import Image\n",
    "from skimage import io, img_as_float\n",
    "import base64\n",
    "\n",
    "import matplotlib\n",
    "from matplotlib import pylab, mlab, pyplot\n",
    "%matplotlib inline\n",
    "from IPython.core.pylabtools import figsize, getfigs\n",
    "plt = pyplot\n",
    "import seaborn as sns\n",
    "sns.set_context('talk')\n",
    "sns.set_style('white')\n",
    "\n",
    "from IPython.display import clear_output\n",
    "import importlib\n",
    "\n",
    "import utils\n",
    "\n",
    "import warnings\n",
    "warnings.filterwarnings(\"ignore\", category=DeprecationWarning)\n",
    "warnings.filterwarnings(\"ignore\", message=\"numpy.dtype size changed\")\n",
    "warnings.filterwarnings(\"ignore\", message=\"numpy.ufunc size changed\")"
   ]
  },
  {
   "cell_type": "code",
   "execution_count": 2,
   "metadata": {},
   "outputs": [],
   "source": [
    "# directory & file hierarchy\n",
    "proj_dir = os.path.abspath('..')\n",
    "analysis_dir = os.getcwd()\n",
    "results_dir = os.path.join(proj_dir,'results')\n",
    "plot_dir = os.path.join(results_dir,'plots')\n",
    "csv_dir = os.path.join(results_dir,'csv')\n",
    "exp_dir = os.path.abspath(os.path.join(proj_dir,'experiments'))\n",
    "# sketch_dir = os.path.abspath(os.path.join(proj_dir,analysis_dir,'sketches'))\n",
    "# gallery_dir = os.path.abspath(os.path.join(proj_dir,analysis_dir,'gallery'))\n",
    "\n",
    "## add helpers to python path\n",
    "if os.path.join(proj_dir,'utils') not in sys.path:\n",
    "    sys.path.append(os.path.join(proj_dir,'utils'))\n",
    "\n",
    "def make_dir_if_not_exists(dir_name):   \n",
    "    if not os.path.exists(dir_name):\n",
    "        os.makedirs(dir_name)\n",
    "    return dir_name\n",
    "\n",
    "## create directories that don't already exist        \n",
    "result = [make_dir_if_not_exists(x) for x in [results_dir,plot_dir,csv_dir]]"
   ]
  },
  {
   "cell_type": "markdown",
   "metadata": {},
   "source": [
    "## establish connection to mongo\n",
    "First thing you need to do is to establish an ssh tunnel (aka remote port forwarding) to the server, so that requests to the mongodb can be made \"as if\" the mongodb server is running on your local computer. Run this from the command line before you begin data analysis if you plan to fetch data from mongo:\n",
    "\n",
    "ssh -fNL 27017:127.0.0.1:27017 hhuey@cogtoolslab.org"
   ]
  },
  {
   "cell_type": "code",
   "execution_count": 17,
   "metadata": {},
   "outputs": [],
   "source": [
    "# set vars \n",
    "auth = pd.read_csv(os.path.join(analysis_dir,'auth.txt'), header = None) # this auth.txt file contains the password for the sketchloop user\n",
    "pswd = auth.values[0][0]\n",
    "user = 'sketchloop'\n",
    "host = 'cogtoolslab.org'\n",
    "\n",
    "# have to fix this to be able to analyze from local\n",
    "import pymongo as pm\n",
    "import socket\n",
    "if socket.gethostname().split('_')[0]=='Holly':\n",
    "    conn = pm.MongoClient('mongodb://sketchloop:' + pswd + '@127.0.0.1:27017')\n",
    "else: \n",
    "    conn = pm.MongoClient('mongodb://sketchloop:' + pswd + '@127.0.0.1:27017') \n",
    "db = conn['causaldraw']\n",
    "coll = db['annotations']\n",
    "\n",
    "# which iteration name should we use?\n",
    "iterationName = 'debugging'"
   ]
  },
  {
   "cell_type": "code",
   "execution_count": 30,
   "metadata": {},
   "outputs": [
    {
     "name": "stdout",
     "output_type": "stream",
     "text": [
      "We have 55519 records in mongo.\n"
     ]
    }
   ],
   "source": [
    "## how many records do we have in mongo? (this is total stroke records)\n",
    "print('We have {} records in mongo.'.format(coll.estimated_document_count()))"
   ]
  },
  {
   "cell_type": "code",
   "execution_count": 31,
   "metadata": {},
   "outputs": [],
   "source": [
    "## grab me one of these records, plz\n",
    "## this find one record from current iteration\n",
    "# coll.find_one({'iterationName':iterationName, 'eventType': 'labels'})"
   ]
  },
  {
   "cell_type": "code",
   "execution_count": 32,
   "metadata": {},
   "outputs": [
    {
     "data": {
      "text/plain": [
       "['testing',\n",
       " 'testing1',\n",
       " 'testing2',\n",
       " 'testing3',\n",
       " 'testing4',\n",
       " 'testing5',\n",
       " 'testing6',\n",
       " 'testing7',\n",
       " 'testing8',\n",
       " 'testing9',\n",
       " 'testing10',\n",
       " 'testing11',\n",
       " 'testing12',\n",
       " 'pilot1',\n",
       " 'testing13',\n",
       " 'pilot2',\n",
       " 'reference1',\n",
       " 'reference2',\n",
       " 'reference3',\n",
       " 'reference4',\n",
       " 'reference5',\n",
       " 'reference6',\n",
       " 'pilot3',\n",
       " 'testing14',\n",
       " 'pilot4',\n",
       " 'testing15',\n",
       " 'pilot5',\n",
       " 'testing16',\n",
       " 'pilot6',\n",
       " 'pilot7',\n",
       " 'pilot8',\n",
       " 'pilot9',\n",
       " 'pilot10',\n",
       " 'debugging',\n",
       " 'pilot11']"
      ]
     },
     "execution_count": 32,
     "metadata": {},
     "output_type": "execute_result"
    }
   ],
   "source": [
    "## check: what are all the iterationNames in mongo? (use current iteration)\n",
    "coll.find({}).distinct('iterationName')"
   ]
  },
  {
   "cell_type": "markdown",
   "metadata": {},
   "source": [
    "### Generate dataframes"
   ]
  },
  {
   "cell_type": "code",
   "execution_count": 7,
   "metadata": {},
   "outputs": [],
   "source": [
    "# coll.find_one({'iterationName':iterationName})"
   ]
  },
  {
   "cell_type": "code",
   "execution_count": 41,
   "metadata": {
    "scrolled": true
   },
   "outputs": [
    {
     "name": "stdout",
     "output_type": "stream",
     "text": [
      "We have 1693 unique label records in all 13 of our games.\n"
     ]
    }
   ],
   "source": [
    "## dump all label records into df (of current iteration)\n",
    "l = coll.find({'iterationName':iterationName, 'eventType':'labels'})\n",
    "L = pd.DataFrame(l)\n",
    "\n",
    "print('We have {} unique label records in all {} of our games.'.format(L.shape[0], L['gameID'].nunique()))"
   ]
  },
  {
   "cell_type": "code",
   "execution_count": 9,
   "metadata": {},
   "outputs": [],
   "source": [
    "# L['rois']"
   ]
  },
  {
   "cell_type": "code",
   "execution_count": 34,
   "metadata": {},
   "outputs": [],
   "source": [
    "## how to check if a workerID has done our task \n",
    "allW = coll.find({'iterationName':iterationName}) #.distinct('wID')\n",
    "# 'A3K9GTQBOI7O5A' in allW"
   ]
  },
  {
   "cell_type": "code",
   "execution_count": 35,
   "metadata": {
    "scrolled": true
   },
   "outputs": [
    {
     "data": {
      "text/plain": [
       "array(['9588-613e2c7f-7a26-43cd-8b02-63022cc33942',\n",
       "       '1595-53cbcd74-13da-4b1a-a561-161c307db510',\n",
       "       '5332-2f8d9be6-4ae2-4f76-887c-4cc7380854f6',\n",
       "       '8918-431dec0e-6639-4d0b-9028-9ec01d702a79',\n",
       "       '6148-31eeb1cb-c788-4169-a2cb-b4aa8436e1d1',\n",
       "       '1057-99fa7624-06c8-42ef-bebe-cf3e8dac6992',\n",
       "       '4561-00e5866a-d8aa-4449-a4de-f6b4b2745f7e',\n",
       "       '0756-532c5d7a-01c6-49a4-81a2-8b2d08ef046b',\n",
       "       '1545-5845eab1-b6b7-462b-9a10-a033b33f0528',\n",
       "       '8026-7241b0e6-5457-4778-becd-1d3b4e955cbb',\n",
       "       '6059-e3a2e7a9-d06d-4ddb-8976-ceff441bf3af',\n",
       "       '5688-6f0e6853-5aba-4463-9e29-52de39719287'], dtype=object)"
      ]
     },
     "execution_count": 35,
     "metadata": {},
     "output_type": "execute_result"
    }
   ],
   "source": [
    "L['gameID'].unique()"
   ]
  },
  {
   "cell_type": "code",
   "execution_count": 42,
   "metadata": {
    "scrolled": true
   },
   "outputs": [
    {
     "name": "stdout",
     "output_type": "stream",
     "text": [
      "Done!\n"
     ]
    }
   ],
   "source": [
    "## to iterate over rows of pandas dataframe to extract causal and functional roi info into new columns\n",
    "for i,d in L.iterrows():\n",
    "    ## looping over the ROIs for this machine & populating new causal and functional columns with values\n",
    "    for roi in d['rois']:\n",
    "        try:\n",
    "            if (roi['roi_name']==d['roi_labelName']) & (roi['roi_num']==int(d['roi_labelNum'])):\n",
    "                L.loc[i,'causal'] = roi['causal']\n",
    "                L.loc[i,'functional'] = roi['functional']\n",
    "        except:\n",
    "            ## note to self: NaNs will appear for symbol annotations? \n",
    "            print('Something went wrong with {} {}'.format(d['gameID'], d['trialNum']))\n",
    "            clear_output(wait=True)\n",
    "            pass\n",
    "print('Done!')"
   ]
  },
  {
   "cell_type": "code",
   "execution_count": 43,
   "metadata": {},
   "outputs": [],
   "source": [
    "## input values for non-rois for causal information\n",
    "L.loc[L.roi_labelName == 'symbols', 'causal'] = False\n",
    "L.loc[L.roi_labelName == 'short', 'causal'] = False\n",
    "L.loc[L.roi_labelName == 'unintelligible', 'causal'] = False\n",
    "\n",
    "## input values for non-rois for functional information\n",
    "L.loc[L.roi_labelName == 'symbols', 'functional'] = False\n",
    "L.loc[L.roi_labelName == 'short', 'functional'] = False\n",
    "L.loc[L.roi_labelName == 'unintelligible', 'functional'] = False\n",
    "\n",
    "## add new symbol column and input values\n",
    "L['symbol'] = ''\n",
    "L.loc[(L.roi_labelName != 'unintelligible') | (L.roi_labelName != 'symbols') | (L.roi_labelName != 'short'), 'symbol'] = False\n",
    "L.loc[L.roi_labelName == 'symbols', 'symbol'] = True\n",
    "L.loc[L.roi_labelName == 'short', 'symbol'] = False\n",
    "L.loc[L.roi_labelName == 'unintelligible', 'symbol'] = False"
   ]
  },
  {
   "cell_type": "code",
   "execution_count": 44,
   "metadata": {
    "scrolled": true
   },
   "outputs": [],
   "source": [
    "# L = L.drop(columns=['strokes'])\n",
    "# list(L.keys())"
   ]
  },
  {
   "cell_type": "code",
   "execution_count": 45,
   "metadata": {},
   "outputs": [],
   "source": [
    "## create dataframe of survey data\n",
    "w = coll.find({'iterationName':iterationName, 'eventType':'survey'})\n",
    "W = pd.DataFrame(w)"
   ]
  },
  {
   "cell_type": "code",
   "execution_count": 46,
   "metadata": {
    "scrolled": true
   },
   "outputs": [
    {
     "data": {
      "text/plain": [
       "0                               {\"Q0\":\"testing@hh.edu\"}\n",
       "1                               {\"Q0\":\"testing@hh.edu\"}\n",
       "2                                     {\"Q0\":\"testing2\"}\n",
       "3                                     {\"Q0\":\"testing3\"}\n",
       "4     {\"participantSex\":\"Neither/Other/Do Not Wish T...\n",
       "5     {\"TechnicalDifficultiesFreeResp\":\"sfsfs\",\"part...\n",
       "6                                    {\"Q0\":\"testingHH\"}\n",
       "7     {\"participantSex\":\"Neither/Other/Do Not Wish T...\n",
       "8     {\"TechnicalDifficultiesFreeResp\":\"nope\",\"parti...\n",
       "9                                     {\"Q0\":\"checking\"}\n",
       "10    {\"participantSex\":\"Female\",\"judgedDifficulty\":...\n",
       "11    {\"TechnicalDifficultiesFreeResp\":\"nada\",\"parti...\n",
       "12                                         {\"Q0\":\"loz\"}\n",
       "13    {\"participantSex\":\"Male\",\"judgedDifficulty\":\"2...\n",
       "14    {\"TechnicalDifficultiesFreeResp\":\"heya\",\"parti...\n",
       "15                                       {\"Q0\":\"hello\"}\n",
       "16    {\"participantSex\":\"Neither/Other/Do Not Wish T...\n",
       "17    {\"TechnicalDifficultiesFreeResp\":\"hello\",\"part...\n",
       "Name: responses, dtype: object"
      ]
     },
     "execution_count": 46,
     "metadata": {},
     "output_type": "execute_result"
    }
   ],
   "source": [
    "W['responses']"
   ]
  },
  {
   "cell_type": "code",
   "execution_count": 47,
   "metadata": {},
   "outputs": [],
   "source": [
    "## save out to csv\n",
    "L.to_csv(os.path.join(csv_dir,'causaldraw_annotations_label_data_{}.csv'.format(iterationName)),index=False)\n",
    "W.to_csv(os.path.join(csv_dir,'causaldraw_annotations_survey_data_{}.csv'.format(iterationName)),index=False)"
   ]
  },
  {
   "cell_type": "markdown",
   "metadata": {},
   "source": [
    "## Basic Analyses"
   ]
  },
  {
   "cell_type": "markdown",
   "metadata": {},
   "source": [
    "### What proportion of causal/non-causal and functional/non-functional elements are drawn?\n",
    "Do sketchers selectively attend to more causally relevant information and thus, draw a higher proportion of causal elements? "
   ]
  },
  {
   "cell_type": "code",
   "execution_count": null,
   "metadata": {
    "scrolled": true
   },
   "outputs": [],
   "source": [
    "## make new columns for counts of causal and functional\n",
    "df = L\n",
    "df['causal_count'] = ''\n",
    "df['functional_count'] = ''\n",
    "\n",
    "# count Trues and Falses for causal and functional strokes\n",
    "df = L.groupby(['condition','causal'])['causal_count'].count().reset_index()\n",
    "df2 = L.groupby(['condition','functional'])['functional_count'].count().reset_index()\n",
    "df['functional_count'] = df2['functional_count']\n",
    "df['functional'] = df2['functional']\n",
    "\n",
    "df"
   ]
  },
  {
   "cell_type": "code",
   "execution_count": null,
   "metadata": {},
   "outputs": [],
   "source": [
    "c = df.pivot(values='causal_count',columns='causal', index='condition').reset_index()\n",
    "c['sum'] = c[False] + c[True]\n",
    "c['propTrue'] = c[True]/c['sum']\n",
    "c"
   ]
  },
  {
   "cell_type": "code",
   "execution_count": null,
   "metadata": {
    "scrolled": true
   },
   "outputs": [],
   "source": [
    "## plot proportion of causal to non-causal annotations by condition\n",
    "g = sns.barplot(data=c,x='condition',\n",
    "            y='propTrue', \n",
    "            palette=sns.color_palette(['#9B9B9B', '#FF5720'])\n",
    "            )\n",
    "g.set(xticklabels=[\"depiction\", \"explanation\"])\n",
    "\n",
    "l = plt.ylabel('Prop')\n",
    "m = plt.title('Proportion of strokes labeled as causal')\n",
    "\n",
    "plt.tight_layout()"
   ]
  },
  {
   "cell_type": "code",
   "execution_count": null,
   "metadata": {},
   "outputs": [],
   "source": [
    "## raw count of causal to non-causal annotations by condition\n",
    "g = sns.barplot(data=c,x='condition',\n",
    "            y=True, \n",
    "            palette=sns.color_palette(['#9B9B9B', '#FF5720'])\n",
    "            )\n",
    "g.set(xticklabels=[\"depiction\", \"explanation\"])\n",
    "\n",
    "l = plt.ylabel('N Strokes')\n",
    "m = plt.title('Strokes labeled as causal (raw count)')\n",
    "\n",
    "plt.tight_layout()"
   ]
  },
  {
   "cell_type": "code",
   "execution_count": null,
   "metadata": {},
   "outputs": [],
   "source": [
    "## plot proportion of functional to non-functional annotations by condition"
   ]
  },
  {
   "cell_type": "code",
   "execution_count": null,
   "metadata": {},
   "outputs": [],
   "source": [
    "f = df.pivot(values='functional_count',columns='functional', index='condition').reset_index()\n",
    "f['sum'] = f[False] + f[True]\n",
    "f['propTrue'] = f[True]/f['sum']\n",
    "f"
   ]
  },
  {
   "cell_type": "code",
   "execution_count": null,
   "metadata": {},
   "outputs": [],
   "source": [
    "## plot proportion of functional to non-functional annotations by condition\n",
    "g = sns.barplot(data=f,x='condition',\n",
    "            y='propTrue', \n",
    "            palette=sns.color_palette(['#9B9B9B', '#FF5720'])\n",
    "            )\n",
    "g.set(xticklabels=[\"depiction\", \"explanation\"])\n",
    "\n",
    "l = plt.ylabel('Prop')\n",
    "m = plt.title('Proportion of strokes labeled as functional')\n",
    "\n",
    "plt.tight_layout()"
   ]
  },
  {
   "cell_type": "code",
   "execution_count": null,
   "metadata": {},
   "outputs": [],
   "source": [
    "## raw count of functional to non-functional annotations by condition\n",
    "g = sns.barplot(data=c,x='condition',\n",
    "            y=True, \n",
    "            palette=sns.color_palette(['#9B9B9B', '#FF5720'])\n",
    "            )\n",
    "g.set(xticklabels=[\"depiction\", \"explanation\"])\n",
    "\n",
    "l = plt.ylabel('N Strokes')\n",
    "m = plt.title('Strokes labeled as functional (raw count)')\n",
    "\n",
    "plt.tight_layout()"
   ]
  },
  {
   "cell_type": "markdown",
   "metadata": {},
   "source": [
    "### Do sketchers allocate more ink to causal elements?"
   ]
  },
  {
   "cell_type": "code",
   "execution_count": null,
   "metadata": {},
   "outputs": [],
   "source": [
    "## how much ink do sketchers devote to causal to non-causal by condition\n",
    "g = sns.barplot(data=L,\n",
    "            x='condition',\n",
    "            y='arcLength', \n",
    "            hue='causal',\n",
    "            palette=sns.color_palette(['#9B9B9B', '#FF5720'])\n",
    "            )\n",
    "g.set(xticklabels=[\"depictive\", \"explanation\"])\n",
    "plt.legend(bbox_to_anchor=(1, 1), loc=2, borderaxespad=0.5)\n",
    "\n",
    "l = plt.ylabel('arcLength')\n",
    "m = plt.title('length of strokes by condition')\n",
    "\n",
    "plt.tight_layout()"
   ]
  },
  {
   "cell_type": "markdown",
   "metadata": {},
   "source": [
    "### Do sketchers use more symbols in the explanatory condition?"
   ]
  },
  {
   "cell_type": "code",
   "execution_count": null,
   "metadata": {},
   "outputs": [],
   "source": [
    "sym = L\n",
    "sym['count'] = ''\n",
    "sym = L.groupby(['gameID','sketchID','condition','roi_labelName'])['count'].count().reset_index()\n",
    "sym"
   ]
  },
  {
   "cell_type": "code",
   "execution_count": null,
   "metadata": {},
   "outputs": [],
   "source": [
    "g = sns.barplot(data=sym,\n",
    "            x='condition',\n",
    "            y='count', \n",
    "            hue='roi_labelName'\n",
    "            )\n",
    "\n",
    "plt.legend(bbox_to_anchor=(1, 1), loc=2, borderaxespad=0.5)\n"
   ]
  },
  {
   "cell_type": "markdown",
   "metadata": {},
   "source": [
    "## Saving messy code below"
   ]
  },
  {
   "cell_type": "code",
   "execution_count": null,
   "metadata": {
    "scrolled": true
   },
   "outputs": [],
   "source": [
    "list(L.keys())"
   ]
  },
  {
   "cell_type": "code",
   "execution_count": null,
   "metadata": {},
   "outputs": [],
   "source": [
    "# count within gameID and sketchID? Or only condition?\n",
    "# count Trues and Falses for causal and functional strokes\n",
    "df = L.groupby(['gameID','sketchID','condition','causal'])['causal_count'].count().reset_index()\n",
    "df2 = L.groupby(['gameID','sketchID','condition','functional'])['functional_count'].count().reset_index()\n",
    "df['functional_count'] = df2['functional_count']\n",
    "\n",
    "df"
   ]
  },
  {
   "cell_type": "code",
   "execution_count": null,
   "metadata": {},
   "outputs": [],
   "source": [
    "# import seaborn as sns\n",
    "\n",
    "tips = sns.load_dataset(\"tips\")\n",
    "g = sns.lmplot(x=\"total_bill\", y=\"tip\", hue=\"smoker\",\n",
    " data=tips, markers=[\"o\", \"x\"])\n",
    "\n",
    "# title\n",
    "new_title = 'My title'\n",
    "g._legend.set_title(new_title)\n",
    "# replace labels\n",
    "new_labels = ['label 1', 'label 2']\n",
    "for t, l in zip(g._legend.texts, new_labels): t.set_text(l)\n",
    "\n",
    "# sns.plt.show()"
   ]
  },
  {
   "cell_type": "code",
   "execution_count": null,
   "metadata": {},
   "outputs": [],
   "source": []
  }
 ],
 "metadata": {
  "kernelspec": {
   "display_name": "Python 3",
   "language": "python",
   "name": "python3"
  },
  "language_info": {
   "codemirror_mode": {
    "name": "ipython",
    "version": 3
   },
   "file_extension": ".py",
   "mimetype": "text/x-python",
   "name": "python",
   "nbconvert_exporter": "python",
   "pygments_lexer": "ipython3",
   "version": "3.7.3"
  }
 },
 "nbformat": 4,
 "nbformat_minor": 2
}
