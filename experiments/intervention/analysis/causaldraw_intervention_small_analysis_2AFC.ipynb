{
 "cells": [
  {
   "cell_type": "code",
   "execution_count": 1,
   "metadata": {},
   "outputs": [],
   "source": [
    "import os, sys\n",
    "\n",
    "import pymongo as pm\n",
    "import numpy as np\n",
    "import scipy.stats as stats\n",
    "import pandas as pd\n",
    "import json\n",
    "import re\n",
    "from io import BytesIO\n",
    "from PIL import Image\n",
    "# from skimage import io, img_as_float\n",
    "import base64\n",
    "\n",
    "import matplotlib\n",
    "from matplotlib import pylab, mlab, pyplot\n",
    "%matplotlib inline\n",
    "from IPython.core.pylabtools import figsize, getfigs\n",
    "plt = pyplot\n",
    "import seaborn as sns\n",
    "sns.set_context('talk')\n",
    "sns.set_style('white')\n",
    "\n",
    "from IPython.display import clear_output\n",
    "import importlib\n",
    "\n",
    "from IPython.core.display import HTML\n",
    "\n",
    "import analysis_utils as utils\n",
    "\n",
    "import warnings\n",
    "warnings.filterwarnings(\"ignore\", category=DeprecationWarning)\n",
    "warnings.filterwarnings(\"ignore\", message=\"numpy.dtype size changed\")\n",
    "warnings.filterwarnings(\"ignore\", message=\"numpy.ufunc size changed\")"
   ]
  },
  {
   "cell_type": "markdown",
   "metadata": {},
   "source": [
    "### load in data"
   ]
  },
  {
   "cell_type": "code",
   "execution_count": 2,
   "metadata": {},
   "outputs": [],
   "source": [
    "df = pd.read_csv (r'../results/csv/causaldraw_intervention_processed_data_2AFC.csv')"
   ]
  },
  {
   "cell_type": "code",
   "execution_count": null,
   "metadata": {
    "scrolled": true
   },
   "outputs": [],
   "source": [
    "df.keys()"
   ]
  },
  {
   "cell_type": "code",
   "execution_count": 3,
   "metadata": {},
   "outputs": [
    {
     "data": {
      "text/html": [
       "<div>\n",
       "<style scoped>\n",
       "    .dataframe tbody tr th:only-of-type {\n",
       "        vertical-align: middle;\n",
       "    }\n",
       "\n",
       "    .dataframe tbody tr th {\n",
       "        vertical-align: top;\n",
       "    }\n",
       "\n",
       "    .dataframe thead th {\n",
       "        text-align: right;\n",
       "    }\n",
       "</style>\n",
       "<table border=\"1\" class=\"dataframe\">\n",
       "  <thead>\n",
       "    <tr style=\"text-align: right;\">\n",
       "      <th></th>\n",
       "      <th>Unnamed: 0</th>\n",
       "      <th>gameID</th>\n",
       "      <th>sketchID</th>\n",
       "      <th>numBackground</th>\n",
       "      <th>numCausal</th>\n",
       "      <th>numFunctional</th>\n",
       "      <th>numSymbol</th>\n",
       "      <th>totalStrokes</th>\n",
       "      <th>propCausal</th>\n",
       "      <th>propFunctional</th>\n",
       "      <th>...</th>\n",
       "      <th>timeAnnotationPresented</th>\n",
       "      <th>timeMachinePresented</th>\n",
       "      <th>time_elapsed</th>\n",
       "      <th>toy_id</th>\n",
       "      <th>trialNum</th>\n",
       "      <th>trial_type</th>\n",
       "      <th>corr_roi</th>\n",
       "      <th>causal_roi</th>\n",
       "      <th>legend</th>\n",
       "      <th>corrAns</th>\n",
       "    </tr>\n",
       "  </thead>\n",
       "  <tbody>\n",
       "    <tr>\n",
       "      <th>706</th>\n",
       "      <td>707</td>\n",
       "      <td>5896-87c62af4-06af-48e4-96e0-a6cebc7f0aa4</td>\n",
       "      <td>gears_1.0219-e77f751a-a934-4602-97a0-f2c0bd8bd638</td>\n",
       "      <td>0</td>\n",
       "      <td>4</td>\n",
       "      <td>0</td>\n",
       "      <td>7</td>\n",
       "      <td>11</td>\n",
       "      <td>0.363636</td>\n",
       "      <td>0.0</td>\n",
       "      <td>...</td>\n",
       "      <td>1610326308609</td>\n",
       "      <td>1610326302602</td>\n",
       "      <td>313253</td>\n",
       "      <td>gears_1</td>\n",
       "      <td>5</td>\n",
       "      <td>image-keyboard-response</td>\n",
       "      <td>0</td>\n",
       "      <td>noncausal</td>\n",
       "      <td>0</td>\n",
       "      <td>0</td>\n",
       "    </tr>\n",
       "    <tr>\n",
       "      <th>731</th>\n",
       "      <td>732</td>\n",
       "      <td>6130-1251bd4d-4eff-4d9d-9c0e-452e9dd7ad7c</td>\n",
       "      <td>gears_1.0219-e77f751a-a934-4602-97a0-f2c0bd8bd638</td>\n",
       "      <td>0</td>\n",
       "      <td>4</td>\n",
       "      <td>0</td>\n",
       "      <td>7</td>\n",
       "      <td>11</td>\n",
       "      <td>0.363636</td>\n",
       "      <td>0.0</td>\n",
       "      <td>...</td>\n",
       "      <td>1610482051148</td>\n",
       "      <td>1610482045136</td>\n",
       "      <td>305899</td>\n",
       "      <td>gears_1</td>\n",
       "      <td>2</td>\n",
       "      <td>image-keyboard-response</td>\n",
       "      <td>0</td>\n",
       "      <td>causal</td>\n",
       "      <td>0</td>\n",
       "      <td>1</td>\n",
       "    </tr>\n",
       "    <tr>\n",
       "      <th>977</th>\n",
       "      <td>978</td>\n",
       "      <td>8336-fafaf0c7-2d88-4682-8783-1abb640e337a</td>\n",
       "      <td>gears_1.0219-e77f751a-a934-4602-97a0-f2c0bd8bd638</td>\n",
       "      <td>0</td>\n",
       "      <td>4</td>\n",
       "      <td>0</td>\n",
       "      <td>7</td>\n",
       "      <td>11</td>\n",
       "      <td>0.363636</td>\n",
       "      <td>0.0</td>\n",
       "      <td>...</td>\n",
       "      <td>1611303405628</td>\n",
       "      <td>1611303399624</td>\n",
       "      <td>387315</td>\n",
       "      <td>gears_1</td>\n",
       "      <td>2</td>\n",
       "      <td>image-keyboard-response</td>\n",
       "      <td>0</td>\n",
       "      <td>causal</td>\n",
       "      <td>0</td>\n",
       "      <td>1</td>\n",
       "    </tr>\n",
       "    <tr>\n",
       "      <th>1030</th>\n",
       "      <td>1031</td>\n",
       "      <td>8793-e5dff590-6bd6-43fd-95ab-ad671ee62ff8</td>\n",
       "      <td>gears_1.0219-e77f751a-a934-4602-97a0-f2c0bd8bd638</td>\n",
       "      <td>0</td>\n",
       "      <td>4</td>\n",
       "      <td>0</td>\n",
       "      <td>7</td>\n",
       "      <td>11</td>\n",
       "      <td>0.363636</td>\n",
       "      <td>0.0</td>\n",
       "      <td>...</td>\n",
       "      <td>1611102961592</td>\n",
       "      <td>1611102955585</td>\n",
       "      <td>266554</td>\n",
       "      <td>gears_1</td>\n",
       "      <td>5</td>\n",
       "      <td>image-keyboard-response</td>\n",
       "      <td>0</td>\n",
       "      <td>noncausal</td>\n",
       "      <td>0</td>\n",
       "      <td>0</td>\n",
       "    </tr>\n",
       "    <tr>\n",
       "      <th>1175</th>\n",
       "      <td>1176</td>\n",
       "      <td>1146-53513ced-dcda-4b75-93f3-35f5f0561108</td>\n",
       "      <td>gears_1.0219-e77f751a-a934-4602-97a0-f2c0bd8bd638</td>\n",
       "      <td>0</td>\n",
       "      <td>4</td>\n",
       "      <td>0</td>\n",
       "      <td>7</td>\n",
       "      <td>11</td>\n",
       "      <td>0.363636</td>\n",
       "      <td>0.0</td>\n",
       "      <td>...</td>\n",
       "      <td>1608532377110</td>\n",
       "      <td>1608532371086</td>\n",
       "      <td>695242</td>\n",
       "      <td>gears_1</td>\n",
       "      <td>0</td>\n",
       "      <td>image-keyboard-response</td>\n",
       "      <td>0</td>\n",
       "      <td>noncausal</td>\n",
       "      <td>0</td>\n",
       "      <td>0</td>\n",
       "    </tr>\n",
       "    <tr>\n",
       "      <th>1176</th>\n",
       "      <td>1177</td>\n",
       "      <td>9628-e586d2e6-cc4a-439c-a3af-44d744594434</td>\n",
       "      <td>gears_1.0219-e77f751a-a934-4602-97a0-f2c0bd8bd638</td>\n",
       "      <td>0</td>\n",
       "      <td>4</td>\n",
       "      <td>0</td>\n",
       "      <td>7</td>\n",
       "      <td>11</td>\n",
       "      <td>0.363636</td>\n",
       "      <td>0.0</td>\n",
       "      <td>...</td>\n",
       "      <td>1609279947588</td>\n",
       "      <td>1609279941584</td>\n",
       "      <td>325500</td>\n",
       "      <td>gears_1</td>\n",
       "      <td>1</td>\n",
       "      <td>image-keyboard-response</td>\n",
       "      <td>0</td>\n",
       "      <td>noncausal</td>\n",
       "      <td>0</td>\n",
       "      <td>0</td>\n",
       "    </tr>\n",
       "  </tbody>\n",
       "</table>\n",
       "<p>6 rows × 39 columns</p>\n",
       "</div>"
      ],
      "text/plain": [
       "      Unnamed: 0                                     gameID  \\\n",
       "706          707  5896-87c62af4-06af-48e4-96e0-a6cebc7f0aa4   \n",
       "731          732  6130-1251bd4d-4eff-4d9d-9c0e-452e9dd7ad7c   \n",
       "977          978  8336-fafaf0c7-2d88-4682-8783-1abb640e337a   \n",
       "1030        1031  8793-e5dff590-6bd6-43fd-95ab-ad671ee62ff8   \n",
       "1175        1176  1146-53513ced-dcda-4b75-93f3-35f5f0561108   \n",
       "1176        1177  9628-e586d2e6-cc4a-439c-a3af-44d744594434   \n",
       "\n",
       "                                               sketchID  numBackground  \\\n",
       "706   gears_1.0219-e77f751a-a934-4602-97a0-f2c0bd8bd638              0   \n",
       "731   gears_1.0219-e77f751a-a934-4602-97a0-f2c0bd8bd638              0   \n",
       "977   gears_1.0219-e77f751a-a934-4602-97a0-f2c0bd8bd638              0   \n",
       "1030  gears_1.0219-e77f751a-a934-4602-97a0-f2c0bd8bd638              0   \n",
       "1175  gears_1.0219-e77f751a-a934-4602-97a0-f2c0bd8bd638              0   \n",
       "1176  gears_1.0219-e77f751a-a934-4602-97a0-f2c0bd8bd638              0   \n",
       "\n",
       "      numCausal  numFunctional  numSymbol  totalStrokes  propCausal  \\\n",
       "706           4              0          7            11    0.363636   \n",
       "731           4              0          7            11    0.363636   \n",
       "977           4              0          7            11    0.363636   \n",
       "1030          4              0          7            11    0.363636   \n",
       "1175          4              0          7            11    0.363636   \n",
       "1176          4              0          7            11    0.363636   \n",
       "\n",
       "      propFunctional  ...  timeAnnotationPresented  timeMachinePresented  \\\n",
       "706              0.0  ...            1610326308609         1610326302602   \n",
       "731              0.0  ...            1610482051148         1610482045136   \n",
       "977              0.0  ...            1611303405628         1611303399624   \n",
       "1030             0.0  ...            1611102961592         1611102955585   \n",
       "1175             0.0  ...            1608532377110         1608532371086   \n",
       "1176             0.0  ...            1609279947588         1609279941584   \n",
       "\n",
       "     time_elapsed   toy_id  trialNum               trial_type  corr_roi  \\\n",
       "706        313253  gears_1         5  image-keyboard-response         0   \n",
       "731        305899  gears_1         2  image-keyboard-response         0   \n",
       "977        387315  gears_1         2  image-keyboard-response         0   \n",
       "1030       266554  gears_1         5  image-keyboard-response         0   \n",
       "1175       695242  gears_1         0  image-keyboard-response         0   \n",
       "1176       325500  gears_1         1  image-keyboard-response         0   \n",
       "\n",
       "     causal_roi  legend  corrAns  \n",
       "706   noncausal       0        0  \n",
       "731      causal       0        1  \n",
       "977      causal       0        1  \n",
       "1030  noncausal       0        0  \n",
       "1175  noncausal       0        0  \n",
       "1176  noncausal       0        0  \n",
       "\n",
       "[6 rows x 39 columns]"
      ]
     },
     "execution_count": 3,
     "metadata": {},
     "output_type": "execute_result"
    }
   ],
   "source": [
    "check = df.loc[df['sketchID'] == 'gears_1.0219-e77f751a-a934-4602-97a0-f2c0bd8bd638']\n",
    "check"
   ]
  },
  {
   "cell_type": "code",
   "execution_count": null,
   "metadata": {},
   "outputs": [],
   "source": [
    "df.head()"
   ]
  },
  {
   "cell_type": "markdown",
   "metadata": {},
   "source": [
    "### Basic descriptive stats (e.g., how many intervention trials per sketch?)"
   ]
  },
  {
   "cell_type": "code",
   "execution_count": 3,
   "metadata": {
    "scrolled": true
   },
   "outputs": [
    {
     "data": {
      "text/plain": [
       "Text(0, 0.5, 'counts')"
      ]
     },
     "execution_count": 3,
     "metadata": {},
     "output_type": "execute_result"
    },
    {
     "data": {
      "image/png": "[encoded data removed]",
      "text/plain": [
       "<Figure size 432x288 with 1 Axes>"
      ]
     },
     "metadata": {},
     "output_type": "display_data"
    }
   ],
   "source": [
    "counts = df.sketchID.value_counts().to_dict().values()\n",
    "h = plt.hist(counts)\n",
    "plt.xlabel('number of intervention responses')\n",
    "plt.ylabel('counts')"
   ]
  },
  {
   "cell_type": "code",
   "execution_count": 4,
   "metadata": {
    "scrolled": true
   },
   "outputs": [
    {
     "data": {
      "text/plain": [
       "Text(0, 0.5, 'counts')"
      ]
     },
     "execution_count": 4,
     "metadata": {},
     "output_type": "execute_result"
    },
    {
     "data": {
      "image/png": "[encoded data removed]",
      "text/plain": [
       "<Figure size 432x288 with 1 Axes>"
      ]
     },
     "metadata": {},
     "output_type": "display_data"
    }
   ],
   "source": [
    "counts = df.orig_gameID.value_counts().to_dict().values()\n",
    "h = plt.hist(counts)\n",
    "plt.xlabel('number of responses per each orig_gameID')\n",
    "plt.ylabel('counts')"
   ]
  },
  {
   "cell_type": "code",
   "execution_count": 5,
   "metadata": {
    "scrolled": true
   },
   "outputs": [
    {
     "data": {
      "text/plain": [
       "Counter({20: 1,\n",
       "         19: 6,\n",
       "         18: 8,\n",
       "         17: 17,\n",
       "         16: 12,\n",
       "         15: 17,\n",
       "         14: 24,\n",
       "         13: 47,\n",
       "         12: 55,\n",
       "         11: 30,\n",
       "         10: 56,\n",
       "         9: 13,\n",
       "         8: 3,\n",
       "         7: 6})"
      ]
     },
     "execution_count": 5,
     "metadata": {},
     "output_type": "execute_result"
    }
   ],
   "source": [
    "## exactly how many drawings do we have how many annotations for?\n",
    "from collections import Counter\n",
    "Counter(Counter(df.sketchID.value_counts().to_dict()).values())"
   ]
  },
  {
   "cell_type": "code",
   "execution_count": 6,
   "metadata": {},
   "outputs": [
    {
     "data": {
      "text/plain": [
       "Counter({'pilot11': 1578,\n",
       "         'pilot8': 972,\n",
       "         'pilot7': 203,\n",
       "         'pilot9': 344,\n",
       "         'pilot10': 12,\n",
       "         'pilot6': 585})"
      ]
     },
     "execution_count": 6,
     "metadata": {},
     "output_type": "execute_result"
    }
   ],
   "source": [
    "## FYI: \"pilot6\" = collected on Prolific, \"pilot7\": collected on SONA during first week or so of Winter 2021 quarter\n",
    "## TODO: add this metadata to the README (https://github.com/cogtoolslab/causaldraw_intervention/tree/master/intervention/README.md)\n",
    "Counter(df.iterationName.values)"
   ]
  },
  {
   "cell_type": "code",
   "execution_count": 7,
   "metadata": {},
   "outputs": [
    {
     "name": "stdout",
     "output_type": "stream",
     "text": [
      "We have 295 unique sketch IDs represented in this dataset.\n"
     ]
    }
   ],
   "source": [
    "## number of unique sketchIDs represented in our dataset\n",
    "print('We have {} unique sketch IDs represented in this dataset.'.format(df.sketchID.nunique()))"
   ]
  },
  {
   "cell_type": "markdown",
   "metadata": {},
   "source": [
    "### Basic task performance variables (e.g., accuracy / RT)"
   ]
  },
  {
   "cell_type": "code",
   "execution_count": 8,
   "metadata": {
    "scrolled": false
   },
   "outputs": [
    {
     "data": {
      "image/png": "[encoded data removed]",
      "text/plain": [
       "<Figure size 432x288 with 1 Axes>"
      ]
     },
     "metadata": {},
     "output_type": "display_data"
    }
   ],
   "source": [
    "##### plot individual sketcher variation in intervention accuracy by condition \n",
    "##### in other words, how well did each participant's explanations vs. depictions do on this intervention test?\n",
    "d = df.groupby(['orig_gameID','condition'])['corrAns'].mean().reset_index()\n",
    "p = d.pivot(values='corrAns',columns='condition',index='orig_gameID').reset_index()\n",
    "\n",
    "sns.scatterplot(data=p, \n",
    "                x='explanatory',\n",
    "                y='depictive')\n",
    "\n",
    "bound = 1\n",
    "plt.plot((0,bound),(0,bound),'k:')\n",
    "\n",
    "plt.title('Accuracy')\n",
    "plt.tight_layout()"
   ]
  },
  {
   "cell_type": "code",
   "execution_count": 9,
   "metadata": {
    "scrolled": true
   },
   "outputs": [
    {
     "data": {
      "image/png": "[encoded data removed]",
      "text/plain": [
       "<Figure size 432x288 with 1 Axes>"
      ]
     },
     "metadata": {},
     "output_type": "display_data"
    }
   ],
   "source": [
    "##### plot individual variation in RT by condition\n",
    "d = df.groupby(['orig_gameID','condition'])['rt_annotationToKeyResponse'].mean().reset_index()\n",
    "p = d.pivot(values='rt_annotationToKeyResponse',columns='condition',index='orig_gameID').reset_index()\n",
    "\n",
    "sns.scatterplot(data=p, \n",
    "                x='explanatory',\n",
    "                y='depictive')\n",
    "\n",
    "bound = 30000\n",
    "plt.plot((0,bound),(0,bound),'k:')\n",
    "\n",
    "plt.title('Response Time')\n",
    "plt.tight_layout()"
   ]
  },
  {
   "cell_type": "code",
   "execution_count": 10,
   "metadata": {
    "scrolled": true
   },
   "outputs": [
    {
     "data": {
      "image/png": "[encoded data removed]",
      "text/plain": [
       "<Figure size 432x288 with 1 Axes>"
      ]
     },
     "metadata": {},
     "output_type": "display_data"
    }
   ],
   "source": [
    "## across trial number\n",
    "sns.lineplot(data=df, \n",
    "            x='trialNum',\n",
    "            y='rt_annotationToKeyResponse',\n",
    "            hue='condition', \n",
    "            palette=sns.color_palette(['#9B9B9B', '#FF5720'])\n",
    "            )\n",
    "\n",
    "L=plt.legend()\n",
    "L.get_texts()[0].set_text('depiction')\n",
    "L.get_texts()[1].set_text('explanation')\n",
    "    \n",
    "plt.xlabel('trial')\n",
    "plt.ylim(0,25000)\n",
    "m = plt.title('response time over trials')\n",
    "\n",
    "plt.tight_layout()"
   ]
  },
  {
   "cell_type": "markdown",
   "metadata": {},
   "source": [
    "### Response time (within-subject error bars?)"
   ]
  },
  {
   "cell_type": "code",
   "execution_count": 12,
   "metadata": {},
   "outputs": [],
   "source": [
    "RT = df.groupby(['orig_gameID','condition'])['rt_annotationToKeyResponse'].mean().reset_index()\n",
    "wide_RT = RT.pivot(values='rt_annotationToKeyResponse',columns='condition',index='orig_gameID').reset_index()\n",
    "\n",
    "## first remove 'between-subject variability'\n",
    "#calculate subject average\n",
    "wide_RT['average'] = (wide_RT['depictive'] + wide_RT['explanatory'])/2\n",
    "\n",
    "#calculate average of subject averages\n",
    "grand_average = wide_RT['average'].mean()\n",
    "\n",
    "#new values\n",
    "wide_RT['new_depictive'] = wide_RT['depictive'] - wide_RT['average'] + grand_average\n",
    "wide_RT['new_explanatory'] = wide_RT['explanatory'] - wide_RT['average'] + grand_average\n",
    "wide_RT['new_average'] = (wide_RT['new_depictive'] + wide_RT['new_explanatory'])/2\n",
    "\n",
    "#calculate standard deviation\n",
    "wide_RT['sd_depictive'] = wide_RT['new_depictive'].std()\n",
    "wide_RT['sd_explanatory'] = wide_RT['new_explanatory'].std()\n",
    "\n",
    "# calculate standard error = standard deviation / square root of the number of participants\n",
    "wide_RT['SE_depictive'] = wide_RT['sd_depictive']/np.sqrt(len(wide_RT))\n",
    "wide_RT['SE_explanatory'] = wide_RT['sd_explanatory']/np.sqrt(len(wide_RT))\n",
    "\n",
    "#calculate confidence interval \n",
    "wide_RT['CI_depictive'] = 1.96 * wide_RT['SE_depictive']\n",
    "wide_RT['CI_explanatory'] = 1.96 * wide_RT['SE_explanatory']"
   ]
  },
  {
   "cell_type": "code",
   "execution_count": null,
   "metadata": {},
   "outputs": [],
   "source": [
    "# wide_RT.head()"
   ]
  },
  {
   "cell_type": "markdown",
   "metadata": {},
   "source": [
    "### Accuracy"
   ]
  },
  {
   "cell_type": "code",
   "execution_count": 13,
   "metadata": {},
   "outputs": [],
   "source": [
    "corrAns = df.groupby(['orig_gameID','condition'])['corrAns'].mean().reset_index()\n",
    "wide_corrAns = corrAns.pivot(values='corrAns',columns='condition',index='orig_gameID').reset_index()\n",
    "\n",
    "## first remove 'between-subject variability'\n",
    "#calculate subject average\n",
    "wide_corrAns['average'] = (wide_corrAns['depictive'] + wide_corrAns['explanatory'])/2\n",
    "\n",
    "#calculate average of subject averages\n",
    "grand_average = wide_corrAns['average'].mean()\n",
    "\n",
    "#new values\n",
    "wide_corrAns['new_depictive'] = wide_corrAns['depictive'] - wide_corrAns['average'] + grand_average\n",
    "wide_corrAns['new_explanatory'] = wide_corrAns['explanatory'] - wide_corrAns['average'] + grand_average\n",
    "wide_corrAns['new_average'] = (wide_corrAns['new_depictive'] + wide_corrAns['new_explanatory'])/2\n",
    "\n",
    "#calculate standard deviation\n",
    "wide_corrAns['sd_depictive'] = wide_corrAns['new_depictive'].std()\n",
    "wide_corrAns['sd_explanatory'] = wide_corrAns['new_explanatory'].std()\n",
    "\n",
    "# calculate standard error = standard deviation / square root of the number of participants\n",
    "wide_corrAns['SE_depictive'] = wide_corrAns['sd_depictive']/np.sqrt(len(wide_corrAns))\n",
    "wide_corrAns['SE_explanatory'] = wide_corrAns['sd_explanatory']/np.sqrt(len(wide_corrAns))\n",
    "\n",
    "#calculate confidence interval \n",
    "wide_corrAns['CI_depictive'] = 1.96 * wide_corrAns['SE_depictive']\n",
    "wide_corrAns['CI_explanatory'] = 1.96 * wide_corrAns['SE_explanatory']"
   ]
  },
  {
   "cell_type": "code",
   "execution_count": null,
   "metadata": {},
   "outputs": [],
   "source": [
    "# wide_corrAns.head()"
   ]
  },
  {
   "cell_type": "markdown",
   "metadata": {},
   "source": [
    "### Summary plots for basic task performance variables (e.g., accuracy / RT)\n",
    "error bars: https://matplotlib.org/3.1.1/api/_as_gen/matplotlib.pyplot.errorbar.html"
   ]
  },
  {
   "cell_type": "code",
   "execution_count": 224,
   "metadata": {},
   "outputs": [],
   "source": [
    "#change width of bars in barplot\n",
    "def change_width(g, new_value) :\n",
    "    for patch in g.patches :\n",
    "        current_width = patch.get_width()\n",
    "        diff = current_width - new_value\n",
    "        patch.set_width(new_value)\n",
    "        patch.set_x(patch.get_x() + diff * .5)"
   ]
  },
  {
   "cell_type": "markdown",
   "metadata": {},
   "source": [
    "#### Does intervention RESPONSE TIME differ between explanatory and depictive sketches?"
   ]
  },
  {
   "cell_type": "code",
   "execution_count": 225,
   "metadata": {},
   "outputs": [
    {
     "data": {
      "image/png": "[encoded data removed]",
      "text/plain": [
       "<Figure size 432x288 with 1 Axes>"
      ]
     },
     "metadata": {},
     "output_type": "display_data"
    }
   ],
   "source": [
    "## RT plot\n",
    "g = sns.barplot(data=df, \n",
    "            x='condition',\n",
    "            y='rt_annotationToKeyResponse', \n",
    "            order=['depictive', 'explanatory'],\n",
    "            palette=sns.color_palette(['#9B9B9B', '#FF5720']), \n",
    "            ci=None,\n",
    "#             yerr=[wide_RT['CI_depictive'].unique()[0], wide_RT['CI_explanatory'].unique()[0]]\n",
    "            )\n",
    "sns.set_style(\"ticks\")\n",
    "plt.rcParams['xtick.major.size'] = 20\n",
    "plt.rcParams['xtick.major.width'] = 4\n",
    "plt.rcParams['xtick.bottom'] = False\n",
    "plt.rcParams['ytick.left'] = True\n",
    "\n",
    "#labels\n",
    "g.set(xticklabels=[\"depiction\", \"explanation\"])\n",
    "l = plt.ylabel('ms')\n",
    "m = plt.title('Response Time')\n",
    "\n",
    "#plot height\n",
    "plt.ylim(0, 8000)\n",
    "\n",
    "#params for significance line\n",
    "x1, x2 = 0, 1\n",
    "y1, y2 = 7200, 7200\n",
    "h, col = 150, 'k'\n",
    "\n",
    "#add line\n",
    "# plt.plot([x1,x1, x2, x2], [y1,y1+h, y2+h, y2], lw=1.5, c=col)\n",
    "# plt.text((x1+x2)*.5, y1+h, \"ns\", ha='center', va='bottom', color=col)\n",
    "\n",
    "#bar width\n",
    "change_width(g, .75)\n",
    "\n",
    "#add height of bars -- comment this out when exporting fig\n",
    "for p in g.patches:\n",
    "    height = p.get_height()\n",
    "    g.text(p.get_x()+p.get_width()/2,\n",
    "            height+.18,\n",
    "            '{:}'.format(height.round(2)),\n",
    "            ha=\"center\") \n",
    "\n",
    "#plot prettiness settings\n",
    "plt.tight_layout(rect=[0, 0, .5, 2])\n",
    "\n",
    "#save out\n",
    "plt.savefig('causaldraw_intervention_RT.pdf', format='pdf', dpi=300, bbox_inches = \"tight\")"
   ]
  },
  {
   "cell_type": "markdown",
   "metadata": {},
   "source": [
    "#### Does intervention ACCURACY differ between explanatory and depictive sketches?"
   ]
  },
  {
   "cell_type": "code",
   "execution_count": 226,
   "metadata": {
    "scrolled": false
   },
   "outputs": [
    {
     "data": {
      "image/png": "[encoded data removed]",
      "text/plain": [
       "<Figure size 432x288 with 1 Axes>"
      ]
     },
     "metadata": {},
     "output_type": "display_data"
    }
   ],
   "source": [
    "## corrAns plot\n",
    "g = sns.barplot(data=df, \n",
    "            x='condition',\n",
    "            y='corrAns', \n",
    "            order=['depictive', 'explanatory'],\n",
    "            palette=sns.color_palette(['#9B9B9B', '#FF5720']), \n",
    "            ci=None,\n",
    "#             yerr=[wide_corrAns['CI_depictive'].unique()[0], wide_corrAns['CI_explanatory'].unique()[0]]\n",
    "            )\n",
    "sns.set_style(\"ticks\")\n",
    "plt.rcParams['xtick.major.size'] = 20\n",
    "plt.rcParams['xtick.major.width'] = 4\n",
    "plt.rcParams['xtick.bottom'] = False\n",
    "plt.rcParams['ytick.left'] = True\n",
    "\n",
    "#labels\n",
    "g.set(xticklabels=[\"depiction\", \"explanation\"])\n",
    "l = plt.ylabel('average correct')\n",
    "m = plt.title('Accuracy')\n",
    "\n",
    "#plot height\n",
    "plt.ylim(0, 1)\n",
    "\n",
    "#params for significance line\n",
    "x1, x2 = 0, 1\n",
    "y1, y2 = .85, .85\n",
    "h, col = .02, 'k'\n",
    "\n",
    "#add line\n",
    "# plt.plot([x1,x1, x2, x2], [y1,y1+h, y2+h, y2], lw=1.5, c=col)\n",
    "# plt.text((x1+x2)*.5, y1+h, \"***\", ha='center', va='bottom', color=col)\n",
    "\n",
    "#bar width\n",
    "change_width(g, .75)\n",
    "\n",
    "\n",
    "#add height of bars -- comment this out when exporting fig\n",
    "for p in g.patches:\n",
    "    height = p.get_height()\n",
    "    g.text(p.get_x()+p.get_width()/2,\n",
    "            height+.18,\n",
    "            '{:}'.format(height.round(3)),\n",
    "            ha=\"center\") \n",
    "\n",
    "#plot prettiness settings\n",
    "plt.tight_layout(rect=[0, 0, .5, 2])\n",
    "\n",
    "#save out\n",
    "plt.savefig('causaldraw_intervention_corrAns.pdf', format='pdf', dpi=300, bbox_inches = \"tight\")"
   ]
  },
  {
   "cell_type": "markdown",
   "metadata": {},
   "source": [
    "#### Is there a relationship between accuracy and RT? "
   ]
  },
  {
   "cell_type": "code",
   "execution_count": 11,
   "metadata": {},
   "outputs": [
    {
     "data": {
      "text/plain": [
       "<matplotlib.legend.Legend at 0x7fd3d9ce0358>"
      ]
     },
     "execution_count": 11,
     "metadata": {},
     "output_type": "execute_result"
    },
    {
     "data": {
      "image/png": "[encoded data removed]",
      "text/plain": [
       "<Figure size 432x288 with 1 Axes>"
      ]
     },
     "metadata": {},
     "output_type": "display_data"
    }
   ],
   "source": [
    "##### plot corrAns by rt\n",
    "# Is there a relationship between accuracy and RT? \n",
    "# (Is taking longer to respond associated with higher accuracy?)\n",
    "sns.lineplot(data=df, \n",
    "            x='corrAns',\n",
    "            y='rt_annotationToKeyResponse',\n",
    "            hue='condition'\n",
    "            )\n",
    "\n",
    "plt.legend(bbox_to_anchor=(1.05, 1), loc=2, borderaxespad=0.)"
   ]
  },
  {
   "cell_type": "code",
   "execution_count": 12,
   "metadata": {},
   "outputs": [
    {
     "data": {
      "image/png": "[encoded data removed]",
      "text/plain": [
       "<Figure size 576x576 with 2 Axes>"
      ]
     },
     "metadata": {},
     "output_type": "display_data"
    }
   ],
   "source": [
    "## compare this contingency table with the above (accuracy vs. RT)\n",
    "importlib.reload(utils)\n",
    "mat_normed, agg_df = utils.extract_contingency_table_from_df(df, \n",
    "                                              expUnit = 'sketchID', \n",
    "                                              xvar = 'rt_annotationToKeyResponse',\n",
    "                                              yvar = 'corrAns',\n",
    "                                              num_xbins = 3,\n",
    "                                              num_ybins = 2,\n",
    "                                              render_heatmap = True, fig_width = 8)\n"
   ]
  },
  {
   "cell_type": "code",
   "execution_count": 13,
   "metadata": {},
   "outputs": [
    {
     "data": {
      "image/png": "[encoded data removed]",
      "text/plain": [
       "<Figure size 576x576 with 2 Axes>"
      ]
     },
     "metadata": {},
     "output_type": "display_data"
    }
   ],
   "source": [
    "## another contingency table \n",
    "importlib.reload(utils)\n",
    "mat_normed, agg_df = utils.extract_contingency_table_from_df(df, \n",
    "                                              expUnit = 'sketchID', \n",
    "                                              xvar = 'totalStrokes',\n",
    "                                              yvar = 'corrAns',\n",
    "                                              num_xbins = 5,\n",
    "                                              num_ybins = 2,\n",
    "                                              render_heatmap = True, \n",
    "                                              fig_width = 8,\n",
    "                                              normed=True)\n"
   ]
  },
  {
   "cell_type": "code",
   "execution_count": null,
   "metadata": {},
   "outputs": [],
   "source": [
    "# combined = pd.read_csv('../results/csv/combined_intervention_identification_2AFC_data.csv')\n",
    "# combined.head()"
   ]
  },
  {
   "cell_type": "markdown",
   "metadata": {},
   "source": [
    "#### Is there a relationship between how well a sketch supports identification & how well it supports intervention?"
   ]
  },
  {
   "cell_type": "code",
   "execution_count": 14,
   "metadata": {},
   "outputs": [
    {
     "data": {
      "image/png": "[encoded data removed]",
      "text/plain": [
       "<Figure size 288x288 with 2 Axes>"
      ]
     },
     "metadata": {},
     "output_type": "display_data"
    }
   ],
   "source": [
    "## load in combined data\n",
    "combined = pd.read_csv('../results/csv/combined_intervention_identification_intervention_2_2AFC_data.csv')\n",
    "\n",
    "## extract contingency table for identification task performance and intervention task performance\n",
    "importlib.reload(utils)\n",
    "mat_normed, sketch_df = utils.extract_contingency_table_from_df(combined, \n",
    "                                              expUnit = 'sketchID', \n",
    "                                              xvar = 'intervention_corrAns',\n",
    "                                              yvar = 'identification_corrAns',\n",
    "                                              num_xbins = 2,\n",
    "                                              num_ybins = 2,\n",
    "                                              render_heatmap = True, \n",
    "                                              fig_width = 4, fig_height = 4)"
   ]
  },
  {
   "cell_type": "markdown",
   "metadata": {},
   "source": [
    "#### Using the sketches from each of the bins above: (LOW, LOW), (LOW, HIGH), (HIGH, LOW), and (HIGH, HIGH), what distinguishes them w.r.t. the kinds of strokes they contain?"
   ]
  },
  {
   "cell_type": "code",
   "execution_count": 23,
   "metadata": {},
   "outputs": [],
   "source": [
    "combined.head()"
   ]
  },
  {
   "cell_type": "code",
   "execution_count": 15,
   "metadata": {},
   "outputs": [],
   "source": [
    "assert sketch_df.shape[0] == combined.shape[0]\n",
    "sketch_df = sketch_df.sort_values(by='sketchID')\n",
    "combined = combined.sort_values(by='sketchID')\n",
    "\n",
    "## deborkify\n",
    "if 'Unnamed: 0' in combined.columns:\n",
    "    combined.drop(labels=['Unnamed: 0'], inplace=True, axis=1)\n",
    "\n",
    "## sanity check to make sure that order of sketches is same in sketch_df and combined\n",
    "assert len([i for (i,j) in list(zip(sketch_df.sketchID.values, combined.sketchID.values)) if i!=j])==0\n",
    "\n",
    "## ok, only once it passes that check, tack on the stroke semantics columns\n",
    "sketch_df = sketch_df.merge(combined[['sketchID','propCausal','propFunctional','propBackground','propSymbol']])"
   ]
  },
  {
   "cell_type": "code",
   "execution_count": 16,
   "metadata": {},
   "outputs": [],
   "source": [
    "## okay somewhat inelegant way of grabbing the sketches in each category\n",
    "this_cond = 'explanatory'\n",
    "lowID_lowIN = (sketch_df['intervention_corrAns_bin']==0) & (sketch_df['identification_corrAns_bin']==0) \n",
    "lowID_highIN = (sketch_df['intervention_corrAns_bin']==0) & (sketch_df['identification_corrAns_bin']==1)\n",
    "highID_lowIN = (sketch_df['intervention_corrAns_bin']==1) & (sketch_df['identification_corrAns_bin']==0)\n",
    "highID_highIN = (sketch_df['intervention_corrAns_bin']==1) & (sketch_df['identification_corrAns_bin']==1)\n",
    "\n",
    "## make sure that these props sum to 1\n",
    "assert sketch_df[lowID_lowIN][['propCausal','propFunctional','propBackground','propSymbol']].mean().round(3).sum()==1"
   ]
  },
  {
   "cell_type": "code",
   "execution_count": 17,
   "metadata": {},
   "outputs": [
    {
     "data": {
      "text/plain": [
       "propCausal        0.285266\n",
       "propFunctional    0.222179\n",
       "propBackground    0.347969\n",
       "propSymbol        0.144585\n",
       "dtype: float64"
      ]
     },
     "execution_count": 17,
     "metadata": {},
     "output_type": "execute_result"
    }
   ],
   "source": [
    "sketch_df[lowID_lowIN][['propCausal','propFunctional','propBackground','propSymbol']].mean()"
   ]
  },
  {
   "cell_type": "code",
   "execution_count": 18,
   "metadata": {},
   "outputs": [
    {
     "data": {
      "text/plain": [
       "propCausal        0.224053\n",
       "propFunctional    0.196057\n",
       "propBackground    0.495174\n",
       "propSymbol        0.084716\n",
       "dtype: float64"
      ]
     },
     "execution_count": 18,
     "metadata": {},
     "output_type": "execute_result"
    }
   ],
   "source": [
    "sketch_df[lowID_highIN][['propCausal','propFunctional','propBackground','propSymbol']].mean()"
   ]
  },
  {
   "cell_type": "code",
   "execution_count": 19,
   "metadata": {},
   "outputs": [
    {
     "data": {
      "text/plain": [
       "propCausal        0.319940\n",
       "propFunctional    0.198547\n",
       "propBackground    0.312932\n",
       "propSymbol        0.168581\n",
       "dtype: float64"
      ]
     },
     "execution_count": 19,
     "metadata": {},
     "output_type": "execute_result"
    }
   ],
   "source": [
    "sketch_df[highID_lowIN][['propCausal','propFunctional','propBackground','propSymbol']].mean()"
   ]
  },
  {
   "cell_type": "code",
   "execution_count": 20,
   "metadata": {
    "scrolled": false
   },
   "outputs": [
    {
     "data": {
      "text/plain": [
       "propCausal        0.268791\n",
       "propFunctional    0.244897\n",
       "propBackground    0.382251\n",
       "propSymbol        0.104061\n",
       "dtype: float64"
      ]
     },
     "execution_count": 20,
     "metadata": {},
     "output_type": "execute_result"
    }
   ],
   "source": [
    "sketch_df[highID_highIN][['propCausal','propFunctional','propBackground','propSymbol']].mean()"
   ]
  },
  {
   "cell_type": "code",
   "execution_count": null,
   "metadata": {},
   "outputs": [],
   "source": [
    "# sketch_df.head()"
   ]
  },
  {
   "cell_type": "code",
   "execution_count": null,
   "metadata": {},
   "outputs": [],
   "source": [
    "# high = sketch_df.loc[sketch_df['intervention_corrAns'] == 1]\n",
    "# len(high)"
   ]
  },
  {
   "cell_type": "code",
   "execution_count": null,
   "metadata": {},
   "outputs": [],
   "source": [
    "# low = sketch_df.loc[sketch_df['intervention_corrAns'] == 0]\n",
    "# len(low)"
   ]
  },
  {
   "cell_type": "code",
   "execution_count": null,
   "metadata": {},
   "outputs": [],
   "source": [
    "# sketch_df.groupby('intervention_corrAns').count()"
   ]
  },
  {
   "cell_type": "markdown",
   "metadata": {},
   "source": [
    "#### Logic of analysis\n",
    "\"Kinds of sketches\"\n",
    "1. \"Causal-only\" (causal present, functional absent, background absent)\n",
    "2. \"Mechanical-only\" (causal present, functional present, background absent)\n",
    "3. \"Structural-only\"(causal absent, functional absent, background present)\n",
    "4. \"Functional-only\" (causal absent, functional present, background absent)\n",
    "5. \"Causal + Structural\" (causal present, functional absent, background present)\n",
    "6. \"Functional + Structural\" (causal absent, functional present, background present)\n",
    "7. \"ALL\" (causal present, functional present, background present)\n",
    "8. \"None\" (causal absent, functional absent, background absent)\n",
    "\n",
    "For each of these kinds of sketches, what is the probability of being in the \"higher tier\" of intervention performance (above median)? OR What is the average intervention accuracy?"
   ]
  },
  {
   "cell_type": "code",
   "execution_count": null,
   "metadata": {
    "scrolled": false
   },
   "outputs": [],
   "source": [
    "## criteria for sketch_type (must be 2% or higher to fulfill)\n",
    "# https://stackoverflow.com/questions/26886653/pandas-create-new-column-based-on-values-from-other-columns-apply-a-function-o\n",
    "# thresh = 0.1\n",
    "\n",
    "# conditions = [\n",
    "#     (combined['propCausal'] > thresh) & (combined['propFunctional'] < thresh) & (combined['propBackground'] < thresh),\n",
    "#     (combined['propCausal'] > thresh) & (combined['propFunctional'] > thresh) & (combined['propBackground'] < thresh),\n",
    "#     (combined['propCausal'] < thresh) & (combined['propFunctional'] < thresh) & (combined['propBackground'] > thresh), \n",
    "#     (combined['propCausal'] < thresh) & (combined['propFunctional'] > thresh) & (combined['propBackground'] < thresh),\n",
    "#     (combined['propCausal'] > thresh) & (combined['propFunctional'] < thresh) & (combined['propBackground'] > thresh),\n",
    "#     (combined['propCausal'] < thresh) & (combined['propFunctional'] > thresh) & (combined['propBackground'] > thresh),\n",
    "#     (combined['propCausal'] > thresh) & (combined['propFunctional'] > thresh) & (combined['propBackground'] > thresh), \n",
    "#     (combined['propCausal'] < thresh) & (combined['propFunctional'] < thresh) & (combined['propBackground'] < thresh)\n",
    "#     ]\n",
    "\n",
    "# ## name sketch_type\n",
    "# values = [\n",
    "#     'causal_only', \n",
    "#     'mechanical_only', \n",
    "#     'structural_only', \n",
    "#     'functional_only',\n",
    "#     'causal_structural',\n",
    "#     'functional_structural',\n",
    "#     'all',\n",
    "#     'none'\n",
    "#     ]\n",
    "\n",
    "# # apply to dataframe\n",
    "# combined['sketch_type'] = np.select(conditions, values)"
   ]
  },
  {
   "cell_type": "markdown",
   "metadata": {},
   "source": [
    "### Jan 21 2021: Judy attempt to group sketches into sketchTypes in a potentially more principled/data-driven manner"
   ]
  },
  {
   "cell_type": "code",
   "execution_count": 29,
   "metadata": {},
   "outputs": [],
   "source": [
    "## NUM STUFF\n",
    "## create dataframe that contains the proportion of strokes of each type\n",
    "S = combined[['sketchID','numCausal','numFunctional','numBackground','numSymbol']]\n",
    "\n",
    "## these are the names of the columns comprising the \"feature vector\" for this sketch\n",
    "feat_cols = ['numCausal','numFunctional','numBackground','numSymbol']\n",
    "\n",
    "## sanity check to make sure all of these proportions within sketch sum to one\n",
    "S = S.assign(addToOne = S.apply(lambda x: x['numCausal'] + x['numFunctional'] + x['numBackground'] + x['numSymbol'], axis=1))\n",
    "# assert np.round(S['addToOne'],3).nunique()==1"
   ]
  },
  {
   "cell_type": "code",
   "execution_count": 21,
   "metadata": {},
   "outputs": [],
   "source": [
    "## PROP STUFF\n",
    "## create dataframe that contains the proportion of strokes of each type\n",
    "S = combined[['sketchID','propCausal','propFunctional','propBackground','propSymbol']]\n",
    "\n",
    "## these are the names of the columns comprising the \"feature vector\" for this sketch\n",
    "feat_cols = ['propCausal','propFunctional','propBackground','propSymbol']\n",
    "\n",
    "## sanity check to make sure all of these proportions within sketch sum to one\n",
    "S = S.assign(addToOne = S.apply(lambda x: x['propCausal'] + x['propFunctional'] + x['propBackground'] + x['propSymbol'], axis=1))\n",
    "assert np.round(S['addToOne'],3).nunique()==1"
   ]
  },
  {
   "cell_type": "code",
   "execution_count": 22,
   "metadata": {
    "scrolled": false
   },
   "outputs": [
    {
     "data": {
      "text/plain": [
       "Text(0.5, 1.0, 't-SNE visualization of drawings')"
      ]
     },
     "execution_count": 22,
     "metadata": {},
     "output_type": "execute_result"
    },
    {
     "data": {
      "image/png": "[encoded data removed]",
      "text/plain": [
       "<Figure size 576x576 with 1 Axes>"
      ]
     },
     "metadata": {},
     "output_type": "display_data"
    }
   ],
   "source": [
    "## apply TSNE to kinda bunch together drawings that seem more similar\n",
    "from sklearn.manifold import TSNE\n",
    "_S = TSNE(n_components=2,perplexity=5, random_state=0).fit_transform(S[feat_cols])\n",
    "S_ = pd.DataFrame(_S)\n",
    "S_.columns=['tsne_0', 'tsne_1']\n",
    "\n",
    "## apply k-means clustering to get clusters of drawings\n",
    "from sklearn.cluster import KMeans\n",
    "num_clusters = 5\n",
    "X = S[feat_cols]\n",
    "kmeans = KMeans(n_clusters=num_clusters, random_state=0).fit(X)\n",
    "S_['cluster_ind'] = kmeans.labels_\n",
    "\n",
    "## create S2, which also contains cluster assignments\n",
    "S2 = pd.concat([S,S_],axis=1)\n",
    "\n",
    "## visualize\n",
    "plt.figure(figsize=(8,8))\n",
    "sns.scatterplot(data=S_, \n",
    "                x='tsne_0',\n",
    "                y='tsne_1',\n",
    "                hue='cluster_ind',\n",
    "                palette='Dark2',\n",
    "                legend=False)\n",
    "plt.title('t-SNE visualization of drawings')"
   ]
  },
  {
   "cell_type": "code",
   "execution_count": 23,
   "metadata": {},
   "outputs": [
    {
     "data": {
      "text/html": [
       "<div>\n",
       "<style scoped>\n",
       "    .dataframe tbody tr th:only-of-type {\n",
       "        vertical-align: middle;\n",
       "    }\n",
       "\n",
       "    .dataframe tbody tr th {\n",
       "        vertical-align: top;\n",
       "    }\n",
       "\n",
       "    .dataframe thead th {\n",
       "        text-align: right;\n",
       "    }\n",
       "</style>\n",
       "<table border=\"1\" class=\"dataframe\">\n",
       "  <thead>\n",
       "    <tr style=\"text-align: right;\">\n",
       "      <th></th>\n",
       "      <th>propCausal</th>\n",
       "      <th>propFunctional</th>\n",
       "      <th>propBackground</th>\n",
       "      <th>propSymbol</th>\n",
       "    </tr>\n",
       "    <tr>\n",
       "      <th>cluster_ind</th>\n",
       "      <th></th>\n",
       "      <th></th>\n",
       "      <th></th>\n",
       "      <th></th>\n",
       "    </tr>\n",
       "  </thead>\n",
       "  <tbody>\n",
       "    <tr>\n",
       "      <th>0</th>\n",
       "      <td>0.221911</td>\n",
       "      <td>0.205249</td>\n",
       "      <td>0.549778</td>\n",
       "      <td>0.023062</td>\n",
       "    </tr>\n",
       "    <tr>\n",
       "      <th>1</th>\n",
       "      <td>0.213270</td>\n",
       "      <td>0.175952</td>\n",
       "      <td>0.181444</td>\n",
       "      <td>0.429334</td>\n",
       "    </tr>\n",
       "    <tr>\n",
       "      <th>2</th>\n",
       "      <td>0.375665</td>\n",
       "      <td>0.384931</td>\n",
       "      <td>0.215163</td>\n",
       "      <td>0.024241</td>\n",
       "    </tr>\n",
       "    <tr>\n",
       "      <th>3</th>\n",
       "      <td>0.048628</td>\n",
       "      <td>0.064659</td>\n",
       "      <td>0.881505</td>\n",
       "      <td>0.005208</td>\n",
       "    </tr>\n",
       "    <tr>\n",
       "      <th>4</th>\n",
       "      <td>0.700538</td>\n",
       "      <td>0.033151</td>\n",
       "      <td>0.097795</td>\n",
       "      <td>0.168516</td>\n",
       "    </tr>\n",
       "  </tbody>\n",
       "</table>\n",
       "</div>"
      ],
      "text/plain": [
       "             propCausal  propFunctional  propBackground  propSymbol\n",
       "cluster_ind                                                        \n",
       "0              0.221911        0.205249        0.549778    0.023062\n",
       "1              0.213270        0.175952        0.181444    0.429334\n",
       "2              0.375665        0.384931        0.215163    0.024241\n",
       "3              0.048628        0.064659        0.881505    0.005208\n",
       "4              0.700538        0.033151        0.097795    0.168516"
      ]
     },
     "execution_count": 23,
     "metadata": {},
     "output_type": "execute_result"
    }
   ],
   "source": [
    "## what \"kind\" of sketches are in each cluster?\n",
    "S2.groupby('cluster_ind')[feat_cols].mean()"
   ]
  },
  {
   "cell_type": "code",
   "execution_count": 24,
   "metadata": {},
   "outputs": [
    {
     "data": {
      "text/plain": [
       "0    98\n",
       "2    76\n",
       "1    68\n",
       "3    32\n",
       "4    21\n",
       "Name: cluster_ind, dtype: int64"
      ]
     },
     "execution_count": 24,
     "metadata": {},
     "output_type": "execute_result"
    }
   ],
   "source": [
    "## how many of each sketch type?\n",
    "S2['cluster_ind'].value_counts()"
   ]
  },
  {
   "cell_type": "code",
   "execution_count": null,
   "metadata": {},
   "outputs": [],
   "source": [
    "## when we specify 5 clusters, here is what we get\n",
    "# \tpropCausal\tpropFunctional\tpropBackground\tpropSymbol\n",
    "# cluster_ind\t\t\t\t\n",
    "# 0\t0.211383\t0.177503\t0.185293\t0.425821 \"symbol-biased\"\n",
    "# 1\t0.081218\t0.078040\t0.833475\t0.007267 \"background-focused\"\n",
    "# 2\t0.392884\t0.404255\t0.180636\t0.022225 \"mechanical\"\n",
    "# 3\t0.238704\t0.232186\t0.504165\t0.024944 \"mechanical + background mostly\"\n",
    "# 4\t0.691815\t0.034809\t0.099560\t0.173816 \"causal-focused\"\n",
    "\n",
    "# propCausal\tpropFunctional\tpropBackground\tpropSymbol\n",
    "# cluster_ind\t\t\t\t\n",
    "# 0\t0.221911\t0.205249\t0.549778\t0.023062 \"mechanical + background mostly\"\n",
    "# 1\t0.213270\t0.175952\t0.181444\t0.429334 \"causalish + symbol-biased\"\n",
    "# 2\t0.375665\t0.384931\t0.215163\t0.024241 \"mechanical\"\n",
    "# 3\t0.048628\t0.064659\t0.881505\t0.005208 \"background-focused\"\n",
    "# 4\t0.700538\t0.033151\t0.097795\t0.168516 \"causal-focused\"\n",
    "\n",
    "## NUM STUFF\n",
    "\n",
    "# \tnumCausal\tnumFunctional\tnumBackground\tnumSymbol\n",
    "# cluster_ind\t\t\t\t\n",
    "# 0\t4.000000\t4.283019\t16.452830\t0.603774 \"background\"\n",
    "# 1\t3.333333\t2.648148\t4.506173\t0.895062 \"mechanical-background\"\n",
    "# 2\t46.750000\t39.500000\t6.500000\t0.000000 \"mechanical-nosymbol\"\n",
    "# 3\t17.680000\t11.760000\t6.560000\t3.040000 \"mechanical\"\n",
    "# 4\t5.725490\t4.039216\t4.568627\t9.745098 \"slightly symbol-biased\"\n",
    "\n",
    "\n",
    "## 7 clusters\n",
    "# propCausal\tpropFunctional\tpropBackground\tpropSymbol\n",
    "# cluster_ind\t\t\t\t\n",
    "# 0\t0.201150\t0.191347\t0.087176\t0.520326 \"symbol focused\"\n",
    "# 1\t0.227477\t0.155587\t0.314022\t0.302914 \"evenly spread\"\n",
    "# 2\t0.189995\t0.163791\t0.631877\t0.014337 \"background\"\n",
    "# 3\t0.298593\t0.296579\t0.387829\t0.016999 \"no symbols, but everything else\"\n",
    "# 4\t0.691815\t0.034809\t0.099560\t0.173816 \"causal, dash o' symbol\"\n",
    "# 5\t0.407430\t0.451475\t0.115327\t0.025767 \"mechanical\"\n",
    "# 6\t0.025941\t0.050362\t0.917031\t0.006667 \"background-ONLY\""
   ]
  },
  {
   "cell_type": "markdown",
   "metadata": {},
   "source": [
    "### Jan 21 2021: Judy attempt to make 7 (sketch_type) x 2 (tier_performance) contingency table"
   ]
  },
  {
   "cell_type": "code",
   "execution_count": 25,
   "metadata": {},
   "outputs": [
    {
     "name": "stdout",
     "output_type": "stream",
     "text": [
      "This is the median 0.722222222222222\n",
      "Adding tier_performance to dataset where 0 = below median and 1 = median and above\n"
     ]
    }
   ],
   "source": [
    "## calculate median and categorize sketches as high or low tier\n",
    "tier_conditions = [\n",
    "    (combined['intervention_corrAns'] >= combined['intervention_corrAns'].median()), \n",
    "    (combined['intervention_corrAns'] < combined['intervention_corrAns'].median())\n",
    "    ]\n",
    "\n",
    "## name tiers\n",
    "# 1 = high performance, 0 = low performance\n",
    "tier_values = [\n",
    "    1, \n",
    "    0\n",
    "    ]\n",
    "\n",
    "## apply to dataframe\n",
    "print(\"This is the median {}\".format(combined['intervention_corrAns'].median()))\n",
    "print(\"Adding tier_performance to dataset where 0 = below median and 1 = median and above\")\n",
    "combined['tier_performance'] = np.select(tier_conditions, tier_values)"
   ]
  },
  {
   "cell_type": "code",
   "execution_count": 26,
   "metadata": {},
   "outputs": [
    {
     "data": {
      "text/html": [
       "<div>\n",
       "<style scoped>\n",
       "    .dataframe tbody tr th:only-of-type {\n",
       "        vertical-align: middle;\n",
       "    }\n",
       "\n",
       "    .dataframe tbody tr th {\n",
       "        vertical-align: top;\n",
       "    }\n",
       "\n",
       "    .dataframe thead th {\n",
       "        text-align: right;\n",
       "    }\n",
       "</style>\n",
       "<table border=\"1\" class=\"dataframe\">\n",
       "  <thead>\n",
       "    <tr style=\"text-align: right;\">\n",
       "      <th></th>\n",
       "      <th>cluster_ind</th>\n",
       "      <th>condition</th>\n",
       "      <th>propCausal</th>\n",
       "      <th>propCausal</th>\n",
       "      <th>propFunctional</th>\n",
       "      <th>propFunctional</th>\n",
       "      <th>propBackground</th>\n",
       "      <th>propBackground</th>\n",
       "      <th>propSymbol</th>\n",
       "      <th>propSymbol</th>\n",
       "    </tr>\n",
       "  </thead>\n",
       "  <tbody>\n",
       "    <tr>\n",
       "      <th>0</th>\n",
       "      <td>0</td>\n",
       "      <td>depictive</td>\n",
       "      <td>0.222779</td>\n",
       "      <td>0.222779</td>\n",
       "      <td>0.210370</td>\n",
       "      <td>0.210370</td>\n",
       "      <td>0.562256</td>\n",
       "      <td>0.562256</td>\n",
       "      <td>0.004595</td>\n",
       "      <td>0.004595</td>\n",
       "    </tr>\n",
       "    <tr>\n",
       "      <th>1</th>\n",
       "      <td>0</td>\n",
       "      <td>explanatory</td>\n",
       "      <td>0.219844</td>\n",
       "      <td>0.219844</td>\n",
       "      <td>0.193065</td>\n",
       "      <td>0.193065</td>\n",
       "      <td>0.520090</td>\n",
       "      <td>0.520090</td>\n",
       "      <td>0.067001</td>\n",
       "      <td>0.067001</td>\n",
       "    </tr>\n",
       "    <tr>\n",
       "      <th>2</th>\n",
       "      <td>1</td>\n",
       "      <td>depictive</td>\n",
       "      <td>0.194862</td>\n",
       "      <td>0.194862</td>\n",
       "      <td>0.180576</td>\n",
       "      <td>0.180576</td>\n",
       "      <td>0.241312</td>\n",
       "      <td>0.241312</td>\n",
       "      <td>0.383250</td>\n",
       "      <td>0.383250</td>\n",
       "    </tr>\n",
       "    <tr>\n",
       "      <th>3</th>\n",
       "      <td>1</td>\n",
       "      <td>explanatory</td>\n",
       "      <td>0.214731</td>\n",
       "      <td>0.214731</td>\n",
       "      <td>0.175585</td>\n",
       "      <td>0.175585</td>\n",
       "      <td>0.176692</td>\n",
       "      <td>0.176692</td>\n",
       "      <td>0.432991</td>\n",
       "      <td>0.432991</td>\n",
       "    </tr>\n",
       "    <tr>\n",
       "      <th>4</th>\n",
       "      <td>2</td>\n",
       "      <td>depictive</td>\n",
       "      <td>0.376301</td>\n",
       "      <td>0.376301</td>\n",
       "      <td>0.386403</td>\n",
       "      <td>0.386403</td>\n",
       "      <td>0.234169</td>\n",
       "      <td>0.234169</td>\n",
       "      <td>0.003127</td>\n",
       "      <td>0.003127</td>\n",
       "    </tr>\n",
       "    <tr>\n",
       "      <th>5</th>\n",
       "      <td>2</td>\n",
       "      <td>explanatory</td>\n",
       "      <td>0.374634</td>\n",
       "      <td>0.374634</td>\n",
       "      <td>0.382545</td>\n",
       "      <td>0.382545</td>\n",
       "      <td>0.184361</td>\n",
       "      <td>0.184361</td>\n",
       "      <td>0.058460</td>\n",
       "      <td>0.058460</td>\n",
       "    </tr>\n",
       "    <tr>\n",
       "      <th>6</th>\n",
       "      <td>3</td>\n",
       "      <td>depictive</td>\n",
       "      <td>0.049636</td>\n",
       "      <td>0.049636</td>\n",
       "      <td>0.066909</td>\n",
       "      <td>0.066909</td>\n",
       "      <td>0.883456</td>\n",
       "      <td>0.883456</td>\n",
       "      <td>0.000000</td>\n",
       "      <td>0.000000</td>\n",
       "    </tr>\n",
       "    <tr>\n",
       "      <th>7</th>\n",
       "      <td>3</td>\n",
       "      <td>explanatory</td>\n",
       "      <td>0.044262</td>\n",
       "      <td>0.044262</td>\n",
       "      <td>0.054909</td>\n",
       "      <td>0.054909</td>\n",
       "      <td>0.873052</td>\n",
       "      <td>0.873052</td>\n",
       "      <td>0.027778</td>\n",
       "      <td>0.027778</td>\n",
       "    </tr>\n",
       "    <tr>\n",
       "      <th>8</th>\n",
       "      <td>4</td>\n",
       "      <td>depictive</td>\n",
       "      <td>0.875000</td>\n",
       "      <td>0.875000</td>\n",
       "      <td>0.000000</td>\n",
       "      <td>0.000000</td>\n",
       "      <td>0.062500</td>\n",
       "      <td>0.062500</td>\n",
       "      <td>0.062500</td>\n",
       "      <td>0.062500</td>\n",
       "    </tr>\n",
       "    <tr>\n",
       "      <th>9</th>\n",
       "      <td>4</td>\n",
       "      <td>explanatory</td>\n",
       "      <td>0.691815</td>\n",
       "      <td>0.691815</td>\n",
       "      <td>0.034809</td>\n",
       "      <td>0.034809</td>\n",
       "      <td>0.099560</td>\n",
       "      <td>0.099560</td>\n",
       "      <td>0.173816</td>\n",
       "      <td>0.173816</td>\n",
       "    </tr>\n",
       "  </tbody>\n",
       "</table>\n",
       "</div>"
      ],
      "text/plain": [
       "   cluster_ind    condition  propCausal  propCausal  propFunctional  \\\n",
       "0            0    depictive    0.222779    0.222779        0.210370   \n",
       "1            0  explanatory    0.219844    0.219844        0.193065   \n",
       "2            1    depictive    0.194862    0.194862        0.180576   \n",
       "3            1  explanatory    0.214731    0.214731        0.175585   \n",
       "4            2    depictive    0.376301    0.376301        0.386403   \n",
       "5            2  explanatory    0.374634    0.374634        0.382545   \n",
       "6            3    depictive    0.049636    0.049636        0.066909   \n",
       "7            3  explanatory    0.044262    0.044262        0.054909   \n",
       "8            4    depictive    0.875000    0.875000        0.000000   \n",
       "9            4  explanatory    0.691815    0.691815        0.034809   \n",
       "\n",
       "   propFunctional  propBackground  propBackground  propSymbol  propSymbol  \n",
       "0        0.210370        0.562256        0.562256    0.004595    0.004595  \n",
       "1        0.193065        0.520090        0.520090    0.067001    0.067001  \n",
       "2        0.180576        0.241312        0.241312    0.383250    0.383250  \n",
       "3        0.175585        0.176692        0.176692    0.432991    0.432991  \n",
       "4        0.386403        0.234169        0.234169    0.003127    0.003127  \n",
       "5        0.382545        0.184361        0.184361    0.058460    0.058460  \n",
       "6        0.066909        0.883456        0.883456    0.000000    0.000000  \n",
       "7        0.054909        0.873052        0.873052    0.027778    0.027778  \n",
       "8        0.000000        0.062500        0.062500    0.062500    0.062500  \n",
       "9        0.034809        0.099560        0.099560    0.173816    0.173816  "
      ]
     },
     "execution_count": 26,
     "metadata": {},
     "output_type": "execute_result"
    }
   ],
   "source": [
    "x = pd.concat([S2,combined],axis=1)\n",
    "x = x.groupby(['cluster_ind', 'condition']).mean()[['propCausal','propFunctional', 'propBackground', 'propSymbol']].reset_index()\n",
    "x"
   ]
  },
  {
   "cell_type": "code",
   "execution_count": 27,
   "metadata": {},
   "outputs": [],
   "source": [
    "S3 = pd.concat([S2,combined],axis=1)\n",
    "if num_clusters == 5:\n",
    "    cluster2meaningful = {0:'MECH-BCK', 1:'SYM', 2: 'MECH', 3: 'BCK', 4: 'CAUS'}\n",
    "elif num_clusters == 7:\n",
    "    cluster2meaningful = {0:'SYM', 1:'EV', 2: 'BK0', 3: 'noSYM', 4: 'CAUS',\n",
    "                          5: 'MECH', 6: 'BK1'}\n",
    "else:\n",
    "    print('Wait! Your labels arent going to make sense! STOP!!!!!!')\n",
    "\n",
    "# binary2word = {0: 'good', 1: 'bad'}\n",
    "# binary2word = {0: 'high performance', 1: 'low performance'}\n",
    "\n",
    "## MAYBE FOUND BUG!\n",
    "binary2word = {0: 'bad', 1: 'good'}\n",
    "\n",
    "S3 = S3.assign(interventionPerf = S3['tier_performance'])\n",
    "\n",
    "S3 = S3.assign(sketchType = S3['cluster_ind'].apply(lambda x: cluster2meaningful[x]))\n",
    "S3 = S3.assign(interventionPerf = S3['tier_performance'].apply(lambda x: binary2word[x]))\n",
    "S3.groupby(['sketchType','condition'])['interventionPerf'].value_counts()\n",
    "S4 = S3.groupby(['sketchType','interventionPerf', 'condition']).count().reset_index()[['condition','sketchType','interventionPerf','tier_performance']]"
   ]
  },
  {
   "cell_type": "code",
   "execution_count": 28,
   "metadata": {
    "scrolled": true
   },
   "outputs": [
    {
     "data": {
      "text/html": [
       "<div>\n",
       "<style scoped>\n",
       "    .dataframe tbody tr th:only-of-type {\n",
       "        vertical-align: middle;\n",
       "    }\n",
       "\n",
       "    .dataframe tbody tr th {\n",
       "        vertical-align: top;\n",
       "    }\n",
       "\n",
       "    .dataframe thead th {\n",
       "        text-align: right;\n",
       "    }\n",
       "</style>\n",
       "<table border=\"1\" class=\"dataframe\">\n",
       "  <thead>\n",
       "    <tr style=\"text-align: right;\">\n",
       "      <th></th>\n",
       "      <th>sketchID</th>\n",
       "      <th>sketchID</th>\n",
       "      <th>condition</th>\n",
       "      <th>interventionPerf</th>\n",
       "      <th>intervention_corrAns</th>\n",
       "      <th>tier_performance</th>\n",
       "      <th>sketchType</th>\n",
       "    </tr>\n",
       "  </thead>\n",
       "  <tbody>\n",
       "    <tr>\n",
       "      <th>0</th>\n",
       "      <td>gears_1.0219-e77f751a-a934-4602-97a0-f2c0bd8bd638</td>\n",
       "      <td>gears_1.0219-e77f751a-a934-4602-97a0-f2c0bd8bd638</td>\n",
       "      <td>explanatory</td>\n",
       "      <td>bad</td>\n",
       "      <td>0.615385</td>\n",
       "      <td>0</td>\n",
       "      <td>SYM</td>\n",
       "    </tr>\n",
       "    <tr>\n",
       "      <th>1</th>\n",
       "      <td>gears_1.0366-5aa209bd-fda5-4afd-b896-9371d73ab1df</td>\n",
       "      <td>gears_1.0366-5aa209bd-fda5-4afd-b896-9371d73ab1df</td>\n",
       "      <td>depictive</td>\n",
       "      <td>good</td>\n",
       "      <td>0.727273</td>\n",
       "      <td>1</td>\n",
       "      <td>SYM</td>\n",
       "    </tr>\n",
       "    <tr>\n",
       "      <th>2</th>\n",
       "      <td>gears_1.0524-70721cbe-8f3d-4e95-ad78-7b70a6f7c538</td>\n",
       "      <td>gears_1.0524-70721cbe-8f3d-4e95-ad78-7b70a6f7c538</td>\n",
       "      <td>explanatory</td>\n",
       "      <td>good</td>\n",
       "      <td>0.750000</td>\n",
       "      <td>1</td>\n",
       "      <td>SYM</td>\n",
       "    </tr>\n",
       "    <tr>\n",
       "      <th>3</th>\n",
       "      <td>gears_1.0587-0a7bf55b-0d5c-4936-ae31-e30191e2be59</td>\n",
       "      <td>gears_1.0587-0a7bf55b-0d5c-4936-ae31-e30191e2be59</td>\n",
       "      <td>depictive</td>\n",
       "      <td>good</td>\n",
       "      <td>0.800000</td>\n",
       "      <td>1</td>\n",
       "      <td>MECH</td>\n",
       "    </tr>\n",
       "    <tr>\n",
       "      <th>4</th>\n",
       "      <td>gears_1.0641-f65a5813-73f1-4a74-8400-1df917c1e4d7</td>\n",
       "      <td>gears_1.0641-f65a5813-73f1-4a74-8400-1df917c1e4d7</td>\n",
       "      <td>explanatory</td>\n",
       "      <td>good</td>\n",
       "      <td>1.000000</td>\n",
       "      <td>1</td>\n",
       "      <td>SYM</td>\n",
       "    </tr>\n",
       "  </tbody>\n",
       "</table>\n",
       "</div>"
      ],
      "text/plain": [
       "                                            sketchID  \\\n",
       "0  gears_1.0219-e77f751a-a934-4602-97a0-f2c0bd8bd638   \n",
       "1  gears_1.0366-5aa209bd-fda5-4afd-b896-9371d73ab1df   \n",
       "2  gears_1.0524-70721cbe-8f3d-4e95-ad78-7b70a6f7c538   \n",
       "3  gears_1.0587-0a7bf55b-0d5c-4936-ae31-e30191e2be59   \n",
       "4  gears_1.0641-f65a5813-73f1-4a74-8400-1df917c1e4d7   \n",
       "\n",
       "                                            sketchID    condition  \\\n",
       "0  gears_1.0219-e77f751a-a934-4602-97a0-f2c0bd8bd638  explanatory   \n",
       "1  gears_1.0366-5aa209bd-fda5-4afd-b896-9371d73ab1df    depictive   \n",
       "2  gears_1.0524-70721cbe-8f3d-4e95-ad78-7b70a6f7c538  explanatory   \n",
       "3  gears_1.0587-0a7bf55b-0d5c-4936-ae31-e30191e2be59    depictive   \n",
       "4  gears_1.0641-f65a5813-73f1-4a74-8400-1df917c1e4d7  explanatory   \n",
       "\n",
       "  interventionPerf  intervention_corrAns  tier_performance sketchType  \n",
       "0              bad              0.615385                 0        SYM  \n",
       "1             good              0.727273                 1        SYM  \n",
       "2             good              0.750000                 1        SYM  \n",
       "3             good              0.800000                 1       MECH  \n",
       "4             good              1.000000                 1        SYM  "
      ]
     },
     "execution_count": 28,
     "metadata": {},
     "output_type": "execute_result"
    }
   ],
   "source": [
    "checking = S3[['sketchID', 'condition', 'interventionPerf', 'intervention_corrAns', 'tier_performance', 'sketchType']]\n",
    "checking.head()"
   ]
  },
  {
   "cell_type": "code",
   "execution_count": 29,
   "metadata": {
    "scrolled": true
   },
   "outputs": [
    {
     "data": {
      "text/html": [
       "<div>\n",
       "<style scoped>\n",
       "    .dataframe tbody tr th:only-of-type {\n",
       "        vertical-align: middle;\n",
       "    }\n",
       "\n",
       "    .dataframe tbody tr th {\n",
       "        vertical-align: top;\n",
       "    }\n",
       "\n",
       "    .dataframe thead th {\n",
       "        text-align: right;\n",
       "    }\n",
       "</style>\n",
       "<table border=\"1\" class=\"dataframe\">\n",
       "  <thead>\n",
       "    <tr style=\"text-align: right;\">\n",
       "      <th></th>\n",
       "      <th>condition</th>\n",
       "      <th>sketchType</th>\n",
       "      <th>interventionPerf</th>\n",
       "      <th>tier_performance</th>\n",
       "    </tr>\n",
       "  </thead>\n",
       "  <tbody>\n",
       "    <tr>\n",
       "      <th>0</th>\n",
       "      <td>depictive</td>\n",
       "      <td>BCK</td>\n",
       "      <td>bad</td>\n",
       "      <td>20</td>\n",
       "    </tr>\n",
       "    <tr>\n",
       "      <th>1</th>\n",
       "      <td>explanatory</td>\n",
       "      <td>BCK</td>\n",
       "      <td>bad</td>\n",
       "      <td>4</td>\n",
       "    </tr>\n",
       "    <tr>\n",
       "      <th>2</th>\n",
       "      <td>depictive</td>\n",
       "      <td>BCK</td>\n",
       "      <td>good</td>\n",
       "      <td>6</td>\n",
       "    </tr>\n",
       "    <tr>\n",
       "      <th>3</th>\n",
       "      <td>explanatory</td>\n",
       "      <td>BCK</td>\n",
       "      <td>good</td>\n",
       "      <td>2</td>\n",
       "    </tr>\n",
       "    <tr>\n",
       "      <th>4</th>\n",
       "      <td>explanatory</td>\n",
       "      <td>CAUS</td>\n",
       "      <td>bad</td>\n",
       "      <td>10</td>\n",
       "    </tr>\n",
       "  </tbody>\n",
       "</table>\n",
       "</div>"
      ],
      "text/plain": [
       "     condition sketchType interventionPerf  tier_performance\n",
       "0    depictive        BCK              bad                20\n",
       "1  explanatory        BCK              bad                 4\n",
       "2    depictive        BCK             good                 6\n",
       "3  explanatory        BCK             good                 2\n",
       "4  explanatory       CAUS              bad                10"
      ]
     },
     "execution_count": 29,
     "metadata": {},
     "output_type": "execute_result"
    }
   ],
   "source": [
    "S4.head()"
   ]
  },
  {
   "cell_type": "code",
   "execution_count": 31,
   "metadata": {
    "scrolled": false
   },
   "outputs": [
    {
     "data": {
      "image/png": "[encoded data removed]",
      "text/plain": [
       "<Figure size 360x360 with 1 Axes>"
      ]
     },
     "metadata": {},
     "output_type": "display_data"
    }
   ],
   "source": [
    "#split by condition\n",
    "# fig = plt.figure(figsize=(12,10))\n",
    "\n",
    "g = sns.catplot(data=S4,\n",
    "                x='sketchType',\n",
    "                y='tier_performance',\n",
    "                hue='interventionPerf', \n",
    "#                 col='condition', \n",
    "                estimator=sum,\n",
    "                kind='bar', \n",
    "                legend=None,\n",
    "                ci=None)\n",
    "\n",
    "#plot height\n",
    "plt.ylim(0, 60)\n",
    "\n",
    "# add height of bars\n",
    "for ax in g.axes.flat:\n",
    "    for p in ax.patches:\n",
    "        height = p.get_height()\n",
    "        ax.text(p.get_x()+p.get_width()/2,\n",
    "                height+2,\n",
    "                '{:}'.format(height.round(3)),\n",
    "                ha=\"center\")\n",
    "    ax.tick_params(axis='x', labelsize=12)\n",
    "\n",
    "plt.tight_layout(rect=[0, 0, 1.2, 1])\n",
    "\n",
    "plt.legend(bbox_to_anchor=(1.05, 1), loc=2, borderaxespad=0)\n",
    "\n",
    "#save out\n",
    "plt.savefig('causaldraw_intervention_sketchType.pdf', format='pdf', dpi=300, bbox_inches = \"tight\")"
   ]
  },
  {
   "cell_type": "code",
   "execution_count": 192,
   "metadata": {},
   "outputs": [
    {
     "data": {
      "text/plain": [
       "151.0"
      ]
     },
     "execution_count": 192,
     "metadata": {},
     "output_type": "execute_result"
    }
   ],
   "source": [
    "11.5+4.5+7+7+16+22+21+28+18.5+15.5"
   ]
  },
  {
   "cell_type": "code",
   "execution_count": 32,
   "metadata": {},
   "outputs": [
    {
     "data": {
      "text/plain": [
       "295"
      ]
     },
     "execution_count": 32,
     "metadata": {},
     "output_type": "execute_result"
    }
   ],
   "source": [
    "24+8+10+11+34+42+45+53+34+34"
   ]
  },
  {
   "cell_type": "code",
   "execution_count": 39,
   "metadata": {},
   "outputs": [
    {
     "data": {
      "text/html": [
       "<div>\n",
       "<style scoped>\n",
       "    .dataframe tbody tr th:only-of-type {\n",
       "        vertical-align: middle;\n",
       "    }\n",
       "\n",
       "    .dataframe tbody tr th {\n",
       "        vertical-align: top;\n",
       "    }\n",
       "\n",
       "    .dataframe thead th {\n",
       "        text-align: right;\n",
       "    }\n",
       "</style>\n",
       "<table border=\"1\" class=\"dataframe\">\n",
       "  <thead>\n",
       "    <tr style=\"text-align: right;\">\n",
       "      <th></th>\n",
       "      <th>condition</th>\n",
       "      <th>sketchType</th>\n",
       "      <th>interventionPerf</th>\n",
       "      <th>tier_performance</th>\n",
       "    </tr>\n",
       "  </thead>\n",
       "  <tbody>\n",
       "    <tr>\n",
       "      <th>0</th>\n",
       "      <td>depictive</td>\n",
       "      <td>BCK</td>\n",
       "      <td>bad</td>\n",
       "      <td>20</td>\n",
       "    </tr>\n",
       "    <tr>\n",
       "      <th>1</th>\n",
       "      <td>explanatory</td>\n",
       "      <td>BCK</td>\n",
       "      <td>bad</td>\n",
       "      <td>4</td>\n",
       "    </tr>\n",
       "    <tr>\n",
       "      <th>2</th>\n",
       "      <td>depictive</td>\n",
       "      <td>BCK</td>\n",
       "      <td>good</td>\n",
       "      <td>6</td>\n",
       "    </tr>\n",
       "    <tr>\n",
       "      <th>3</th>\n",
       "      <td>explanatory</td>\n",
       "      <td>BCK</td>\n",
       "      <td>good</td>\n",
       "      <td>2</td>\n",
       "    </tr>\n",
       "    <tr>\n",
       "      <th>4</th>\n",
       "      <td>explanatory</td>\n",
       "      <td>CAUS</td>\n",
       "      <td>bad</td>\n",
       "      <td>10</td>\n",
       "    </tr>\n",
       "    <tr>\n",
       "      <th>5</th>\n",
       "      <td>depictive</td>\n",
       "      <td>CAUS</td>\n",
       "      <td>good</td>\n",
       "      <td>1</td>\n",
       "    </tr>\n",
       "    <tr>\n",
       "      <th>6</th>\n",
       "      <td>explanatory</td>\n",
       "      <td>CAUS</td>\n",
       "      <td>good</td>\n",
       "      <td>10</td>\n",
       "    </tr>\n",
       "    <tr>\n",
       "      <th>7</th>\n",
       "      <td>depictive</td>\n",
       "      <td>MECH</td>\n",
       "      <td>bad</td>\n",
       "      <td>16</td>\n",
       "    </tr>\n",
       "    <tr>\n",
       "      <th>8</th>\n",
       "      <td>explanatory</td>\n",
       "      <td>MECH</td>\n",
       "      <td>bad</td>\n",
       "      <td>18</td>\n",
       "    </tr>\n",
       "    <tr>\n",
       "      <th>9</th>\n",
       "      <td>depictive</td>\n",
       "      <td>MECH</td>\n",
       "      <td>good</td>\n",
       "      <td>31</td>\n",
       "    </tr>\n",
       "    <tr>\n",
       "      <th>10</th>\n",
       "      <td>explanatory</td>\n",
       "      <td>MECH</td>\n",
       "      <td>good</td>\n",
       "      <td>11</td>\n",
       "    </tr>\n",
       "    <tr>\n",
       "      <th>11</th>\n",
       "      <td>depictive</td>\n",
       "      <td>MECH-BCK</td>\n",
       "      <td>bad</td>\n",
       "      <td>33</td>\n",
       "    </tr>\n",
       "    <tr>\n",
       "      <th>12</th>\n",
       "      <td>explanatory</td>\n",
       "      <td>MECH-BCK</td>\n",
       "      <td>bad</td>\n",
       "      <td>12</td>\n",
       "    </tr>\n",
       "    <tr>\n",
       "      <th>13</th>\n",
       "      <td>depictive</td>\n",
       "      <td>MECH-BCK</td>\n",
       "      <td>good</td>\n",
       "      <td>36</td>\n",
       "    </tr>\n",
       "    <tr>\n",
       "      <th>14</th>\n",
       "      <td>explanatory</td>\n",
       "      <td>MECH-BCK</td>\n",
       "      <td>good</td>\n",
       "      <td>17</td>\n",
       "    </tr>\n",
       "    <tr>\n",
       "      <th>15</th>\n",
       "      <td>depictive</td>\n",
       "      <td>SYM</td>\n",
       "      <td>bad</td>\n",
       "      <td>2</td>\n",
       "    </tr>\n",
       "    <tr>\n",
       "      <th>16</th>\n",
       "      <td>explanatory</td>\n",
       "      <td>SYM</td>\n",
       "      <td>bad</td>\n",
       "      <td>32</td>\n",
       "    </tr>\n",
       "    <tr>\n",
       "      <th>17</th>\n",
       "      <td>depictive</td>\n",
       "      <td>SYM</td>\n",
       "      <td>good</td>\n",
       "      <td>3</td>\n",
       "    </tr>\n",
       "    <tr>\n",
       "      <th>18</th>\n",
       "      <td>explanatory</td>\n",
       "      <td>SYM</td>\n",
       "      <td>good</td>\n",
       "      <td>31</td>\n",
       "    </tr>\n",
       "  </tbody>\n",
       "</table>\n",
       "</div>"
      ],
      "text/plain": [
       "      condition sketchType interventionPerf  tier_performance\n",
       "0     depictive        BCK              bad                20\n",
       "1   explanatory        BCK              bad                 4\n",
       "2     depictive        BCK             good                 6\n",
       "3   explanatory        BCK             good                 2\n",
       "4   explanatory       CAUS              bad                10\n",
       "5     depictive       CAUS             good                 1\n",
       "6   explanatory       CAUS             good                10\n",
       "7     depictive       MECH              bad                16\n",
       "8   explanatory       MECH              bad                18\n",
       "9     depictive       MECH             good                31\n",
       "10  explanatory       MECH             good                11\n",
       "11    depictive   MECH-BCK              bad                33\n",
       "12  explanatory   MECH-BCK              bad                12\n",
       "13    depictive   MECH-BCK             good                36\n",
       "14  explanatory   MECH-BCK             good                17\n",
       "15    depictive        SYM              bad                 2\n",
       "16  explanatory        SYM              bad                32\n",
       "17    depictive        SYM             good                 3\n",
       "18  explanatory        SYM             good                31"
      ]
     },
     "execution_count": 39,
     "metadata": {},
     "output_type": "execute_result"
    }
   ],
   "source": [
    "S4"
   ]
  },
  {
   "cell_type": "code",
   "execution_count": 34,
   "metadata": {},
   "outputs": [],
   "source": [
    "sketchType_df = S4.groupby(['sketchType','interventionPerf'])['tier_performance'].sum().reset_index().reset_index()\n",
    "# sketchType_df['index_'] = sketchType_df['index'].map(str) + '_' + sketchType_df['sketchType'].map(str)\n",
    "# sketchType_df = sketchType_df.pivot_table(index='index_', columns='interventionPerf', values='tier_performance', aggfunc='sum').reset_index()\n",
    "# sketchType_df['sketchType'] = sketchType_df['index_'].apply(lambda x: x.split('_')[1])\n",
    "# ST = sketchType_df.groupby('sketchType').sum().reset_index()"
   ]
  },
  {
   "cell_type": "code",
   "execution_count": 37,
   "metadata": {
    "scrolled": true
   },
   "outputs": [
    {
     "data": {
      "text/html": [
       "<div>\n",
       "<style scoped>\n",
       "    .dataframe tbody tr th:only-of-type {\n",
       "        vertical-align: middle;\n",
       "    }\n",
       "\n",
       "    .dataframe tbody tr th {\n",
       "        vertical-align: top;\n",
       "    }\n",
       "\n",
       "    .dataframe thead th {\n",
       "        text-align: right;\n",
       "    }\n",
       "</style>\n",
       "<table border=\"1\" class=\"dataframe\">\n",
       "  <thead>\n",
       "    <tr style=\"text-align: right;\">\n",
       "      <th></th>\n",
       "      <th>index</th>\n",
       "      <th>sketchType</th>\n",
       "      <th>interventionPerf</th>\n",
       "      <th>tier_performance</th>\n",
       "    </tr>\n",
       "  </thead>\n",
       "  <tbody>\n",
       "    <tr>\n",
       "      <th>0</th>\n",
       "      <td>0</td>\n",
       "      <td>BCK</td>\n",
       "      <td>bad</td>\n",
       "      <td>24</td>\n",
       "    </tr>\n",
       "    <tr>\n",
       "      <th>1</th>\n",
       "      <td>1</td>\n",
       "      <td>BCK</td>\n",
       "      <td>good</td>\n",
       "      <td>8</td>\n",
       "    </tr>\n",
       "    <tr>\n",
       "      <th>2</th>\n",
       "      <td>2</td>\n",
       "      <td>CAUS</td>\n",
       "      <td>bad</td>\n",
       "      <td>10</td>\n",
       "    </tr>\n",
       "    <tr>\n",
       "      <th>3</th>\n",
       "      <td>3</td>\n",
       "      <td>CAUS</td>\n",
       "      <td>good</td>\n",
       "      <td>11</td>\n",
       "    </tr>\n",
       "    <tr>\n",
       "      <th>4</th>\n",
       "      <td>4</td>\n",
       "      <td>MECH</td>\n",
       "      <td>bad</td>\n",
       "      <td>34</td>\n",
       "    </tr>\n",
       "    <tr>\n",
       "      <th>5</th>\n",
       "      <td>5</td>\n",
       "      <td>MECH</td>\n",
       "      <td>good</td>\n",
       "      <td>42</td>\n",
       "    </tr>\n",
       "    <tr>\n",
       "      <th>6</th>\n",
       "      <td>6</td>\n",
       "      <td>MECH-BCK</td>\n",
       "      <td>bad</td>\n",
       "      <td>45</td>\n",
       "    </tr>\n",
       "    <tr>\n",
       "      <th>7</th>\n",
       "      <td>7</td>\n",
       "      <td>MECH-BCK</td>\n",
       "      <td>good</td>\n",
       "      <td>53</td>\n",
       "    </tr>\n",
       "    <tr>\n",
       "      <th>8</th>\n",
       "      <td>8</td>\n",
       "      <td>SYM</td>\n",
       "      <td>bad</td>\n",
       "      <td>34</td>\n",
       "    </tr>\n",
       "    <tr>\n",
       "      <th>9</th>\n",
       "      <td>9</td>\n",
       "      <td>SYM</td>\n",
       "      <td>good</td>\n",
       "      <td>34</td>\n",
       "    </tr>\n",
       "  </tbody>\n",
       "</table>\n",
       "</div>"
      ],
      "text/plain": [
       "   index sketchType interventionPerf  tier_performance\n",
       "0      0        BCK              bad                24\n",
       "1      1        BCK             good                 8\n",
       "2      2       CAUS              bad                10\n",
       "3      3       CAUS             good                11\n",
       "4      4       MECH              bad                34\n",
       "5      5       MECH             good                42\n",
       "6      6   MECH-BCK              bad                45\n",
       "7      7   MECH-BCK             good                53\n",
       "8      8        SYM              bad                34\n",
       "9      9        SYM             good                34"
      ]
     },
     "execution_count": 37,
     "metadata": {},
     "output_type": "execute_result"
    }
   ],
   "source": [
    "sketchType_df"
   ]
  },
  {
   "cell_type": "code",
   "execution_count": 41,
   "metadata": {},
   "outputs": [],
   "source": [
    "# ST.to_csv('sketchTypes_5clusters.csv',index=False)\n",
    "S4.to_csv('sketchTypes.csv',index=False)"
   ]
  },
  {
   "cell_type": "code",
   "execution_count": null,
   "metadata": {},
   "outputs": [],
   "source": []
  },
  {
   "cell_type": "code",
   "execution_count": null,
   "metadata": {},
   "outputs": [],
   "source": []
  },
  {
   "cell_type": "code",
   "execution_count": null,
   "metadata": {},
   "outputs": [],
   "source": [
    "# (19+7+1+16+31+30+39+1+4)+(4+2+7+13+16+13+12+17+36+27)"
   ]
  },
  {
   "cell_type": "code",
   "execution_count": 50,
   "metadata": {},
   "outputs": [],
   "source": [
    "background_biased = S3.loc[S3['sketchType'] == 'BCK']\n",
    "background_biased.to_csv('background_test.csv',index=False)"
   ]
  },
  {
   "cell_type": "code",
   "execution_count": 47,
   "metadata": {},
   "outputs": [
    {
     "data": {
      "image/png": "[encoded data removed]",
      "text/plain": [
       "<Figure size 859.7x360 with 2 Axes>"
      ]
     },
     "metadata": {},
     "output_type": "display_data"
    }
   ],
   "source": [
    "g = sns.catplot(data=background_biased,\n",
    "                x='sketchType',\n",
    "                y='tier_performance',\n",
    "                hue='interventionPerf', \n",
    "                col='condition', \n",
    "                kind='bar')"
   ]
  },
  {
   "cell_type": "code",
   "execution_count": null,
   "metadata": {},
   "outputs": [],
   "source": [
    "## calculate median and categorize sketches as high or low tier\n",
    "tier_conditions = [\n",
    "    (combined['intervention_corrAns'] > combined['intervention_corrAns'].median()), \n",
    "    (combined['intervention_corrAns'] < combined['intervention_corrAns'].median())\n",
    "    ]\n",
    "\n",
    "## name tiers\n",
    "# 1 = high performance, 0 = low performance\n",
    "tier_values = [\n",
    "    1, \n",
    "    0\n",
    "    ]\n",
    "\n",
    "## apply to dataframe\n",
    "combined['tier_performance'] = np.select(tier_conditions, tier_values)"
   ]
  },
  {
   "cell_type": "code",
   "execution_count": null,
   "metadata": {
    "scrolled": false
   },
   "outputs": [],
   "source": [
    "# combined.groupby('sketch_type').mean()['tier_performance']"
   ]
  },
  {
   "cell_type": "code",
   "execution_count": null,
   "metadata": {
    "scrolled": false
   },
   "outputs": [],
   "source": [
    "print(combined.groupby(['sketch_type', 'condition'])[['tier_performance', 'propSymbol']].mean().reset_index())\n",
    "\n",
    "c = combined.groupby(['sketch_type', 'condition'])[['tier_performance', 'propSymbol']].mean().reset_index()\n",
    "g = sns.barplot(data=c.loc[c['condition'] == 'explanatory'], \n",
    "            x='sketch_type',\n",
    "            y='tier_performance', \n",
    "            )\n",
    "\n",
    "#labels\n",
    "l = plt.xlabel('sketch type')\n",
    "m = plt.ylabel('tiered performance')\n",
    "\n",
    "#plot height\n",
    "plt.ylim(0, 1)\n",
    "\n",
    "#add height of bars -- comment this out when exporting fig\n",
    "for p in g.patches:\n",
    "    height = p.get_height()\n",
    "    g.text(p.get_x()+p.get_width()/2,\n",
    "            height+.1,\n",
    "            '{:}'.format(height.round(2)),\n",
    "            ha=\"center\") \n",
    "\n",
    "\n",
    "#plot prettiness settings\n",
    "plt.tight_layout(rect=[0, 0, 2, 1])\n",
    "g.tick_params(axis='x', labelsize=15, rotation=20)"
   ]
  },
  {
   "cell_type": "code",
   "execution_count": null,
   "metadata": {},
   "outputs": [],
   "source": [
    "g = sns.barplot(data=c.loc[c['condition'] == 'depictive'], \n",
    "            x='sketch_type',\n",
    "            y='tier_performance', \n",
    "            )\n",
    "\n",
    "#labels\n",
    "l = plt.xlabel('sketch type')\n",
    "m = plt.ylabel('tiered performance')\n",
    "\n",
    "#plot height\n",
    "plt.ylim(0, 1)\n",
    "\n",
    "#add height of bars -- comment this out when exporting fig\n",
    "for p in g.patches:\n",
    "    height = p.get_height()\n",
    "    g.text(p.get_x()+p.get_width()/2,\n",
    "            height+.1,\n",
    "            '{:}'.format(height.round(2)),\n",
    "            ha=\"center\") \n",
    "\n",
    "\n",
    "#plot prettiness settings\n",
    "plt.tight_layout(rect=[0, 0, 2, 1])\n",
    "g.tick_params(axis='x', labelsize=15, rotation=20)"
   ]
  },
  {
   "cell_type": "code",
   "execution_count": null,
   "metadata": {},
   "outputs": [],
   "source": []
  },
  {
   "cell_type": "code",
   "execution_count": null,
   "metadata": {},
   "outputs": [],
   "source": []
  },
  {
   "cell_type": "code",
   "execution_count": null,
   "metadata": {},
   "outputs": [],
   "source": []
  },
  {
   "cell_type": "code",
   "execution_count": null,
   "metadata": {},
   "outputs": [],
   "source": []
  },
  {
   "cell_type": "code",
   "execution_count": null,
   "metadata": {},
   "outputs": [],
   "source": []
  },
  {
   "cell_type": "markdown",
   "metadata": {},
   "source": [
    "### Messy code: attempt to make 7 (sketch_type) x 2 (tier_performance) contingency table"
   ]
  },
  {
   "cell_type": "code",
   "execution_count": null,
   "metadata": {
    "scrolled": false
   },
   "outputs": [],
   "source": [
    "expUnit = 'sketchID'\n",
    "xvar = 'sketch_type'\n",
    "yvar = 'tier_performance'\n",
    "num_xbins = 7\n",
    "num_ybins = 2\n",
    "render_heatmap = True\n",
    "fig_height = 8\n",
    "fig_width = 8\n",
    "normed=True\n",
    "\n",
    "xvarbin = '{}_bin'.format(xvar)\n",
    "yvarbin = '{}_bin'.format(yvar)\n",
    "\n",
    "xlabels = np.arange(num_xbins)\n",
    "ylabels = np.arange(num_ybins)\n",
    "\n",
    "## collapse raw dataframe (num_observations x num_attributes) to sketch-level dataframe (num_sketches x num_attributes)\n",
    "agg_df = combined.groupby([expUnit, xvar])[[yvar]].mean().reset_index(drop=False)\n",
    "\n",
    "## get quantile assignments \n",
    "# x_assignments = pd.qcut(agg_df[xvar], num_xbins, labels=xlabels, retbins = False)\n",
    "# y_assignments = pd.qcut(agg_df[yvar], num_ybins, labels=ylabels, retbins = False)\n",
    "y_assignments = pd.cut(agg_df[yvar], num_ybins, labels=False)\n",
    "\n",
    "# ## sanity checks (these should all reflect the number of sampled units, e.g., sketchIDs)\n",
    "# assert len(y_assignments)==agg_df.shape[0]\n",
    "# assert len(x_assignments)==combined[expUnit].nunique()\n",
    "\n",
    "# ## now add bin assignments to this dataframe\n",
    "agg_df = agg_df.assign(xbin = x_assignments, ybin = y_assignments)\n",
    "XXX = agg_df.assign(xbin = combined['sketch_type'], ybin = y_assignments)\n",
    "\n",
    "# print(XXX)\n",
    "\n",
    "agg_df.rename(columns={'xbin':'{}_bin'.format(xvar), 'ybin':'{}_bin'.format(yvar)}, inplace=True)\n",
    "\n",
    "# ## init heatmap with zeros\n",
    "mat = np.zeros((num_ybins, num_xbins))\n",
    "\n",
    "# ## go through each row of the sketch dataframe and increment the corresponding cell by one\n",
    "for i,d in agg_df.iterrows():\n",
    "    row_index = d[yvarbin]\n",
    "    col_index = d[xvarbin]\n",
    "    mat[row_index, col_index] += 1\n",
    "\n",
    "# print(agg_df)\n",
    "    \n",
    "## get proportions instead of counts    \n",
    "mat_normed = mat / agg_df.shape[0]\n",
    "\n",
    "## define output var\n",
    "output = mat_normed if normed else mat\n",
    "\n",
    "if render_heatmap:\n",
    "    ## generate heatmap\n",
    "    plt.figure(figsize=(fig_width, fig_height))\n",
    "    sns.heatmap(output, annot=True, cmap='viridis', square=True, cbar_kws={'shrink':0.8})  \n",
    "    plt.xlabel(xvarbin)\n",
    "    plt.ylabel(yvarbin)\n",
    "output = mat_normed if normed else mat\n"
   ]
  },
  {
   "cell_type": "code",
   "execution_count": null,
   "metadata": {},
   "outputs": [],
   "source": [
    "expUnit = 'sketchID'\n",
    "xvar = 'rt_annotationToKeyResponse'\n",
    "yvar = 'corrAns'\n",
    "num_xbins = 7\n",
    "num_ybins = 2\n",
    "render_heatmap = True\n",
    "fig_height = 8\n",
    "fig_width = 8\n",
    "normed=True\n",
    "\n",
    "xvarbin = '{}_bin'.format(xvar)\n",
    "yvarbin = '{}_bin'.format(yvar)\n",
    "\n",
    "xlabels = np.arange(num_xbins)\n",
    "ylabels = np.arange(num_ybins)\n",
    "\n",
    "## collapse raw dataframe (num_observations x num_attributes) to sketch-level dataframe (num_sketches x num_attributes)\n",
    "agg_df = df.groupby(expUnit)[[xvar, yvar]].mean().reset_index(drop=False)\n",
    "\n",
    "# get quantile assignments \n",
    "x_assignments = pd.qcut(agg_df[xvar], num_xbins, labels=xlabels, retbins = False)\n",
    "y_assignments = pd.qcut(agg_df[yvar], num_ybins, labels=ylabels, retbins = False)\n",
    "print(y_assignments)\n",
    "## sanity checks (these should all reflect the number of sampled units, e.g., sketchIDs)\n",
    "assert len(y_assignments)==agg_df.shape[0]\n",
    "assert len(x_assignments)==df[expUnit].nunique()\n",
    "\n",
    "## now add bin assignments to this dataframe\n",
    "agg_df = agg_df.assign(xbin = x_assignments, ybin = y_assignments)\n",
    "agg_df.rename(columns={'xbin':'{}_bin'.format(xvar), 'ybin':'{}_bin'.format(yvar)}, inplace=True)\n",
    "\n",
    "## init heatmap with zeros\n",
    "mat = np.zeros((num_ybins, num_xbins))\n",
    "\n",
    "## go through each row of the sketch dataframe and increment the corresponding cell by one\n",
    "for i,d in agg_df.iterrows():\n",
    "    row_index = d[yvarbin]\n",
    "    col_index = d[xvarbin]\n",
    "    mat[row_index, col_index] += 1\n",
    "\n",
    "## get proportions instead of counts    \n",
    "mat_normed = mat / agg_df.shape[0]\n",
    "\n",
    "## define output var\n",
    "output = mat_normed if normed else mat\n",
    "\n",
    "if render_heatmap:\n",
    "    # generate heatmap\n",
    "    plt.figure(figsize=(fig_width, fig_height))\n",
    "    sns.heatmap(output, annot=True, cmap='viridis', square=True, cbar_kws={'shrink':0.8})  \n",
    "    plt.xlabel(xvarbin)\n",
    "    plt.ylabel(yvarbin)"
   ]
  },
  {
   "cell_type": "code",
   "execution_count": null,
   "metadata": {},
   "outputs": [],
   "source": []
  },
  {
   "cell_type": "code",
   "execution_count": null,
   "metadata": {},
   "outputs": [],
   "source": [
    "### TODO: split by condition^\n",
    "## chi-sq for counts of sketch_type by condition\n",
    "# is distribution diff between condition\n",
    "\n",
    "# 7x2 contingency table (sketch_type x tier_performance) \n",
    "#  — are the rows and columns independent? / is deviation from all mean proportion fo all sketch_type, does it very substantially across all 7 classes \n",
    "# (maybe leave out functional_only) // most interesting is ALL, causal_only, causal_structural, mechanical_only to compare against functional_only, functional_structural, structural_only\n",
    "\n",
    "\n",
    "## then how much does intervention_corrAns or maybe tier_performance vary among sketch_types by condition\n",
    "\n",
    "# go back to RStudio?\n",
    "\n",
    "## across diff sketch_type classes, how much variance is explained by condition? \n",
    "\n",
    "\n",
    "\n",
    "\n",
    "\n"
   ]
  },
  {
   "cell_type": "code",
   "execution_count": null,
   "metadata": {},
   "outputs": [],
   "source": []
  },
  {
   "cell_type": "markdown",
   "metadata": {},
   "source": [
    "### what about how symbols are being used?"
   ]
  },
  {
   "cell_type": "code",
   "execution_count": null,
   "metadata": {},
   "outputs": [],
   "source": [
    "## grab orig annotation data (note that this is the same dataset grabbed for the preprocessing used for the 'combined' dataset)\n",
    "# annots = pd.read_csv('/Users/hollyhuey/causaldraw_annotations/results/csv/causaldraw_annotation_final_data.csv')\n",
    "\n",
    "annots = pd.read_csv('/Users/hollyhuey/causaldraw_intervention/identification/results/csv/causaldraw_annotation_raw.csv')\n",
    "\n",
    "## deborkify\n",
    "if 'Unnamed: 0' in annots.columns:\n",
    "    annots.drop(labels=['Unnamed: 0'], inplace=True, axis=1)"
   ]
  },
  {
   "cell_type": "code",
   "execution_count": null,
   "metadata": {},
   "outputs": [],
   "source": [
    "## subset symbols\n",
    "syms = annots.loc[annots['roi_labelName'] == 'symbols']\n",
    "\n",
    "## reset index so that follow two dataframes match\n",
    "syms = syms.reset_index(drop=True)\n",
    "convert_toArray = pd.Series([s.strip(\"']['\").split(\"', '\") for s in syms['roi_symLabelID']])\n",
    "\n",
    "## check that conversion to array works\n",
    "# convert_toArray[1542][0]\n",
    "# syms[1542][0]\n",
    "\n",
    "## add convert_toArray to syms\n",
    "syms['roi_symLabelID_array'] = convert_toArray\n",
    "\n",
    "## first save original arrays into new column before replacing values\n",
    "syms['roi_symLabelID_origArray'] = syms['roi_symLabelID_array'].copy()"
   ]
  },
  {
   "cell_type": "code",
   "execution_count": null,
   "metadata": {},
   "outputs": [],
   "source": [
    "z = annots.loc[annots['sketchID'] == 'pulleys_1.2659-dd1b5c39-13c7-4a69-836f-03279f53939d']\n",
    "z"
   ]
  },
  {
   "cell_type": "code",
   "execution_count": null,
   "metadata": {
    "scrolled": true
   },
   "outputs": [],
   "source": [
    "x = syms.loc[syms['sketchID'] == 'pulleys_1.2659-dd1b5c39-13c7-4a69-836f-03279f53939d']\n",
    "x"
   ]
  },
  {
   "cell_type": "code",
   "execution_count": null,
   "metadata": {},
   "outputs": [],
   "source": [
    "y = combined.loc[combined['sketchID'] == 'pulleys_1.2659-dd1b5c39-13c7-4a69-836f-03279f53939d']\n",
    "y"
   ]
  },
  {
   "cell_type": "code",
   "execution_count": null,
   "metadata": {},
   "outputs": [],
   "source": []
  },
  {
   "cell_type": "code",
   "execution_count": null,
   "metadata": {},
   "outputs": [],
   "source": [
    "## this is not great coding...\n",
    "\n",
    "## convert categorize each elements as causal, functional, background, or light\n",
    "## first explode\n",
    "s = syms.explode('roi_symLabelID_array')\n",
    "\n",
    "## then use np.select to replace values\n",
    "# conditional conversion for both gear machines\n",
    "gear_func_1 = ((s['roi_symLabelID_array'] == '1 gear') | (s['roi_symLabelID_array'] == '2 gear'))\n",
    "gears_1f = gear_func_1&s['toy_id'].eq('gears_1')\n",
    "s['roi_symLabelID_array'] = np.select([gears_1f],['functional'],default = s.roi_symLabelID_array.values )\n",
    "\n",
    "gear_func_2 = ((s['roi_symLabelID_array'] == '1 gear') | (s['roi_symLabelID_array'] == '2 gear') | (s['roi_symLabelID_array'] == '3 gear'))\n",
    "gears_2f = gear_func_2&s['toy_id'].eq('gears_2')\n",
    "s['roi_symLabelID_array'] = np.select([gears_2f],['functional'],default = s.roi_symLabelID_array.values )\n",
    "\n",
    "gear_caus_1 = ((s['roi_symLabelID_array'] == '3 gear') | (s['roi_symLabelID_array'] == '4 gear'))\n",
    "gears_1c = gear_caus_1&s['toy_id'].eq('gears_1')\n",
    "s['roi_symLabelID_array'] = np.select([gears_1c],['causal'],default = s.roi_symLabelID_array.values )\n",
    "\n",
    "gear_caus_2 = ((s['roi_symLabelID_array'] == '4 gear') | (s['roi_symLabelID_array'] == '5 gear') | (s['roi_symLabelID_array'] == '6 gear'))\n",
    "gears_2c = gear_caus_2&s['toy_id'].eq('gears_2')\n",
    "s['roi_symLabelID_array'] = np.select([gears_2c],['causal'],default = s.roi_symLabelID_array.values )\n",
    "\n",
    "gear_back_1 = ((s['roi_symLabelID_array'] == '5 background'))\n",
    "gears_1b = gear_back_1&s['toy_id'].eq('gears_1')\n",
    "s['roi_symLabelID_array'] = np.select([gears_1b],['background'],default = s.roi_symLabelID_array.values )\n",
    "\n",
    "gear_back_2 = ((s['roi_symLabelID_array'] == '7 background'))\n",
    "gears_2b = gear_back_2&s['toy_id'].eq('gears_2')\n",
    "s['roi_symLabelID_array'] = np.select([gears_2b],['background'],default = s.roi_symLabelID_array.values )\n",
    "\n",
    "gear_light_1 = ((s['roi_symLabelID_array'] == '6 light'))\n",
    "gears_1l = gear_light_1&s['toy_id'].eq('gears_1')\n",
    "s['roi_symLabelID_array'] = np.select([gears_1l],['light'],default = s.roi_symLabelID_array.values )\n",
    "\n",
    "gear_light_2 = ((s['roi_symLabelID_array'] == '8 light'))\n",
    "gears_2l = gear_light_2&s['toy_id'].eq('gears_2')\n",
    "s['roi_symLabelID_array'] = np.select([gears_2l],['light'],default = s.roi_symLabelID_array.values )\n",
    "\n",
    "## for both lever machines\n",
    "lever_func = ((s['roi_symLabelID_array'] == '1 weight') | (s['roi_symLabelID_array'] == '3 weight') | (s['roi_symLabelID_array'] == '2 beam'))\n",
    "levers_1f = lever_func&s['toy_id'].eq('levers_1')\n",
    "levers_2f = lever_func&s['toy_id'].eq('levers_2')\n",
    "s['roi_symLabelID_array'] = np.select([levers_1f,levers_2f],['functional','functional'],default = s.roi_symLabelID_array.values )\n",
    "\n",
    "lever_caus = ((s['roi_symLabelID_array'] == '4 weight') | (s['roi_symLabelID_array'] == '6 weight') | (s['roi_symLabelID_array'] == '5 beam'))\n",
    "levers_1c = lever_caus&s['toy_id'].eq('levers_1')\n",
    "levers_2c = lever_caus&s['toy_id'].eq('levers_2')\n",
    "s['roi_symLabelID_array'] = np.select([levers_1c,levers_2c],['causal','causal'],default = s.roi_symLabelID_array.values )\n",
    "\n",
    "lever_back = ((s['roi_symLabelID_array'] == '7 background'))\n",
    "lever_1b = lever_back&s['toy_id'].eq('levers_1')\n",
    "lever_2b = lever_back&s['toy_id'].eq('levers_2')\n",
    "s['roi_symLabelID_array'] = np.select([lever_1b,lever_2b],['background','background'],default = s.roi_symLabelID_array.values )\n",
    "\n",
    "lever_light = ((s['roi_symLabelID_array'] == '8 light'))\n",
    "lever_1l = lever_light&s['toy_id'].eq('levers_1')\n",
    "lever_2l = lever_light&s['toy_id'].eq('levers_2')\n",
    "s['roi_symLabelID_array'] = np.select([lever_1l,lever_2l],['light','light'],default = s.roi_symLabelID_array.values )\n",
    "\n",
    "## for both pulley machines\n",
    "pulley_func_1 = ((s['roi_symLabelID_array'] == '2 wheel') | (s['roi_symLabelID_array'] == '3 wheel') | (s['roi_symLabelID_array'] == '6 string'))\n",
    "pulley_1f = pulley_func_1&s['toy_id'].eq('pulleys_1')\n",
    "s['roi_symLabelID_array'] = np.select([pulley_1f],['functional'],default = s.roi_symLabelID_array.values )\n",
    "\n",
    "pulley_func_2 = ((s['roi_symLabelID_array'] == '3 wheel') | (s['roi_symLabelID_array'] == '4 wheel') | (s['roi_symLabelID_array'] == '6 string'))\n",
    "pulley_2f = pulley_func_2&s['toy_id'].eq('pulleys_2')\n",
    "s['roi_symLabelID_array'] = np.select([pulley_2f],['functional'],default = s.roi_symLabelID_array.values )\n",
    "\n",
    "pulley_caus_1 = ((s['roi_symLabelID_array'] == '1 wheel') | (s['roi_symLabelID_array'] == '4 wheel') | (s['roi_symLabelID_array'] == '5 string'))\n",
    "pulley_1c = pulley_caus_1&s['toy_id'].eq('pulleys_1')\n",
    "s['roi_symLabelID_array'] = np.select([pulley_1c],['causal'],default = s.roi_symLabelID_array.values )\n",
    "\n",
    "pulley_caus_2 = ((s['roi_symLabelID_array'] == '1 wheel') | (s['roi_symLabelID_array'] == '2 wheel') | (s['roi_symLabelID_array'] == '5 string'))\n",
    "pulley_2c = pulley_caus_2&s['toy_id'].eq('pulleys_2')\n",
    "s['roi_symLabelID_array'] = np.select([pulley_2c],['causal'],default = s.roi_symLabelID_array.values )\n",
    "\n",
    "pulley_back = ((s['roi_symLabelID_array'] == '7 background'))\n",
    "pulley_1b = pulley_back&s['toy_id'].eq('pulleys_1')\n",
    "pulley_2b = pulley_back&s['toy_id'].eq('pulleys_2')\n",
    "s['roi_symLabelID_array'] = np.select([pulley_1b,pulley_2b],['background','background'],default = s.roi_symLabelID_array.values )\n",
    "\n",
    "pulley_light = ((s['roi_symLabelID_array'] == '8 light'))\n",
    "pulley_1l = pulley_light&s['toy_id'].eq('pulleys_1')\n",
    "pulley_2l = pulley_light&s['toy_id'].eq('pulleys_2')\n",
    "s['roi_symLabelID_array'] = np.select([pulley_1l,pulley_2l],['light','light'],default = s.roi_symLabelID_array.values )\n",
    "\n",
    "#combined all replaced data together\n",
    "syms['roi_symLabelID_array'] = s.groupby(level=0)['roi_symLabelID_array'].agg(list)\n",
    "\n",
    "## visual check\n",
    "syms['roi_symLabelID_array'][1542]"
   ]
  },
  {
   "cell_type": "code",
   "execution_count": null,
   "metadata": {},
   "outputs": [],
   "source": [
    "syms_subset = syms[['condition', 'toy_id', 'gameID', 'strokeType', 'sketchID',\n",
    "                    'roi_symLabelID', 'roi_symLabelID_array', 'roi_symLabelID_origArray', 'strokeIndex']].reset_index()"
   ]
  },
  {
   "cell_type": "code",
   "execution_count": null,
   "metadata": {
    "scrolled": false
   },
   "outputs": [],
   "source": [
    "## visual check if conversion from button label to strokeType worked\n",
    "# syms_subset.loc[syms_subset['toy_id'] == 'pulleys_2']"
   ]
  },
  {
   "cell_type": "code",
   "execution_count": null,
   "metadata": {},
   "outputs": [],
   "source": [
    "## add counter of elements within 'roi_symLabelID_array'\n",
    "syms_subset['array_len'] = syms_subset.roi_symLabelID_array.apply(lambda x: len(x))"
   ]
  },
  {
   "cell_type": "code",
   "execution_count": null,
   "metadata": {
    "scrolled": true
   },
   "outputs": [],
   "source": [
    "h = plt.hist(syms_subset['array_len'])\n",
    "plt.xlabel('number elements that 1 symbol stroke refers to')\n",
    "plt.ylabel('counts')\n",
    "\n",
    "Counter(Counter(syms_subset['array_len']))"
   ]
  },
  {
   "cell_type": "markdown",
   "metadata": {},
   "source": [
    "### extract symbols that refer to 1 element\n",
    "for the purposes of this analysis, i think we might want to start by being pretty strict about those cases. what proportion of symbols are referring to just one thing vs. >1? to start out, maybe we could just consider just those symbols that are referring to exactly one thing, and of just those symbols that refer to exactly one thing, what is the distribution over what they refer to\n",
    "\n",
    "does that help / make sense? then as a second/subsequent cut, we can consider those cases where the symbols refer to > 1 thing to see what's going on with them"
   ]
  },
  {
   "cell_type": "code",
   "execution_count": null,
   "metadata": {},
   "outputs": [],
   "source": [
    "## extract symbols that refer to 1 element\n",
    "syms_subset_1 = syms_subset.loc[syms_subset['array_len'] == 1]\n",
    "\n",
    "## copy to a general dataset so that the below code can generalize to other syms_subset_N\n",
    "df = syms_subset_1.copy()\n",
    "\n",
    "#convert 'roi_symLabelID_array' as list into string\n",
    "df['roi_symLabelID_array_string'] = [','.join(map(str, l)) for l in df['roi_symLabelID_array']]\n",
    "df['roi_symLabelID_type'] = df['roi_symLabelID_array_string'].copy() \n",
    "df.drop(labels=['roi_symLabelID_array', 'roi_symLabelID_array_string', 'roi_symLabelID_origArray'],inplace=True, axis=1)"
   ]
  },
  {
   "cell_type": "code",
   "execution_count": null,
   "metadata": {
    "scrolled": false
   },
   "outputs": [],
   "source": [
    "df.head()"
   ]
  },
  {
   "cell_type": "code",
   "execution_count": null,
   "metadata": {
    "scrolled": true
   },
   "outputs": [],
   "source": [
    "## do we want only symbols referring to causal and functional elements \n",
    "## if so, set reallyRun = True\n",
    "\n",
    "reallyRun = True\n",
    "\n",
    "if reallyRun: \n",
    "    print('Dataset does not contain background and light strokes')\n",
    "    \n",
    "    df = df.loc[df['roi_symLabelID_type'] != 'background']\n",
    "    df = df.loc[df['roi_symLabelID_type'] != 'light']\n",
    "    \n",
    "    ## get counts of each type of annotation\n",
    "    E = df.groupby(['sketchID', 'condition'])['roi_symLabelID_type'].value_counts().reset_index(name='type_counts')\n",
    "    \n",
    "    ## pivot long to wide, so one column per each annotation type\n",
    "    F = E.pivot(index=['sketchID', 'condition'], columns='roi_symLabelID_type', values='type_counts').reset_index()\n",
    "\n",
    "    ## add total strokes column\n",
    "    F = F.assign(totalStrokes = F.apply(lambda x: np.nansum([x['causal'],x['functional']]),axis=1))\n",
    "\n",
    "    ## replace NaNs with zeros\n",
    "    F = F.fillna(value=0)\n",
    "\n",
    "    ## rename columns\n",
    "    F = F.rename({'causal':'numCausal','functional':'numFunctional'}, axis=1)\n",
    "\n",
    "    ## add proportion columns\n",
    "    F = F.assign(sym_propCausal = F.apply(lambda x: x['numCausal']/x['totalStrokes'],axis=1))\n",
    "    F = F.assign(sym_propFunctional = F.apply(lambda x: x['numFunctional']/x['totalStrokes'],axis=1))\n",
    "\n",
    "    F_subset = F[['sketchID', 'condition', 'sym_propCausal', 'sym_propFunctional']].reset_index()\n",
    "    \n",
    "    ## add symbol data to combined data\n",
    "    combined_sym = combined.merge(F_subset, on=['sketchID', 'condition']).reset_index(drop=True)\n",
    "\n",
    "    ## allocation of symbols to elements WHEN symbols were used, by sketch_type\n",
    "    print(combined_sym.groupby(['sketch_type', 'condition'])[['sym_propCausal', 'sym_propFunctional']].mean().reset_index())\n",
    "\n",
    "## do we want a fine-grain analysis of causal, functional, background, and light? \n",
    "## if so, set reallyRun = False\n",
    "else:\n",
    "    print('Dataset contains background and light strokes')\n",
    "    \n",
    "    ## get counts of each type of annotation\n",
    "    E = df.groupby(['sketchID', 'condition'])['roi_symLabelID_type'].value_counts().reset_index(name='type_counts')\n",
    "\n",
    "    ## pivot long to wide, so one column per each annotation type\n",
    "    F = E.pivot(index=['sketchID', 'condition'], columns='roi_symLabelID_type', values='type_counts').reset_index()\n",
    "\n",
    "    ## add total strokes column\n",
    "    F = F.assign(totalStrokes = F.apply(lambda x: np.nansum([x['background'],x['causal'],x['functional'],x['light']]),axis=1))\n",
    "\n",
    "    ## replace NaNs with zeros\n",
    "    F = F.fillna(value=0)\n",
    "\n",
    "    ## rename columns\n",
    "    F = F.rename({'background':'numBackground','causal':'numCausal','functional':'numFunctional',\n",
    "              'light':'numLight'}, axis=1)\n",
    "\n",
    "    ## add proportion columns\n",
    "    F = F.assign(sym_propCausal = F.apply(lambda x: x['numCausal']/x['totalStrokes'],axis=1))\n",
    "    F = F.assign(sym_propFunctional = F.apply(lambda x: x['numFunctional']/x['totalStrokes'],axis=1))\n",
    "    F = F.assign(sym_propLight = F.apply(lambda x: x['numLight']/x['totalStrokes'],axis=1))\n",
    "    F = F.assign(sym_propBackground = F.apply(lambda x: x['numBackground']/x['totalStrokes'],axis=1))\n",
    "\n",
    "    F_subset = F[['sketchID', 'condition', 'sym_propCausal', 'sym_propFunctional', 'sym_propLight', 'sym_propBackground']].reset_index()\n",
    "    \n",
    "    ## add symbol data to combined data\n",
    "    combined_sym = combined.merge(F_subset, on=['sketchID', 'condition']).reset_index(drop=True)\n",
    "\n",
    "    ## allocation of symbols to elements WHEN symbols were used, by sketch_type\n",
    "    print(combined_sym.groupby(['sketch_type', 'condition'])[['sym_propCausal', 'sym_propFunctional', 'sym_propBackground', 'sym_propLight']].mean().reset_index())\n",
    "    \n",
    "## visually check that rows have expanded correctly\n",
    "# syms_subset.loc[syms_subset['index'] == 1542]\n",
    "# expanded_syms_subset.loc[expanded_syms_subset['index'] == 1542]"
   ]
  },
  {
   "cell_type": "code",
   "execution_count": null,
   "metadata": {},
   "outputs": [],
   "source": [
    "x = combined_sym.loc[combined_sym['sketch_type'] == 'causal_only']\n",
    "x.loc[78]['sketchID']"
   ]
  },
  {
   "cell_type": "code",
   "execution_count": null,
   "metadata": {},
   "outputs": [],
   "source": [
    "## only visualize caual and functional?\n",
    "## if so, set reallyRun = True\n",
    "\n",
    "reallyRun = True\n",
    "\n",
    "#cleanup label names before plotting\n",
    "if reallyRun:\n",
    "    c_sym = combined_sym.groupby(['sketch_type', 'condition'])[['sym_propCausal', 'sym_propFunctional']].mean().reset_index()\n",
    "    c_long = pd.melt(c_sym, id_vars=['sketch_type', 'condition'], value_vars=['sym_propCausal', 'sym_propFunctional'])\n",
    "    c_long = c_long.replace({'variable': {'sym_propCausal': 'causal', \n",
    "                                          'sym_propFunctional': 'functional', \n",
    "                                        }})\n",
    "    print('Dataset includes background and light strokes')\n",
    "\n",
    "else:  \n",
    "    c_sym = combined_sym.groupby(['sketch_type', 'condition'])[['sym_propCausal', 'sym_propFunctional', 'sym_propBackground', 'sym_propLight']].mean().reset_index()\n",
    "    c_long = pd.melt(c_sym, id_vars=['sketch_type', 'condition'], value_vars=['sym_propCausal', 'sym_propFunctional', 'sym_propBackground', 'sym_propLight'])\n",
    "    c_long = c_long.replace({'variable': {'sym_propCausal': 'causal', \n",
    "                                          'sym_propFunctional': 'functional', \n",
    "                                          'sym_propBackground': 'background',\n",
    "                                          'sym_propLight': 'light'\n",
    "                                        }})\n",
    "    print('Dataset does not include background and light strokes')\n",
    "\n",
    "\n",
    "g = sns.barplot(data= c_long, #c_long.loc[c_long['condition'] == 'explanatory'],\n",
    "            x='sketch_type',\n",
    "            y='value', \n",
    "            hue='variable', \n",
    "            ci=None\n",
    "            )\n",
    "\n",
    "#labels\n",
    "plt.title('Proportion of Symbol by Sketch Type')\n",
    "l = plt.xlabel('sketch type')\n",
    "m = plt.ylabel('proportion')\n",
    "\n",
    "#plot height\n",
    "plt.ylim(0, 1)\n",
    "\n",
    "#add height of bars -- comment this out when exporting fig\n",
    "for p in g.patches:\n",
    "    height = p.get_height()\n",
    "    g.text(p.get_x()+p.get_width()/2,\n",
    "            height+.1,\n",
    "            '{:}'.format(height.round(2)),\n",
    "            ha=\"center\") \n",
    "\n",
    "#plot prettiness settings\n",
    "plt.tight_layout(rect=[0, 0, 3.5, 1])\n",
    "plt.legend(bbox_to_anchor=(1.05, 1), loc=2, borderaxespad=0.)\n",
    "\n",
    "g.tick_params(axis='x', labelsize=15, rotation=20)"
   ]
  },
  {
   "cell_type": "code",
   "execution_count": null,
   "metadata": {},
   "outputs": [],
   "source": []
  },
  {
   "cell_type": "code",
   "execution_count": null,
   "metadata": {},
   "outputs": [],
   "source": []
  },
  {
   "cell_type": "code",
   "execution_count": null,
   "metadata": {},
   "outputs": [],
   "source": [
    "c = combined.groupby('sketch_type')[['tier_performance', 'propSymbol']].mean().reset_index()\n",
    "\n",
    "g = sns.barplot(data=c, \n",
    "            x='sketch_type',\n",
    "            y='tier_performance', \n",
    "            )\n",
    "\n",
    "\n",
    "#labels\n",
    "plt.title('Sketch Type Performance')\n",
    "l = plt.xlabel('sketch type')\n",
    "m = plt.ylabel('tiered performance')\n",
    "\n",
    "#plot height\n",
    "plt.ylim(0, 1)\n",
    "\n",
    "#add height of bars -- comment this out when exporting fig\n",
    "for p in g.patches:\n",
    "    height = p.get_height()\n",
    "    g.text(p.get_x()+p.get_width()/2,\n",
    "            height+.1,\n",
    "            '{:}'.format(height.round(2)),\n",
    "            ha=\"center\") \n",
    "\n",
    "\n",
    "#plot prettiness settings\n",
    "plt.tight_layout(rect=[0, 0, 2, 1])\n",
    "g.tick_params(axis='x', labelsize=15, rotation=20)"
   ]
  },
  {
   "cell_type": "code",
   "execution_count": null,
   "metadata": {},
   "outputs": [],
   "source": []
  },
  {
   "cell_type": "code",
   "execution_count": null,
   "metadata": {},
   "outputs": [],
   "source": []
  },
  {
   "cell_type": "code",
   "execution_count": null,
   "metadata": {},
   "outputs": [],
   "source": []
  },
  {
   "cell_type": "code",
   "execution_count": null,
   "metadata": {},
   "outputs": [],
   "source": []
  },
  {
   "cell_type": "code",
   "execution_count": null,
   "metadata": {},
   "outputs": [],
   "source": []
  },
  {
   "cell_type": "markdown",
   "metadata": {},
   "source": [
    "### Beware! sandbox scraps below "
   ]
  },
  {
   "cell_type": "code",
   "execution_count": null,
   "metadata": {},
   "outputs": [],
   "source": [
    "## expand so that each row has one \n",
    "## https://stackoverflow.com/questions/42012152/unstack-a-pandas-column-containing-lists-into-multiple-rows\n",
    "# lst_col = 'roi_symLabelID_array'\n",
    "# expanded_syms_subset = pd.DataFrame({col:np.repeat(syms_subset[col].values, syms_subset[lst_col].str.len()) \n",
    "#               for col in syms_subset.columns.difference([lst_col])\n",
    "#              }).assign(**{lst_col:np.concatenate(syms_subset[lst_col].values)})[syms_subset.columns.tolist()]\n",
    "\n",
    "reallyRun = False\n",
    "if reallyRun: \n",
    "    print('Dataset does not contain background and light strokes')\n",
    "    \n",
    "    expanded_syms_subset = expanded_syms_subset.loc[expanded_syms_subset['roi_symLabelID_array'] != 'background']\n",
    "    expanded_syms_subset = expanded_syms_subset.loc[expanded_syms_subset['roi_symLabelID_array'] != 'light']\n",
    "    \n",
    "    ## get counts of each type of annotation\n",
    "    E = expanded_syms_subset.groupby(['sketchID', 'condition'])['roi_symLabelID_array'].value_counts().reset_index(name='type_counts')\n",
    "    \n",
    "    ## pivot long to wide, so one column per each annotation type\n",
    "    F = E.pivot(index=['sketchID', 'condition'], columns='roi_symLabelID_array', values='type_counts').reset_index()\n",
    "\n",
    "    ## add total strokes column\n",
    "    F = F.assign(totalStrokes = F.apply(lambda x: np.nansum([x['causal'],x['functional']]),axis=1))\n",
    "\n",
    "    ## replace NaNs with zeros\n",
    "    F = F.fillna(value=0)\n",
    "\n",
    "    ## rename columns\n",
    "    F = F.rename({'causal':'numCausal','functional':'numFunctional'}, axis=1)\n",
    "\n",
    "    ## add proportion columns\n",
    "    F = F.assign(sym_propCausal = F.apply(lambda x: x['numCausal']/x['totalStrokes'],axis=1))\n",
    "    F = F.assign(sym_propFunctional = F.apply(lambda x: x['numFunctional']/x['totalStrokes'],axis=1))\n",
    "\n",
    "    F_subset = F[['sketchID', 'condition', 'sym_propCausal', 'sym_propFunctional']].reset_index()\n",
    "    \n",
    "    ## add symbol data to combined data\n",
    "    combined_sym = combined.merge(F_subset, on=['sketchID', 'condition']).reset_index(drop=True)\n",
    "\n",
    "    ## allocation of symbols to elements WHEN symbols were used, by sketch_type\n",
    "#     print(combined_sym.groupby(['sketch_type', 'condition'])[['sym_propCausal', 'sym_propFunctional']].mean().reset_index())\n",
    "\n",
    "else:\n",
    "    print('Dataset contains background and light strokes')\n",
    "    \n",
    "    ## get counts of each type of annotation\n",
    "    E = expanded_syms_subset.groupby(['sketchID', 'condition'])['roi_symLabelID_array'].value_counts().reset_index(name='type_counts')\n",
    "\n",
    "    ## pivot long to wide, so one column per each annotation type\n",
    "    F = E.pivot(index=['sketchID', 'condition'], columns='roi_symLabelID_array', values='type_counts').reset_index()\n",
    "\n",
    "    ## add total strokes column\n",
    "    F = F.assign(totalStrokes = F.apply(lambda x: np.nansum([x['background'],x['causal'],x['functional'],x['light']]),axis=1))\n",
    "\n",
    "    ## replace NaNs with zeros\n",
    "    F = F.fillna(value=0)\n",
    "\n",
    "    ## rename columns\n",
    "    F = F.rename({'background':'numBackground','causal':'numCausal','functional':'numFunctional',\n",
    "              'light':'numLight'}, axis=1)\n",
    "\n",
    "    ## add proportion columns\n",
    "    F = F.assign(sym_propCausal = F.apply(lambda x: x['numCausal']/x['totalStrokes'],axis=1))\n",
    "    F = F.assign(sym_propFunctional = F.apply(lambda x: x['numFunctional']/x['totalStrokes'],axis=1))\n",
    "    F = F.assign(sym_propLight = F.apply(lambda x: x['numLight']/x['totalStrokes'],axis=1))\n",
    "    F = F.assign(sym_propBackground = F.apply(lambda x: x['numBackground']/x['totalStrokes'],axis=1))\n",
    "\n",
    "    F_subset = F[['sketchID', 'condition', 'sym_propCausal', 'sym_propFunctional', 'sym_propLight', 'sym_propBackground']].reset_index()\n",
    "    \n",
    "    ## add symbol data to combined data\n",
    "    combined_sym = combined.merge(F_subset, on=['sketchID', 'condition']).reset_index(drop=True)\n",
    "\n",
    "    ## allocation of symbols to elements WHEN symbols were used, by sketch_type\n",
    "#     print(combined_sym.groupby(['sketch_type', 'condition'])[['sym_propCausal', 'sym_propFunctional', 'sym_propBackground', 'sym_propLight']].mean().reset_index())\n",
    "    \n",
    "## visually check that rows have expanded correctly\n",
    "# syms_subset.loc[syms_subset['index'] == 1542]\n",
    "# expanded_syms_subset.loc[expanded_syms_subset['index'] == 1542]"
   ]
  },
  {
   "cell_type": "code",
   "execution_count": null,
   "metadata": {},
   "outputs": [],
   "source": [
    "## expand dataframe so that every row only has 1 roi_symLabelID_array (not an array anymore)\n",
    "lst_col = 'roi_symLabelID_array'\n",
    "expanded_syms_subset = pd.DataFrame({col:np.repeat(syms_subset[col].values, syms_subset[lst_col].str.len()) \n",
    "              for col in syms_subset.columns.difference([lst_col])\n",
    "             }).assign(**{lst_col:np.concatenate(syms_subset[lst_col].values)})[syms_subset.columns.tolist()]\n",
    "\n",
    "## get counts of each type of annotation\n",
    "e = expanded_syms_subset.groupby(['sketchID', 'strokeIndex'])['roi_symLabelID_array'].value_counts().reset_index(name='type_counts')\n",
    "\n",
    "e = e.reset_index()\n",
    "\n",
    "## get the most commonly assigned roi_symLabelID_array \n",
    "m = e.groupby(['sketchID','strokeIndex']).apply(lambda x: x[x['type_counts']==x.type_counts.max()]['roi_symLabelID_array'])\n",
    "\n",
    "## just pull out these most common label names\n",
    "n = m.reset_index(drop=False).drop(labels='level_2',axis=1)\n",
    "\n",
    "## get counts of each type of stroke\n",
    "p = n.groupby('sketchID')['roi_symLabelID_array'].value_counts().reset_index(name='counts')\n",
    "\n",
    "## pivot long to wide, so a column for each stroke type\n",
    "q = p.pivot(index='sketchID', columns='roi_symLabelID_array', values='counts').reset_index()\n",
    "\n",
    "\n",
    "\n",
    "## add total strokes column\n",
    "q = q.assign(totalStrokes = q.apply(lambda x: np.nansum([x['background'],x['causal'],x['functional'],x['light']]),axis=1))\n",
    "\n",
    "## replace NaNs with zeros\n",
    "q = q.fillna(value=0)\n",
    "\n",
    "## rename columns\n",
    "q = q.rename({'background':'numBackground','causal':'numCausal','functional':'numFunctional',\n",
    "          'light':'numLight'}, axis=1)\n",
    "\n",
    "## add proportion columns\n",
    "q = q.assign(sym_propCausal = q.apply(lambda x: x['numCausal']/x['totalStrokes'],axis=1))\n",
    "q = q.assign(sym_propFunctional = q.apply(lambda x: x['numFunctional']/x['totalStrokes'],axis=1))\n",
    "q = q.assign(sym_propLight = q.apply(lambda x: x['numLight']/x['totalStrokes'],axis=1))\n",
    "q = q.assign(sym_propBackground = q.apply(lambda x: x['numBackground']/x['totalStrokes'],axis=1))\n",
    "\n",
    "q_subset = q[['sketchID', 'sym_propCausal', 'sym_propFunctional', 'sym_propLight', 'sym_propBackground']].reset_index()\n",
    "\n",
    "## add symbol data to combined data\n",
    "CCC = combined.merge(p_subset, on=['sketchID']).reset_index(drop=True)"
   ]
  },
  {
   "cell_type": "code",
   "execution_count": null,
   "metadata": {
    "scrolled": true
   },
   "outputs": [],
   "source": [
    "z = CCC.loc[CCC['sketch_type'] == 'causal_only']\n",
    "z"
   ]
  },
  {
   "cell_type": "code",
   "execution_count": null,
   "metadata": {},
   "outputs": [],
   "source": []
  },
  {
   "cell_type": "code",
   "execution_count": null,
   "metadata": {
    "scrolled": true
   },
   "outputs": [],
   "source": [
    "## expand dataframe so that every row only has 1 roi_symLabelID_array (not an array anymore)\n",
    "lst_col = 'roi_symLabelID_array'\n",
    "expanded_syms_subset = pd.DataFrame({col:np.repeat(syms_subset[col].values, syms_subset[lst_col].str.len()) \n",
    "              for col in syms_subset.columns.difference([lst_col])\n",
    "             }).assign(**{lst_col:np.concatenate(syms_subset[lst_col].values)})[syms_subset.columns.tolist()]\n",
    "\n",
    "z = expanded_syms_subset.loc[expanded_syms_subset['sketchID'] == 'gears_1.5369-de50eae9-8b3d-44d0-89c1-b279c4fea591']\n",
    "z"
   ]
  },
  {
   "cell_type": "code",
   "execution_count": null,
   "metadata": {},
   "outputs": [],
   "source": [
    "Z = p.loc[p['sketchID'] == 'gears_1.5369-de50eae9-8b3d-44d0-89c1-b279c4fea591']\n",
    "Z"
   ]
  },
  {
   "cell_type": "code",
   "execution_count": null,
   "metadata": {},
   "outputs": [],
   "source": [
    "w = e.loc[e['sketchID'] == 'gears_1.5369-de50eae9-8b3d-44d0-89c1-b279c4fea591']\n",
    "w"
   ]
  },
  {
   "cell_type": "code",
   "execution_count": null,
   "metadata": {
    "scrolled": true
   },
   "outputs": [],
   "source": [
    "Y = syms_subset.loc[syms_subset['sketchID'] == 'gears_1.5369-de50eae9-8b3d-44d0-89c1-b279c4fea591']\n",
    "Y"
   ]
  },
  {
   "cell_type": "code",
   "execution_count": null,
   "metadata": {},
   "outputs": [],
   "source": []
  },
  {
   "cell_type": "code",
   "execution_count": null,
   "metadata": {},
   "outputs": [],
   "source": []
  },
  {
   "cell_type": "code",
   "execution_count": null,
   "metadata": {},
   "outputs": [],
   "source": []
  },
  {
   "cell_type": "code",
   "execution_count": null,
   "metadata": {},
   "outputs": [],
   "source": []
  },
  {
   "cell_type": "code",
   "execution_count": null,
   "metadata": {},
   "outputs": [],
   "source": []
  },
  {
   "cell_type": "code",
   "execution_count": null,
   "metadata": {
    "scrolled": true
   },
   "outputs": [],
   "source": [
    "E"
   ]
  },
  {
   "cell_type": "code",
   "execution_count": null,
   "metadata": {
    "scrolled": true
   },
   "outputs": [],
   "source": [
    "## mean performance and usage of symbols by sketch_type\n",
    "combined.groupby(['sketch_type', 'condition'])[['tier_performance', 'propSymbol']].mean().reset_index()"
   ]
  },
  {
   "cell_type": "code",
   "execution_count": null,
   "metadata": {
    "scrolled": true
   },
   "outputs": [],
   "source": [
    "#cleanup label names before plotting\n",
    "reallyRun = True\n",
    "if reallyRun:\n",
    "    c_sym = combined_sym.groupby('sketch_type')[['sym_propCausal', 'sym_propFunctional']].mean().reset_index()\n",
    "    c_long = pd.melt(c_sym, id_vars='sketch_type', value_vars=['sym_propCausal', 'sym_propFunctional'])\n",
    "    c_long = c_long.replace({'variable': {'sym_propCausal': 'causal', \n",
    "                                          'sym_propFunctional': 'functional', \n",
    "                                        }})\n",
    "    print('Dataset includes background and light strokes')\n",
    "\n",
    "else:  \n",
    "    c_sym = combined_sym.groupby('sketch_type')[['sym_propCausal', 'sym_propFunctional', 'sym_propBackground', 'sym_propLight']].mean().reset_index()\n",
    "    c_long = pd.melt(c_sym, id_vars='sketch_type', value_vars=['sym_propCausal', 'sym_propFunctional', 'sym_propBackground', 'sym_propLight'])\n",
    "    c_long = c_long.replace({'variable': {'sym_propCausal': 'causal', \n",
    "                                          'sym_propFunctional': 'functional', \n",
    "                                          'sym_propBackground': 'background',\n",
    "                                          'sym_propLight': 'light'\n",
    "                                        }})\n",
    "    print('Dataset does not include background and light strokes')\n",
    "\n",
    "\n",
    "g = sns.barplot(data=c_long, \n",
    "            x='sketch_type',\n",
    "            y='value', \n",
    "            hue='variable', \n",
    "            )\n",
    "\n",
    "#labels\n",
    "plt.title('Proportion of Symbol by Sketch Type')\n",
    "l = plt.xlabel('sketch type')\n",
    "m = plt.ylabel('proportion')\n",
    "\n",
    "#plot height\n",
    "plt.ylim(0, 1)\n",
    "\n",
    "#add height of bars -- comment this out when exporting fig\n",
    "for p in g.patches:\n",
    "    height = p.get_height()\n",
    "    g.text(p.get_x()+p.get_width()/2,\n",
    "            height+.1,\n",
    "            '{:}'.format(height.round(2)),\n",
    "            ha=\"center\") \n",
    "\n",
    "#plot prettiness settings\n",
    "plt.tight_layout(rect=[0, 0, 3.5, 1])\n",
    "plt.legend(bbox_to_anchor=(1.05, 1), loc=2, borderaxespad=0.)\n",
    "\n",
    "g.tick_params(axis='x', labelsize=15, rotation=20)"
   ]
  },
  {
   "cell_type": "code",
   "execution_count": null,
   "metadata": {},
   "outputs": [],
   "source": [
    "x = combined_sym.loc[combined_sym['sketch_type'] == 'causal_only']\n",
    "x"
   ]
  },
  {
   "cell_type": "code",
   "execution_count": null,
   "metadata": {},
   "outputs": [],
   "source": []
  },
  {
   "cell_type": "code",
   "execution_count": null,
   "metadata": {},
   "outputs": [],
   "source": [
    "## check merge dataframes\n",
    "# what prop symbols annotating causal vs. functional by condition "
   ]
  },
  {
   "cell_type": "code",
   "execution_count": null,
   "metadata": {},
   "outputs": [],
   "source": [
    "c = combined.groupby('sketch_type')[['tier_performance', 'propSymbol']].mean().reset_index()\n",
    "\n",
    "g = sns.barplot(data=c, \n",
    "            x='sketch_type',\n",
    "            y='tier_performance', \n",
    "            )\n",
    "\n",
    "\n",
    "#labels\n",
    "plt.title('Sketch Type Performance')\n",
    "l = plt.xlabel('sketch type')\n",
    "m = plt.ylabel('tiered performance')\n",
    "\n",
    "#plot height\n",
    "plt.ylim(0, 1)\n",
    "\n",
    "#add height of bars -- comment this out when exporting fig\n",
    "for p in g.patches:\n",
    "    height = p.get_height()\n",
    "    g.text(p.get_x()+p.get_width()/2,\n",
    "            height+.1,\n",
    "            '{:}'.format(height.round(2)),\n",
    "            ha=\"center\") \n",
    "\n",
    "\n",
    "#plot prettiness settings\n",
    "plt.tight_layout(rect=[0, 0, 2, 1])\n",
    "g.tick_params(axis='x', labelsize=15, rotation=20)"
   ]
  },
  {
   "cell_type": "code",
   "execution_count": null,
   "metadata": {},
   "outputs": [],
   "source": []
  },
  {
   "cell_type": "code",
   "execution_count": null,
   "metadata": {},
   "outputs": [],
   "source": []
  },
  {
   "cell_type": "code",
   "execution_count": null,
   "metadata": {},
   "outputs": [],
   "source": []
  },
  {
   "cell_type": "code",
   "execution_count": null,
   "metadata": {},
   "outputs": [],
   "source": []
  },
  {
   "cell_type": "markdown",
   "metadata": {},
   "source": [
    "#### TODO note: try normalizing accuracy and RT so that you can compute a non-sketchy combined efficiency score and use that to compare conditions"
   ]
  },
  {
   "cell_type": "code",
   "execution_count": null,
   "metadata": {},
   "outputs": [],
   "source": []
  },
  {
   "cell_type": "code",
   "execution_count": null,
   "metadata": {},
   "outputs": [],
   "source": []
  },
  {
   "cell_type": "code",
   "execution_count": null,
   "metadata": {},
   "outputs": [],
   "source": []
  },
  {
   "cell_type": "code",
   "execution_count": null,
   "metadata": {},
   "outputs": [],
   "source": []
  },
  {
   "cell_type": "code",
   "execution_count": null,
   "metadata": {},
   "outputs": [],
   "source": [
    "# barplot for every toy_id, counting key_press responses\n",
    "g = sns.catplot(data = df, \n",
    "            x = 'key_press',\n",
    "            hue='key_press',\n",
    "            col='toy_id',\n",
    "#             row='condition',\n",
    "            kind='count',\n",
    "#             aspect = 1\n",
    "            )"
   ]
  },
  {
   "cell_type": "markdown",
   "metadata": {},
   "source": [
    "^note to self\n",
    "• gears_1: choosing 3 when corrAns is 4 (3 & 4 are causal)\n",
    "• gears_2: choosing 4 when corrAns is 3 (3 & 4 are causal)\n",
    "• levers_1: choosing mostly 4 but also 1 when corrAns is 4 (2 & 4 are causal)\n",
    "• levers_2: choosing mostly 4 but also 2 when corrAns is 2 (2 & 4 are causal)\n",
    "• pulleys_1: choosing mostly 4 but also 3 when corrAns is 1 (1 & 3 are causal)\n",
    "• *pulleys_2*: choosing mostly 1 but also 2 when corrAns is 1 (1 & 2 are causal)"
   ]
  },
  {
   "cell_type": "code",
   "execution_count": null,
   "metadata": {},
   "outputs": [],
   "source": [
    "# barplot for every machine what prop of responses\n",
    "g = sns.catplot(data = df, \n",
    "            x = 'causal_roi',\n",
    "            hue='causal_roi',\n",
    "            col='toy_id',\n",
    "            row='condition',\n",
    "            kind='count',\n",
    "#             aspect = 1\n",
    "            )"
   ]
  },
  {
   "cell_type": "code",
   "execution_count": null,
   "metadata": {
    "scrolled": true
   },
   "outputs": [],
   "source": [
    "df['toy_id'] = df['sketchID'].apply(lambda x: x.split('.')[0])\n",
    "counts = df.groupby(['toy_id', 'condition'])['causal_roi'].value_counts().reset_index(name='type_counts')\n",
    "c = counts.groupby(['toy_id', 'condition'])['type_counts'].sum().reset_index(name='total')\n",
    "c[\"identifier\"] = c[\"toy_id\"] + \"_\" + c[\"condition\"]\n",
    "counts[\"identifier\"] = counts[\"toy_id\"] + \"_\" + counts[\"condition\"]\n",
    "prop_df = pd.merge(c, counts, on=\"identifier\")\n",
    "prop_df['prop'] = prop_df['type_counts']/prop_df['total']\n",
    "\n",
    "g = sns.barplot(data = prop_df, \n",
    "            x = 'toy_id_x',\n",
    "            y = 'prop',\n",
    "            hue='causal_roi',\n",
    "#             col='condition_x',\n",
    "#             kind='bar'\n",
    "            )\n",
    "\n",
    "for p in g.patches:\n",
    "    height = p.get_height()\n",
    "    g.text(p.get_x()+p.get_width()/2,\n",
    "            height+.18,\n",
    "            '{:}'.format(height.round(2)),\n",
    "            ha=\"center\") \n",
    "\n",
    "change_width(g, .18)\n",
    "plt.tight_layout(rect=[0, 0, 5, 2])\n",
    "\n",
    "g.tick_params(axis='x', labelsize=50, rotation=30)\n",
    "plt.legend(bbox_to_anchor=(1.05, 1), loc=2, borderaxespad=0.)"
   ]
  },
  {
   "cell_type": "code",
   "execution_count": null,
   "metadata": {},
   "outputs": [],
   "source": [
    "#### take max of proportion of modal frequencies per sketches "
   ]
  },
  {
   "cell_type": "code",
   "execution_count": null,
   "metadata": {
    "scrolled": true
   },
   "outputs": [],
   "source": [
    "### plot whether sketches that are easier to ID are easier to intervene on\n",
    "combined = pd.read_csv (r'../results/csv/combined_intervention_identification_2AFC_data.csv')\n",
    "combined['toy_id'] = combined['sketchID'].apply(lambda x: x.split('.')[0])\n",
    "combined.head()"
   ]
  },
  {
   "cell_type": "code",
   "execution_count": null,
   "metadata": {
    "scrolled": true
   },
   "outputs": [],
   "source": [
    "sns.scatterplot(data=combined, \n",
    "                x='intervention_corrAns',\n",
    "                y='identification_corrAns',\n",
    "               )\n",
    "\n",
    "bound = 1\n",
    "plt.plot((0,bound),(0,bound),'k:')\n",
    "\n",
    "plt.title('Are good ID sketches also good intervention sketches?')\n",
    "plt.tight_layout()"
   ]
  },
  {
   "cell_type": "code",
   "execution_count": null,
   "metadata": {},
   "outputs": [],
   "source": []
  },
  {
   "cell_type": "code",
   "execution_count": null,
   "metadata": {},
   "outputs": [],
   "source": [
    "#split correct answers of sketches in the ID task into quartiles\n",
    "combined['ID_quartile'] = pd.cut(combined['identification_corrAns'], bins=4, \n",
    "                                     labels=['low', 'low_med', 'high_med', 'high'])\n",
    "\n",
    "combined['inter_quartile'] = pd.cut(combined['intervention_corrAns'], bins=4, \n",
    "                                     labels=['low', 'low_med', 'high_med', 'high'])\n",
    "\n",
    "combined['ID_quartile2'] = pd.cut(combined_2['identification_corrAns'], bins=2, \n",
    "                                     labels=['low', 'high'])\n",
    "\n",
    "combined['inter_quartile2'] = pd.cut(combined_2['intervention_corrAns'], bins=2, \n",
    "                                     labels=['low', 'high'])"
   ]
  },
  {
   "cell_type": "code",
   "execution_count": null,
   "metadata": {},
   "outputs": [],
   "source": [
    "combined['totalAvgScore'] = (combined['intervention_corrAns'] + combined['identification_corrAns'])/2 "
   ]
  },
  {
   "cell_type": "markdown",
   "metadata": {},
   "source": [
    "#### render sketches as html images"
   ]
  },
  {
   "cell_type": "code",
   "execution_count": null,
   "metadata": {},
   "outputs": [],
   "source": [
    "#prep nav path\n",
    "causaldraw_dir = '/Users/hollyhuey/causaldraw/analysis/sketches/run1/'\n",
    "combined['path'] = combined['sketchID'] + '_' + combined['toy_id'] + '_' + combined['condition']\n",
    "combined['nav'] = '<img src=\"'+ causaldraw_dir + (combined['path'].apply(lambda x: x.split('.')[1])) + '.png' + '\" width=\"60\" >'    \n",
    "render = combined.copy()\n",
    "\n",
    "#sort by best to worst intervention sketches\n",
    "render = render.sort_values(by=['inter_quartile'], ascending=False)\n",
    "\n",
    "#render out as html file -- open from Finder, not jupyter\n",
    "pd.set_option('display.max_colwidth', -1)\n",
    "HTML(render.to_html(escape=False))\n",
    "render.to_html('render_test.html', escape=False)\n",
    "\n",
    "#render out only explanations -- open from Finder, not jupyter\n",
    "render_exp = render[render.condition == 'explanatory']\n",
    "HTML(render_exp.to_html(escape=False))\n",
    "render_exp.to_html('render_exp_test.html', escape=False)"
   ]
  },
  {
   "cell_type": "code",
   "execution_count": null,
   "metadata": {},
   "outputs": [],
   "source": [
    "combined['inter_decile'] = pd.cut(combined['intervention_corrAns'], bins=10, \n",
    "                                     labels=np.arange(10))\n",
    "combined['inter_quantile'] = pd.cut(combined['intervention_corrAns'], bins=4, \n",
    "                                     labels=np.arange(4))\n",
    "combined['inter_half'] = pd.cut(combined['intervention_corrAns'], bins=2, \n",
    "                                     labels=np.arange(2))\n",
    "\n",
    "combined['ID_decile'] = pd.cut(combined['identification_corrAns'], bins=10, \n",
    "                                     labels=np.arange(10))\n",
    "combined['ID_quantile'] = pd.cut(combined['identification_corrAns'], bins=4, \n",
    "                                     labels=np.arange(4))\n",
    "combined['ID_half'] = pd.cut(combined['identification_corrAns'], bins=2, \n",
    "                                     labels=np.arange(2))\n",
    "\n",
    "causaldraw_dir = '/Users/hollyhuey/causaldraw/analysis/sketches/run1/'\n",
    "combined['path'] = combined['sketchID'] + '_' + combined['toy_id'] + '_' + combined['condition']\n",
    "combined['nav'] = '<img src=\"'+ causaldraw_dir + (combined['path'].apply(lambda x: x.split('.')[1])) + '.png' + '\" width=\"60\" >'    \n",
    "render = combined.copy()\n",
    "\n",
    "#sort by best to worst intervention sketches\n",
    "render = render[render.condition == 'explanatory']\n",
    "render_d = render.sort_values(by=['inter_decile'], ascending=False)\n",
    "render_d = render_d.drop(['Unnamed: 0'], axis=1)\n",
    "render_d = render_d.reset_index(drop=True)\n",
    "\n",
    "#render out as html file -- open from Finder, not jupyter\n",
    "pd.set_option('display.max_colwidth', -1)\n",
    "HTML(render_d.to_html(escape=False))\n",
    "render_d.to_html('render10_test.html', escape=False)"
   ]
  },
  {
   "cell_type": "code",
   "execution_count": null,
   "metadata": {},
   "outputs": [],
   "source": [
    "#sort by best to worst intervention sketches\n",
    "render = render[render.condition == 'explanatory']\n",
    "render_q = render.sort_values(by=['inter_quantile'], ascending=False)\n",
    "render_q = render_q.drop(['Unnamed: 0'], axis=1)\n",
    "render_q = render_q.reset_index(drop=True)\n",
    "\n",
    "#render out as html file -- open from Finder, not jupyter\n",
    "pd.set_option('display.max_colwidth', -1)\n",
    "HTML(render_q.to_html(escape=False))\n",
    "render_q.to_html('render4_test.html', escape=False)"
   ]
  },
  {
   "cell_type": "code",
   "execution_count": null,
   "metadata": {
    "scrolled": true
   },
   "outputs": [],
   "source": [
    "sns.scatterplot(data=combined, \n",
    "                x='intervention_corrAns',\n",
    "                y='identification_corrAns')\n",
    "\n",
    "bound = 1\n",
    "plt.plot((0,bound),(0,bound),'k:')\n",
    "\n",
    "plt.title('Accuracy')\n",
    "plt.tight_layout()"
   ]
  },
  {
   "cell_type": "code",
   "execution_count": null,
   "metadata": {},
   "outputs": [],
   "source": [
    "top_exp = combined.copy()\n",
    "top_exp = top_exp.loc[top_exp['intervention_corrAns'] == 1]\n",
    "\n",
    "sns.histplot(data=top_exp, x=\"identification_corrAns\")"
   ]
  },
  {
   "cell_type": "code",
   "execution_count": null,
   "metadata": {},
   "outputs": [],
   "source": [
    "long = pd.melt(combined, id_vars=['sketchID', 'identification_corrAns', 'toy_id', 'inter_decile', 'inter_quantile', 'inter_half', 'ID_decile', 'ID_quantile', 'ID_half', 'condition'], value_vars=['propCausal', 'propFunctional', 'propBackground', 'propSymbol'])\n",
    "long.rename(columns={'variable':'type', 'value': 'proportion'}, inplace=True)"
   ]
  },
  {
   "cell_type": "code",
   "execution_count": null,
   "metadata": {},
   "outputs": [],
   "source": [
    "only_exp = long.loc[long['condition'] == 'explanatory']\n",
    "only_dep = long.loc[long['condition'] == 'depictive']"
   ]
  },
  {
   "cell_type": "code",
   "execution_count": null,
   "metadata": {},
   "outputs": [],
   "source": [
    "g = sns.catplot(data=only_exp, \n",
    "            x='inter_quantile',\n",
    "            y='proportion',\n",
    "            hue='type',\n",
    "            kind='bar'\n",
    "            )\n",
    "g._legend.remove()\n",
    "\n",
    "ax = g.facet_axis(0,0)\n",
    "for p in ax.patches:\n",
    "    ax.text(p.get_x() + 0.015, \n",
    "            p.get_height() * 1.2, \n",
    "            '{0:.2f}'.format(p.get_height()), \n",
    "            color='black', rotation='horizontal', size='small')\n",
    "    \n",
    "plt.tight_layout(rect=[0, 0, 1.75, 1.5])\n",
    "plt.legend(bbox_to_anchor=(1.05, 1), loc=2, borderaxespad=0.)"
   ]
  },
  {
   "cell_type": "code",
   "execution_count": null,
   "metadata": {},
   "outputs": [],
   "source": []
  },
  {
   "cell_type": "code",
   "execution_count": null,
   "metadata": {},
   "outputs": [],
   "source": []
  },
  {
   "cell_type": "code",
   "execution_count": null,
   "metadata": {},
   "outputs": [],
   "source": []
  },
  {
   "cell_type": "code",
   "execution_count": null,
   "metadata": {},
   "outputs": [],
   "source": []
  },
  {
   "cell_type": "code",
   "execution_count": null,
   "metadata": {},
   "outputs": [],
   "source": []
  },
  {
   "cell_type": "code",
   "execution_count": null,
   "metadata": {},
   "outputs": [],
   "source": []
  },
  {
   "cell_type": "code",
   "execution_count": null,
   "metadata": {},
   "outputs": [],
   "source": []
  },
  {
   "cell_type": "code",
   "execution_count": null,
   "metadata": {},
   "outputs": [],
   "source": [
    "sns.catplot(data=combined, \n",
    "            x='ID_quartile',\n",
    "            y='intervention_corrAns',\n",
    "            kind='bar',  \n",
    "            col='condition'\n",
    "           )\n",
    "\n",
    "plt.tight_layout()"
   ]
  },
  {
   "cell_type": "code",
   "execution_count": null,
   "metadata": {
    "scrolled": false
   },
   "outputs": [],
   "source": [
    "sns.catplot(data=combined, \n",
    "            x='ID_quartile',\n",
    "            y='propCausal',\n",
    "            kind='bar',  \n",
    "            col='condition'\n",
    "           )\n",
    "\n",
    "plt.tight_layout()"
   ]
  },
  {
   "cell_type": "code",
   "execution_count": null,
   "metadata": {},
   "outputs": [],
   "source": [
    "sns.catplot(data=combined, \n",
    "            x='ID_quartile',\n",
    "            y='propFunctional',\n",
    "            kind='bar',  \n",
    "            col='condition'\n",
    "           )\n",
    "\n",
    "plt.tight_layout()"
   ]
  },
  {
   "cell_type": "code",
   "execution_count": null,
   "metadata": {},
   "outputs": [],
   "source": [
    "sns.catplot(data=combined, \n",
    "            x='ID_quartile',\n",
    "            y='propBackground',\n",
    "            kind='bar',  \n",
    "            col='condition'\n",
    "           )\n",
    "\n",
    "plt.tight_layout()"
   ]
  },
  {
   "cell_type": "code",
   "execution_count": null,
   "metadata": {
    "scrolled": true
   },
   "outputs": [],
   "source": [
    "sns.catplot(data=combined, \n",
    "            x='ID_quartile',\n",
    "            y='propSymbol',\n",
    "            kind='bar',  \n",
    "            col='condition'\n",
    "           )\n",
    "\n",
    "plt.tight_layout()"
   ]
  },
  {
   "cell_type": "code",
   "execution_count": null,
   "metadata": {},
   "outputs": [],
   "source": [
    "sns.catplot(data=combined, \n",
    "            x='inter_quartile',\n",
    "            y='propCausal',\n",
    "            kind='bar',  \n",
    "            col='condition'\n",
    "           )\n",
    "\n",
    "plt.tight_layout()"
   ]
  },
  {
   "cell_type": "code",
   "execution_count": null,
   "metadata": {},
   "outputs": [],
   "source": [
    "sns.catplot(data=combined, \n",
    "            x='inter_quartile',\n",
    "            y='propFunctional',\n",
    "            kind='bar',  \n",
    "            col='condition'\n",
    "           )\n",
    "\n",
    "plt.tight_layout()"
   ]
  },
  {
   "cell_type": "code",
   "execution_count": null,
   "metadata": {},
   "outputs": [],
   "source": [
    "sns.catplot(data=combined, \n",
    "            x='inter_quartile',\n",
    "            y='propBackground',\n",
    "            kind='bar',  \n",
    "            col='condition'\n",
    "           )\n",
    "\n",
    "plt.tight_layout()"
   ]
  },
  {
   "cell_type": "code",
   "execution_count": null,
   "metadata": {
    "scrolled": true
   },
   "outputs": [],
   "source": [
    "sns.catplot(data=combined, \n",
    "            x='inter_quartile',\n",
    "            y='propSymbol',\n",
    "            kind='bar',  \n",
    "            col='condition'\n",
    "           )\n",
    "\n",
    "plt.tight_layout()"
   ]
  },
  {
   "cell_type": "code",
   "execution_count": null,
   "metadata": {},
   "outputs": [],
   "source": []
  },
  {
   "cell_type": "code",
   "execution_count": null,
   "metadata": {},
   "outputs": [],
   "source": []
  },
  {
   "cell_type": "markdown",
   "metadata": {},
   "source": [
    "### Response time"
   ]
  },
  {
   "cell_type": "code",
   "execution_count": null,
   "metadata": {},
   "outputs": [],
   "source": [
    "df['rtQuartile'] = pd.cut(df['rt_annotationToKeyResponse'], bins=4, labels=np.arange(4))\n",
    "sns.catplot(data=df, \n",
    "            x='rtQuartile',\n",
    "            y='corrAns',\n",
    "            kind='bar',  \n",
    "            col='condition'\n",
    "           )\n",
    "\n",
    "plt.tight_layout()"
   ]
  },
  {
   "cell_type": "code",
   "execution_count": null,
   "metadata": {
    "scrolled": false
   },
   "outputs": [],
   "source": [
    "sns.ecdfplot(data=df, x=\"rt_annotationToKeyResponse\", hue='condition')"
   ]
  },
  {
   "cell_type": "code",
   "execution_count": null,
   "metadata": {},
   "outputs": [],
   "source": []
  }
 ],
 "metadata": {
  "kernelspec": {
   "display_name": "Python 3",
   "language": "python",
   "name": "python3"
  },
  "language_info": {
   "codemirror_mode": {
    "name": "ipython",
    "version": 3
   },
   "file_extension": ".py",
   "mimetype": "text/x-python",
   "name": "python",
   "nbconvert_exporter": "python",
   "pygments_lexer": "ipython3",
   "version": "3.7.3"
  }
 },
 "nbformat": 4,
 "nbformat_minor": 2
}
